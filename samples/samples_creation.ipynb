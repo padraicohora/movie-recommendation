{
 "cells": [
  {
   "cell_type": "code",
   "execution_count": 1,
   "metadata": {},
   "outputs": [],
   "source": [
    "import pandas as pd\n",
    "import numpy as np\n",
    "import matplotlib.pyplot as plt\n",
    "chunksize=100000\n",
    "import seaborn as sns\n",
    "import matplotlib.pyplot as plt"
   ]
  },
  {
   "cell_type": "code",
   "execution_count": 4,
   "metadata": {},
   "outputs": [
    {
     "name": "stdout",
     "output_type": "stream",
     "text": [
      "<class 'pandas.core.frame.DataFrame'>\n",
      "RangeIndex: 20000263 entries, 0 to 20000262\n",
      "Data columns (total 4 columns):\n",
      " #   Column     Dtype  \n",
      "---  ------     -----  \n",
      " 0   userId     int64  \n",
      " 1   movieId    int64  \n",
      " 2   rating     float64\n",
      " 3   timestamp  int64  \n",
      "dtypes: float64(1), int64(3)\n",
      "memory usage: 610.4 MB\n",
      "None\n"
     ]
    }
   ],
   "source": [
    "ratings_raw = pd.read_csv('../ml-20m/ratings.csv')\n",
    "\n",
    "print(ratings_raw.info())"
   ]
  },
  {
   "cell_type": "code",
   "execution_count": 12,
   "metadata": {},
   "outputs": [
    {
     "name": "stdout",
     "output_type": "stream",
     "text": [
      "total unique users 138493\n",
      "10% of  unique users 13849\n",
      "<class 'pandas.core.frame.DataFrame'>\n",
      "Index: 1982131 entries, 0 to 20000262\n",
      "Data columns (total 4 columns):\n",
      " #   Column     Dtype  \n",
      "---  ------     -----  \n",
      " 0   userId     int64  \n",
      " 1   movieId    int64  \n",
      " 2   rating     float64\n",
      " 3   timestamp  int64  \n",
      "dtypes: float64(1), int64(3)\n",
      "memory usage: 75.6 MB\n",
      "None\n"
     ]
    }
   ],
   "source": [
    "# Get unique users\n",
    "unique_users = ratings_raw['userId'].unique()\n",
    "\n",
    "print(\"total unique users\", len(unique_users))\n",
    "\n",
    "# Calculate 10% of the unique users\n",
    "num_users_10_percent = int(len(unique_users) * 0.1)\n",
    "print(\"10% of  unique users\", num_users_10_percent)\n",
    "\n",
    "# Sample 10% of the unique users\n",
    "sampled_users = np.random.choice(unique_users, num_users_10_percent, replace=False)\n",
    "\n",
    "# Get all data associated with the sampled users\n",
    "sample_ratings = ratings_raw[ratings_raw['userId'].isin(sampled_users)]\n",
    "\n",
    "print(sample_ratings.info())\n"
   ]
  },
  {
   "cell_type": "code",
   "execution_count": 14,
   "metadata": {},
   "outputs": [],
   "source": [
    "sample_ratings.to_csv('./random_10th_user_ratings.csv', index=False)"
   ]
  },
  {
   "cell_type": "code",
   "execution_count": 15,
   "metadata": {},
   "outputs": [
    {
     "name": "stdout",
     "output_type": "stream",
     "text": [
      "<class 'pandas.core.frame.DataFrame'>\n",
      "RangeIndex: 1982131 entries, 0 to 1982130\n",
      "Data columns (total 4 columns):\n",
      " #   Column     Dtype  \n",
      "---  ------     -----  \n",
      " 0   userId     int64  \n",
      " 1   movieId    int64  \n",
      " 2   rating     float64\n",
      " 3   timestamp  int64  \n",
      "dtypes: float64(1), int64(3)\n",
      "memory usage: 60.5 MB\n",
      "None\n"
     ]
    }
   ],
   "source": [
    "sampled_user_ratings = pd.read_csv('./random_10th_user_ratings.csv')\n",
    "\n",
    "print(sampled_user_ratings.info())"
   ]
  }
 ],
 "metadata": {
  "kernelspec": {
   "display_name": "movie-recommender",
   "language": "python",
   "name": "python3"
  },
  "language_info": {
   "codemirror_mode": {
    "name": "ipython",
    "version": 3
   },
   "file_extension": ".py",
   "mimetype": "text/x-python",
   "name": "python",
   "nbconvert_exporter": "python",
   "pygments_lexer": "ipython3",
   "version": "3.10.14"
  }
 },
 "nbformat": 4,
 "nbformat_minor": 2
}
