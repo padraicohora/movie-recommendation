{
 "cells": [
  {
   "cell_type": "code",
   "execution_count": 1,
   "id": "31931e15-7727-4a29-9dd3-4ab6834df4d6",
   "metadata": {
    "ExecuteTime": {
     "end_time": "2024-09-27T14:16:21.494Z",
     "start_time": "2024-09-27T14:16:16.576558Z"
    }
   },
   "outputs": [],
   "source": [
    "import pandas as pd"
   ]
  },
  {
   "cell_type": "markdown",
   "id": "2d008217b9b3c276",
   "metadata": {},
   "source": "Load each table"
  },
  {
   "cell_type": "code",
   "id": "86cd5f2b64455ddf",
   "metadata": {
    "ExecuteTime": {
     "end_time": "2024-09-27T14:25:07.714629Z",
     "start_time": "2024-09-27T14:25:04.451566Z"
    }
   },
   "source": [
    "ratings_1 = pd.read_csv('../ml-20m/ratings.csv')\n",
    "print(ratings_1.head(20))\n",
    "print(ratings_1.info())"
   ],
   "outputs": [
    {
     "name": "stdout",
     "output_type": "stream",
     "text": [
      "<class 'pandas.core.frame.DataFrame'>\n",
      "RangeIndex: 20000263 entries, 0 to 20000262\n",
      "Data columns (total 4 columns):\n",
      " #   Column     Dtype  \n",
      "---  ------     -----  \n",
      " 0   userId     int64  \n",
      " 1   movieId    int64  \n",
      " 2   rating     float64\n",
      " 3   timestamp  int64  \n",
      "dtypes: float64(1), int64(3)\n",
      "memory usage: 610.4 MB\n",
      "None\n"
     ]
    }
   ],
   "execution_count": 5
  },
  {
   "metadata": {},
   "cell_type": "markdown",
   "source": "I notice the types are not being imported correctly. the ids should be strings, as they are not numbers. The timestamp could be converted to a Panda datetime object. This can all be achieved using the read_csv arguments. I  am also setting the chunk size to 500,000 so my computer RAM won't get full",
   "id": "56d740c1a7535622"
  },
  {
   "metadata": {
    "ExecuteTime": {
     "end_time": "2024-09-27T15:05:27.770938Z",
     "start_time": "2024-09-27T15:04:49.815439Z"
    }
   },
   "cell_type": "code",
   "source": [
    "chunksize=500000\n",
    "ratings_2 = pd.DataFrame()  # initialize an empty dataframe\n",
    "for index, chunk in enumerate(pd.read_csv('../ml-20m/ratings.csv',\n",
    "                         dtype={'userId': int, 'movieId': int, \"rating\": float, 'timestamp': int},\n",
    "                         chunksize=chunksize,\n",
    "                         parse_dates=['timestamp'],\n",
    "                         date_parser=pd.to_datetime\n",
    "                         )):\n",
    "    # Perform operations on the chunk\n",
    "    # processed_chunk = chunk[chunk['column_name'] > 0]  # Example operation\n",
    "    ratings_2 = pd.concat([ratings_2, chunk])\n",
    "    print(f\"Chunk {index} loaded\")\n",
    "\n",
    "print(ratings_2.info())"
   ],
   "id": "9759a70262594370",
   "outputs": [
    {
     "name": "stderr",
     "output_type": "stream",
     "text": [
      "/var/folders/55/xtgthnr12lz2b2j6l0pqj7zm0459s6/T/ipykernel_36933/1872555690.py:3: FutureWarning: The argument 'date_parser' is deprecated and will be removed in a future version. Please use 'date_format' instead, or read your data in as 'object' dtype and then call 'to_datetime'.\n",
      "  for index, chunk in enumerate(pd.read_csv('../ml-20m/ratings.csv',\n"
     ]
    },
    {
     "name": "stdout",
     "output_type": "stream",
     "text": [
      "Chunk 0 loaded\n",
      "Chunk 1 loaded\n",
      "Chunk 2 loaded\n",
      "Chunk 3 loaded\n",
      "Chunk 4 loaded\n",
      "Chunk 5 loaded\n",
      "Chunk 6 loaded\n",
      "Chunk 7 loaded\n",
      "Chunk 8 loaded\n",
      "Chunk 9 loaded\n",
      "Chunk 10 loaded\n",
      "Chunk 11 loaded\n",
      "Chunk 12 loaded\n",
      "Chunk 13 loaded\n",
      "Chunk 14 loaded\n",
      "Chunk 15 loaded\n",
      "Chunk 16 loaded\n",
      "Chunk 17 loaded\n",
      "Chunk 18 loaded\n",
      "Chunk 19 loaded\n",
      "Chunk 20 loaded\n",
      "Chunk 21 loaded\n",
      "Chunk 22 loaded\n",
      "Chunk 23 loaded\n",
      "Chunk 24 loaded\n",
      "Chunk 25 loaded\n",
      "Chunk 26 loaded\n",
      "Chunk 27 loaded\n",
      "Chunk 28 loaded\n",
      "Chunk 29 loaded\n",
      "Chunk 30 loaded\n",
      "Chunk 31 loaded\n",
      "Chunk 32 loaded\n",
      "Chunk 33 loaded\n",
      "Chunk 34 loaded\n",
      "Chunk 35 loaded\n",
      "Chunk 36 loaded\n",
      "Chunk 37 loaded\n",
      "Chunk 38 loaded\n",
      "Chunk 39 loaded\n",
      "Chunk 40 loaded\n",
      "<class 'pandas.core.frame.DataFrame'>\n",
      "RangeIndex: 20000263 entries, 0 to 20000262\n",
      "Data columns (total 4 columns):\n",
      " #   Column     Dtype         \n",
      "---  ------     -----         \n",
      " 0   userId     int64         \n",
      " 1   movieId    int64         \n",
      " 2   rating     float64       \n",
      " 3   timestamp  datetime64[ns]\n",
      "dtypes: datetime64[ns](1), float64(1), int64(2)\n",
      "memory usage: 610.4 MB\n",
      "None\n"
     ]
    }
   ],
   "execution_count": 24
  },
  {
   "metadata": {},
   "cell_type": "markdown",
   "source": "Now I have my import function down, I want to continue in a DRY coding style. I will create an array of dataframe and import each table into the dataframe using a function  ",
   "id": "ea1849a87c44e1bb"
  },
  {
   "metadata": {
    "ExecuteTime": {
     "end_time": "2024-09-27T15:59:08.811801Z",
     "start_time": "2024-09-27T15:59:01.946249Z"
    }
   },
   "cell_type": "code",
   "source": [
    "# import function\n",
    "def import_dataset(ds, df, dtype={}, parse_dates=[], chunksize=chunksize):\n",
    "    \n",
    "    for index, chunk in enumerate(pd.read_csv(f'../ml-20m/{ds}.csv',\n",
    "                         dtype=dtype,\n",
    "                         chunksize=chunksize,\n",
    "                         parse_dates=parse_dates,\n",
    "                         date_parser=pd.to_datetime\n",
    "                         )):\n",
    "        # Perform operations on the chunk\n",
    "        df = pd.concat([df, chunk])\n",
    "        print(f\"{ds} chunk {index} loaded\")\n",
    "    print(ds)\n",
    "    print(df.info())\n",
    "    print(df.head(5))\n",
    "        \n",
    "\n",
    "ratings = pd.DataFrame()\n",
    "movies = pd.DataFrame()\n",
    "tags = pd.DataFrame()\n",
    "links = pd.DataFrame()\n",
    "\n",
    "df_array = [\n",
    "    {\n",
    "        \"ratings\":ratings, \n",
    "        \"dtype\": {'userId': int, 'movieId': int, \"rating\": float, 'timestamp': int},\n",
    "        \"parse_dates\":['timestamp']\n",
    "    },\n",
    "    {\n",
    "        \"movies\":movies, \n",
    "        # \"dtype\": {'userId': int, 'movieId': int, \"rating\": float, 'timestamp': int},\n",
    "        # \"parse_dates\":['timestamp']\n",
    "    },\n",
    "    {\n",
    "        \"tags\":tags,\n",
    "    },\n",
    "    {\n",
    "        \"links\":links,\n",
    "    }\n",
    "        \n",
    "]\n",
    "\n",
    "for item in df_array:\n",
    "    ds_name = [*item.keys()][0]\n",
    "    ds_df = [*item.values()][0]\n",
    "    # ds_dt = [*item.values()][2]\n",
    "    # ds_pd = [*item.values()][3]\n",
    "    import_dataset(ds_name, ds_df)\n",
    "    # for index, ds, df in enumerate(item.items()):\n",
    "    #     if index == 0:\n",
    "            \n",
    "    \n",
    "# for item in df_array:\n",
    "#     for ds, df in item.items():\n",
    "#         print(ds.head(20))\n",
    "    # print(ds)"
   ],
   "id": "3dfb06c48d393be1",
   "outputs": [
    {
     "name": "stderr",
     "output_type": "stream",
     "text": [
      "/var/folders/55/xtgthnr12lz2b2j6l0pqj7zm0459s6/T/ipykernel_36933/812137793.py:4: FutureWarning: The argument 'date_parser' is deprecated and will be removed in a future version. Please use 'date_format' instead, or read your data in as 'object' dtype and then call 'to_datetime'.\n",
      "  for index, chunk in enumerate(pd.read_csv(f'../ml-20m/{ds}.csv',\n"
     ]
    },
    {
     "name": "stdout",
     "output_type": "stream",
     "text": [
      "ratings chunk 0 loaded\n",
      "ratings chunk 1 loaded\n",
      "ratings chunk 2 loaded\n",
      "ratings chunk 3 loaded\n",
      "ratings chunk 4 loaded\n",
      "ratings chunk 5 loaded\n",
      "ratings chunk 6 loaded\n",
      "ratings chunk 7 loaded\n",
      "ratings chunk 8 loaded\n",
      "ratings chunk 9 loaded\n",
      "ratings chunk 10 loaded\n",
      "ratings chunk 11 loaded\n",
      "ratings chunk 12 loaded\n",
      "ratings chunk 13 loaded\n",
      "ratings chunk 14 loaded\n",
      "ratings chunk 15 loaded\n",
      "ratings chunk 16 loaded\n",
      "ratings chunk 17 loaded\n",
      "ratings chunk 18 loaded\n",
      "ratings chunk 19 loaded\n",
      "ratings chunk 20 loaded\n",
      "ratings chunk 21 loaded\n",
      "ratings chunk 22 loaded\n",
      "ratings chunk 23 loaded\n",
      "ratings chunk 24 loaded\n",
      "ratings chunk 25 loaded\n",
      "ratings chunk 26 loaded\n",
      "ratings chunk 27 loaded\n",
      "ratings chunk 28 loaded\n",
      "ratings chunk 29 loaded\n",
      "ratings chunk 30 loaded\n",
      "ratings chunk 31 loaded\n",
      "ratings chunk 32 loaded\n",
      "ratings chunk 33 loaded\n",
      "ratings chunk 34 loaded\n",
      "ratings chunk 35 loaded\n",
      "ratings chunk 36 loaded\n",
      "ratings chunk 37 loaded\n",
      "ratings chunk 38 loaded\n",
      "ratings chunk 39 loaded\n",
      "ratings chunk 40 loaded\n",
      "ratings\n",
      "<class 'pandas.core.frame.DataFrame'>\n",
      "RangeIndex: 20000263 entries, 0 to 20000262\n",
      "Data columns (total 4 columns):\n",
      " #   Column     Dtype  \n",
      "---  ------     -----  \n",
      " 0   userId     int64  \n",
      " 1   movieId    int64  \n",
      " 2   rating     float64\n",
      " 3   timestamp  int64  \n",
      "dtypes: float64(1), int64(3)\n",
      "memory usage: 610.4 MB\n",
      "None\n",
      "   userId  movieId  rating   timestamp\n",
      "0       1        2     3.5  1112486027\n",
      "1       1       29     3.5  1112484676\n",
      "2       1       32     3.5  1112484819\n",
      "3       1       47     3.5  1112484727\n",
      "4       1       50     3.5  1112484580\n",
      "movies chunk 0 loaded\n",
      "movies\n",
      "<class 'pandas.core.frame.DataFrame'>\n",
      "RangeIndex: 27278 entries, 0 to 27277\n",
      "Data columns (total 3 columns):\n",
      " #   Column   Non-Null Count  Dtype \n",
      "---  ------   --------------  ----- \n",
      " 0   movieId  27278 non-null  int64 \n",
      " 1   title    27278 non-null  object\n",
      " 2   genres   27278 non-null  object\n",
      "dtypes: int64(1), object(2)\n",
      "memory usage: 639.5+ KB\n",
      "None\n",
      "   movieId                               title  \\\n",
      "0        1                    Toy Story (1995)   \n",
      "1        2                      Jumanji (1995)   \n",
      "2        3             Grumpier Old Men (1995)   \n",
      "3        4            Waiting to Exhale (1995)   \n",
      "4        5  Father of the Bride Part II (1995)   \n",
      "\n",
      "                                        genres  \n",
      "0  Adventure|Animation|Children|Comedy|Fantasy  \n",
      "1                   Adventure|Children|Fantasy  \n",
      "2                               Comedy|Romance  \n",
      "3                         Comedy|Drama|Romance  \n",
      "4                                       Comedy  \n",
      "tags chunk 0 loaded\n",
      "tags\n",
      "<class 'pandas.core.frame.DataFrame'>\n",
      "RangeIndex: 465564 entries, 0 to 465563\n",
      "Data columns (total 4 columns):\n",
      " #   Column     Non-Null Count   Dtype \n",
      "---  ------     --------------   ----- \n",
      " 0   userId     465564 non-null  int64 \n",
      " 1   movieId    465564 non-null  int64 \n",
      " 2   tag        465548 non-null  object\n",
      " 3   timestamp  465564 non-null  int64 \n",
      "dtypes: int64(3), object(1)\n",
      "memory usage: 14.2+ MB\n",
      "None\n",
      "   userId  movieId            tag   timestamp\n",
      "0      18     4141    Mark Waters  1240597180\n",
      "1      65      208      dark hero  1368150078\n",
      "2      65      353      dark hero  1368150079\n",
      "3      65      521  noir thriller  1368149983\n",
      "4      65      592      dark hero  1368150078\n",
      "links chunk 0 loaded\n",
      "links\n",
      "<class 'pandas.core.frame.DataFrame'>\n",
      "RangeIndex: 27278 entries, 0 to 27277\n",
      "Data columns (total 3 columns):\n",
      " #   Column   Non-Null Count  Dtype  \n",
      "---  ------   --------------  -----  \n",
      " 0   movieId  27278 non-null  int64  \n",
      " 1   imdbId   27278 non-null  int64  \n",
      " 2   tmdbId   27026 non-null  float64\n",
      "dtypes: float64(1), int64(2)\n",
      "memory usage: 639.5 KB\n",
      "None\n",
      "   movieId  imdbId   tmdbId\n",
      "0        1  114709    862.0\n",
      "1        2  113497   8844.0\n",
      "2        3  113228  15602.0\n",
      "3        4  114885  31357.0\n",
      "4        5  113041  11862.0\n"
     ]
    },
    {
     "name": "stderr",
     "output_type": "stream",
     "text": [
      "/var/folders/55/xtgthnr12lz2b2j6l0pqj7zm0459s6/T/ipykernel_36933/812137793.py:4: FutureWarning: The argument 'date_parser' is deprecated and will be removed in a future version. Please use 'date_format' instead, or read your data in as 'object' dtype and then call 'to_datetime'.\n",
      "  for index, chunk in enumerate(pd.read_csv(f'../ml-20m/{ds}.csv',\n",
      "/var/folders/55/xtgthnr12lz2b2j6l0pqj7zm0459s6/T/ipykernel_36933/812137793.py:4: FutureWarning: The argument 'date_parser' is deprecated and will be removed in a future version. Please use 'date_format' instead, or read your data in as 'object' dtype and then call 'to_datetime'.\n",
      "  for index, chunk in enumerate(pd.read_csv(f'../ml-20m/{ds}.csv',\n",
      "/var/folders/55/xtgthnr12lz2b2j6l0pqj7zm0459s6/T/ipykernel_36933/812137793.py:4: FutureWarning: The argument 'date_parser' is deprecated and will be removed in a future version. Please use 'date_format' instead, or read your data in as 'object' dtype and then call 'to_datetime'.\n",
      "  for index, chunk in enumerate(pd.read_csv(f'../ml-20m/{ds}.csv',\n"
     ]
    }
   ],
   "execution_count": 50
  },
  {
   "metadata": {},
   "cell_type": "markdown",
   "source": "",
   "id": "18a53a23357d3f3a"
  }
 ],
 "metadata": {
  "kernelspec": {
   "display_name": "Python 3 (ipykernel)",
   "language": "python",
   "name": "python3"
  },
  "language_info": {
   "codemirror_mode": {
    "name": "ipython",
    "version": 3
   },
   "file_extension": ".py",
   "mimetype": "text/x-python",
   "name": "python",
   "nbconvert_exporter": "python",
   "pygments_lexer": "ipython3",
   "version": "3.12.4"
  }
 },
 "nbformat": 4,
 "nbformat_minor": 5
}
