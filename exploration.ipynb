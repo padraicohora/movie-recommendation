{
 "cells": [
  {
   "cell_type": "code",
   "execution_count": 33,
   "id": "31931e15-7727-4a29-9dd3-4ab6834df4d6",
   "metadata": {
    "ExecuteTime": {
     "end_time": "2024-09-27T14:16:21.494Z",
     "start_time": "2024-09-27T14:16:16.576558Z"
    }
   },
   "outputs": [],
   "source": [
    "\n",
    "import pandas as pd\n",
    "import numpy as np\n",
    "chunksize=100000\n",
    "import seaborn as sns\n",
    "import matplotlib.pyplot as plt\n"
   ]
  },
  {
   "cell_type": "markdown",
   "id": "2d008217b9b3c276",
   "metadata": {},
   "source": [
    "Load each table"
   ]
  },
  {
   "cell_type": "code",
   "execution_count": 6,
   "id": "86cd5f2b64455ddf",
   "metadata": {
    "ExecuteTime": {
     "end_time": "2024-09-27T14:25:07.714629Z",
     "start_time": "2024-09-27T14:25:04.451566Z"
    }
   },
   "outputs": [
    {
     "name": "stdout",
     "output_type": "stream",
     "text": [
      "   userId  movieId  rating   timestamp\n",
      "0       1        2     3.5  1112486027\n",
      "1       1       29     3.5  1112484676\n",
      "2       1       32     3.5  1112484819\n",
      "3       1       47     3.5  1112484727\n",
      "4       1       50     3.5  1112484580\n",
      "5       1      112     3.5  1094785740\n",
      "6       1      151     4.0  1094785734\n",
      "7       1      223     4.0  1112485573\n",
      "8       1      253     4.0  1112484940\n",
      "9       1      260     4.0  1112484826\n",
      "<class 'pandas.core.frame.DataFrame'>\n",
      "RangeIndex: 20000263 entries, 0 to 20000262\n",
      "Data columns (total 4 columns):\n",
      " #   Column     Dtype  \n",
      "---  ------     -----  \n",
      " 0   userId     int64  \n",
      " 1   movieId    int64  \n",
      " 2   rating     float64\n",
      " 3   timestamp  int64  \n",
      "dtypes: float64(1), int64(3)\n",
      "memory usage: 610.4 MB\n",
      "None\n"
     ]
    }
   ],
   "source": [
    "ratings_1 = pd.read_csv('../ml-20m/ratings.csv')\n",
    "print(ratings_1.head(10))\n",
    "print(ratings_1.info())"
   ]
  },
  {
   "cell_type": "markdown",
   "id": "56d740c1a7535622",
   "metadata": {},
   "source": [
    "I notice the types are not being imported correctly. the ids should be strings, as they are not numbers. The timestamp could be converted to a Panda datetime object. This can all be achieved using the read_csv arguments. I  am also setting the chunk size to 500,000 so my computer RAM won't get full"
   ]
  },
  {
   "cell_type": "code",
   "execution_count": 7,
   "id": "9759a70262594370",
   "metadata": {
    "ExecuteTime": {
     "end_time": "2024-09-27T15:05:27.770938Z",
     "start_time": "2024-09-27T15:04:49.815439Z"
    }
   },
   "outputs": [
    {
     "name": "stdout",
     "output_type": "stream",
     "text": [
      "Chunk 0 loaded\n"
     ]
    },
    {
     "name": "stderr",
     "output_type": "stream",
     "text": [
      "/var/folders/55/xtgthnr12lz2b2j6l0pqj7zm0459s6/T/ipykernel_73180/770525738.py:3: FutureWarning: The argument 'date_parser' is deprecated and will be removed in a future version. Please use 'date_format' instead, or read your data in as 'object' dtype and then call 'to_datetime'.\n",
      "  for index, chunk in enumerate(pd.read_csv('../ml-20m/ratings.csv',\n"
     ]
    },
    {
     "name": "stdout",
     "output_type": "stream",
     "text": [
      "Chunk 1 loaded\n",
      "Chunk 2 loaded\n",
      "Chunk 3 loaded\n",
      "Chunk 4 loaded\n",
      "Chunk 5 loaded\n",
      "Chunk 6 loaded\n",
      "Chunk 7 loaded\n",
      "Chunk 8 loaded\n",
      "Chunk 9 loaded\n",
      "Chunk 10 loaded\n",
      "Chunk 11 loaded\n",
      "Chunk 12 loaded\n",
      "Chunk 13 loaded\n",
      "Chunk 14 loaded\n",
      "Chunk 15 loaded\n",
      "Chunk 16 loaded\n",
      "Chunk 17 loaded\n",
      "Chunk 18 loaded\n",
      "Chunk 19 loaded\n",
      "Chunk 20 loaded\n",
      "Chunk 21 loaded\n",
      "Chunk 22 loaded\n",
      "Chunk 23 loaded\n",
      "Chunk 24 loaded\n",
      "Chunk 25 loaded\n",
      "Chunk 26 loaded\n",
      "Chunk 27 loaded\n",
      "Chunk 28 loaded\n",
      "Chunk 29 loaded\n",
      "Chunk 30 loaded\n",
      "Chunk 31 loaded\n",
      "Chunk 32 loaded\n",
      "Chunk 33 loaded\n",
      "Chunk 34 loaded\n",
      "Chunk 35 loaded\n",
      "Chunk 36 loaded\n",
      "Chunk 37 loaded\n",
      "Chunk 38 loaded\n",
      "Chunk 39 loaded\n",
      "Chunk 40 loaded\n",
      "Chunk 41 loaded\n",
      "Chunk 42 loaded\n",
      "Chunk 43 loaded\n",
      "Chunk 44 loaded\n",
      "Chunk 45 loaded\n",
      "Chunk 46 loaded\n",
      "Chunk 47 loaded\n",
      "Chunk 48 loaded\n",
      "Chunk 49 loaded\n",
      "Chunk 50 loaded\n",
      "Chunk 51 loaded\n",
      "Chunk 52 loaded\n",
      "Chunk 53 loaded\n",
      "Chunk 54 loaded\n",
      "Chunk 55 loaded\n",
      "Chunk 56 loaded\n",
      "Chunk 57 loaded\n",
      "Chunk 58 loaded\n",
      "Chunk 59 loaded\n",
      "Chunk 60 loaded\n",
      "Chunk 61 loaded\n",
      "Chunk 62 loaded\n",
      "Chunk 63 loaded\n",
      "Chunk 64 loaded\n",
      "Chunk 65 loaded\n",
      "Chunk 66 loaded\n",
      "Chunk 67 loaded\n",
      "Chunk 68 loaded\n",
      "Chunk 69 loaded\n",
      "Chunk 70 loaded\n",
      "Chunk 71 loaded\n",
      "Chunk 72 loaded\n",
      "Chunk 73 loaded\n",
      "Chunk 74 loaded\n",
      "Chunk 75 loaded\n",
      "Chunk 76 loaded\n",
      "Chunk 77 loaded\n",
      "Chunk 78 loaded\n",
      "Chunk 79 loaded\n",
      "Chunk 80 loaded\n",
      "Chunk 81 loaded\n",
      "Chunk 82 loaded\n",
      "Chunk 83 loaded\n",
      "Chunk 84 loaded\n",
      "Chunk 85 loaded\n",
      "Chunk 86 loaded\n",
      "Chunk 87 loaded\n",
      "Chunk 88 loaded\n",
      "Chunk 89 loaded\n",
      "Chunk 90 loaded\n",
      "Chunk 91 loaded\n",
      "Chunk 92 loaded\n",
      "Chunk 93 loaded\n",
      "Chunk 94 loaded\n",
      "Chunk 95 loaded\n",
      "Chunk 96 loaded\n",
      "Chunk 97 loaded\n",
      "Chunk 98 loaded\n",
      "Chunk 99 loaded\n",
      "Chunk 100 loaded\n",
      "Chunk 101 loaded\n",
      "Chunk 102 loaded\n",
      "Chunk 103 loaded\n",
      "Chunk 104 loaded\n",
      "Chunk 105 loaded\n",
      "Chunk 106 loaded\n",
      "Chunk 107 loaded\n",
      "Chunk 108 loaded\n",
      "Chunk 109 loaded\n",
      "Chunk 110 loaded\n",
      "Chunk 111 loaded\n",
      "Chunk 112 loaded\n",
      "Chunk 113 loaded\n",
      "Chunk 114 loaded\n",
      "Chunk 115 loaded\n",
      "Chunk 116 loaded\n",
      "Chunk 117 loaded\n",
      "Chunk 118 loaded\n",
      "Chunk 119 loaded\n",
      "Chunk 120 loaded\n",
      "Chunk 121 loaded\n",
      "Chunk 122 loaded\n",
      "Chunk 123 loaded\n",
      "Chunk 124 loaded\n",
      "Chunk 125 loaded\n",
      "Chunk 126 loaded\n",
      "Chunk 127 loaded\n",
      "Chunk 128 loaded\n",
      "Chunk 129 loaded\n",
      "Chunk 130 loaded\n",
      "Chunk 131 loaded\n",
      "Chunk 132 loaded\n",
      "Chunk 133 loaded\n",
      "Chunk 134 loaded\n",
      "Chunk 135 loaded\n",
      "Chunk 136 loaded\n",
      "Chunk 137 loaded\n",
      "Chunk 138 loaded\n",
      "Chunk 139 loaded\n",
      "Chunk 140 loaded\n",
      "Chunk 141 loaded\n",
      "Chunk 142 loaded\n",
      "Chunk 143 loaded\n",
      "Chunk 144 loaded\n",
      "Chunk 145 loaded\n",
      "Chunk 146 loaded\n",
      "Chunk 147 loaded\n",
      "Chunk 148 loaded\n",
      "Chunk 149 loaded\n",
      "Chunk 150 loaded\n",
      "Chunk 151 loaded\n",
      "Chunk 152 loaded\n",
      "Chunk 153 loaded\n",
      "Chunk 154 loaded\n",
      "Chunk 155 loaded\n",
      "Chunk 156 loaded\n",
      "Chunk 157 loaded\n",
      "Chunk 158 loaded\n",
      "Chunk 159 loaded\n",
      "Chunk 160 loaded\n",
      "Chunk 161 loaded\n",
      "Chunk 162 loaded\n",
      "Chunk 163 loaded\n",
      "Chunk 164 loaded\n",
      "Chunk 165 loaded\n",
      "Chunk 166 loaded\n",
      "Chunk 167 loaded\n",
      "Chunk 168 loaded\n",
      "Chunk 169 loaded\n",
      "Chunk 170 loaded\n",
      "Chunk 171 loaded\n",
      "Chunk 172 loaded\n",
      "Chunk 173 loaded\n",
      "Chunk 174 loaded\n",
      "Chunk 175 loaded\n",
      "Chunk 176 loaded\n",
      "Chunk 177 loaded\n",
      "Chunk 178 loaded\n",
      "Chunk 179 loaded\n",
      "Chunk 180 loaded\n",
      "Chunk 181 loaded\n",
      "Chunk 182 loaded\n",
      "Chunk 183 loaded\n",
      "Chunk 184 loaded\n",
      "Chunk 185 loaded\n",
      "Chunk 186 loaded\n",
      "Chunk 187 loaded\n",
      "Chunk 188 loaded\n",
      "Chunk 189 loaded\n",
      "Chunk 190 loaded\n",
      "Chunk 191 loaded\n",
      "Chunk 192 loaded\n",
      "Chunk 193 loaded\n",
      "Chunk 194 loaded\n",
      "Chunk 195 loaded\n",
      "Chunk 196 loaded\n",
      "Chunk 197 loaded\n",
      "Chunk 198 loaded\n",
      "Chunk 199 loaded\n",
      "Chunk 200 loaded\n",
      "Ratings dataset loaded\n"
     ]
    }
   ],
   "source": [
    "\n",
    "\n",
    "# ratings\n",
    "# ratings = pd.DataFrame()  # initialize an empty dataframe\n",
    "# for index, chunk in enumerate(pd.read_csv('../ml-20m/ratings.csv',\n",
    "#                          dtype={'userId': str, 'movieId': str, \"rating\": float, 'timestamp': int},\n",
    "#                          chunksize=chunksize,\n",
    "#                          parse_dates=['timestamp'],\n",
    "#                          date_parser=pd.to_datetime\n",
    "#                          )):\n",
    "#     # Perform operations on the chunk\n",
    "#     # processed_chunk = chunk[chunk['column_name'] > 0]  # Example operation\n",
    "#     ratings = pd.concat([ratings, chunk])\n",
    "#     print(f\"Chunk {index} loaded\")\n",
    "# print(\"Ratings dataset loaded\")"
   ]
  },
  {
   "cell_type": "code",
   "execution_count": 8,
   "id": "c933657e",
   "metadata": {},
   "outputs": [
    {
     "name": "stdout",
     "output_type": "stream",
     "text": [
      "  userId movieId  rating                     timestamp\n",
      "0      1       2     3.5 1970-01-01 00:00:01.112486027\n",
      "1      1      29     3.5 1970-01-01 00:00:01.112484676\n",
      "2      1      32     3.5 1970-01-01 00:00:01.112484819\n",
      "3      1      47     3.5 1970-01-01 00:00:01.112484727\n",
      "4      1      50     3.5 1970-01-01 00:00:01.112484580\n",
      "5      1     112     3.5 1970-01-01 00:00:01.094785740\n",
      "6      1     151     4.0 1970-01-01 00:00:01.094785734\n",
      "7      1     223     4.0 1970-01-01 00:00:01.112485573\n",
      "8      1     253     4.0 1970-01-01 00:00:01.112484940\n",
      "9      1     260     4.0 1970-01-01 00:00:01.112484826\n"
     ]
    }
   ],
   "source": [
    "# print(ratings.head(10))"
   ]
  },
  {
   "cell_type": "markdown",
   "id": "81ce3710",
   "metadata": {},
   "source": [
    "I noticed the timestamp is not being imported correctly. It should be a full date, but instead it was imported as milliseconds"
   ]
  },
  {
   "cell_type": "code",
   "execution_count": 9,
   "id": "7c013d6f",
   "metadata": {},
   "outputs": [
    {
     "name": "stderr",
     "output_type": "stream",
     "text": [
      "/var/folders/55/xtgthnr12lz2b2j6l0pqj7zm0459s6/T/ipykernel_73180/3003964684.py:6: FutureWarning: The argument 'date_parser' is deprecated and will be removed in a future version. Please use 'date_format' instead, or read your data in as 'object' dtype and then call 'to_datetime'.\n",
      "  for index, chunk in enumerate(pd.read_csv('../ml-20m/ratings.csv',\n"
     ]
    },
    {
     "name": "stdout",
     "output_type": "stream",
     "text": [
      "Chunk 0 loaded\n",
      "Chunk 1 loaded\n",
      "Chunk 2 loaded\n",
      "Chunk 3 loaded\n",
      "Chunk 4 loaded\n",
      "Chunk 5 loaded\n",
      "Chunk 6 loaded\n",
      "Chunk 7 loaded\n",
      "Chunk 8 loaded\n",
      "Chunk 9 loaded\n",
      "Chunk 10 loaded\n",
      "Chunk 11 loaded\n",
      "Chunk 12 loaded\n",
      "Chunk 13 loaded\n",
      "Chunk 14 loaded\n",
      "Chunk 15 loaded\n",
      "Chunk 16 loaded\n",
      "Chunk 17 loaded\n",
      "Chunk 18 loaded\n",
      "Chunk 19 loaded\n",
      "Chunk 20 loaded\n",
      "Chunk 21 loaded\n",
      "Chunk 22 loaded\n",
      "Chunk 23 loaded\n",
      "Chunk 24 loaded\n",
      "Chunk 25 loaded\n",
      "Chunk 26 loaded\n",
      "Chunk 27 loaded\n",
      "Chunk 28 loaded\n",
      "Chunk 29 loaded\n",
      "Chunk 30 loaded\n",
      "Chunk 31 loaded\n",
      "Chunk 32 loaded\n",
      "Chunk 33 loaded\n",
      "Chunk 34 loaded\n",
      "Chunk 35 loaded\n",
      "Chunk 36 loaded\n",
      "Chunk 37 loaded\n",
      "Chunk 38 loaded\n",
      "Chunk 39 loaded\n",
      "Chunk 40 loaded\n",
      "Chunk 41 loaded\n",
      "Chunk 42 loaded\n",
      "Chunk 43 loaded\n",
      "Chunk 44 loaded\n",
      "Chunk 45 loaded\n",
      "Chunk 46 loaded\n",
      "Chunk 47 loaded\n",
      "Chunk 48 loaded\n",
      "Chunk 49 loaded\n",
      "Chunk 50 loaded\n",
      "Chunk 51 loaded\n",
      "Chunk 52 loaded\n",
      "Chunk 53 loaded\n",
      "Chunk 54 loaded\n",
      "Chunk 55 loaded\n",
      "Chunk 56 loaded\n",
      "Chunk 57 loaded\n",
      "Chunk 58 loaded\n",
      "Chunk 59 loaded\n",
      "Chunk 60 loaded\n",
      "Chunk 61 loaded\n",
      "Chunk 62 loaded\n",
      "Chunk 63 loaded\n",
      "Chunk 64 loaded\n",
      "Chunk 65 loaded\n",
      "Chunk 66 loaded\n",
      "Chunk 67 loaded\n",
      "Chunk 68 loaded\n",
      "Chunk 69 loaded\n",
      "Chunk 70 loaded\n",
      "Chunk 71 loaded\n",
      "Chunk 72 loaded\n",
      "Chunk 73 loaded\n",
      "Chunk 74 loaded\n",
      "Chunk 75 loaded\n",
      "Chunk 76 loaded\n",
      "Chunk 77 loaded\n",
      "Chunk 78 loaded\n",
      "Chunk 79 loaded\n",
      "Chunk 80 loaded\n",
      "Chunk 81 loaded\n",
      "Chunk 82 loaded\n",
      "Chunk 83 loaded\n",
      "Chunk 84 loaded\n",
      "Chunk 85 loaded\n",
      "Chunk 86 loaded\n",
      "Chunk 87 loaded\n",
      "Chunk 88 loaded\n",
      "Chunk 89 loaded\n",
      "Chunk 90 loaded\n",
      "Chunk 91 loaded\n",
      "Chunk 92 loaded\n",
      "Chunk 93 loaded\n",
      "Chunk 94 loaded\n",
      "Chunk 95 loaded\n",
      "Chunk 96 loaded\n",
      "Chunk 97 loaded\n",
      "Chunk 98 loaded\n",
      "Chunk 99 loaded\n",
      "Chunk 100 loaded\n",
      "Chunk 101 loaded\n",
      "Chunk 102 loaded\n",
      "Chunk 103 loaded\n",
      "Chunk 104 loaded\n",
      "Chunk 105 loaded\n",
      "Chunk 106 loaded\n",
      "Chunk 107 loaded\n",
      "Chunk 108 loaded\n",
      "Chunk 109 loaded\n",
      "Chunk 110 loaded\n",
      "Chunk 111 loaded\n",
      "Chunk 112 loaded\n",
      "Chunk 113 loaded\n",
      "Chunk 114 loaded\n",
      "Chunk 115 loaded\n",
      "Chunk 116 loaded\n",
      "Chunk 117 loaded\n",
      "Chunk 118 loaded\n",
      "Chunk 119 loaded\n",
      "Chunk 120 loaded\n",
      "Chunk 121 loaded\n",
      "Chunk 122 loaded\n",
      "Chunk 123 loaded\n",
      "Chunk 124 loaded\n",
      "Chunk 125 loaded\n",
      "Chunk 126 loaded\n",
      "Chunk 127 loaded\n",
      "Chunk 128 loaded\n",
      "Chunk 129 loaded\n",
      "Chunk 130 loaded\n",
      "Chunk 131 loaded\n",
      "Chunk 132 loaded\n",
      "Chunk 133 loaded\n",
      "Chunk 134 loaded\n",
      "Chunk 135 loaded\n",
      "Chunk 136 loaded\n",
      "Chunk 137 loaded\n",
      "Chunk 138 loaded\n",
      "Chunk 139 loaded\n",
      "Chunk 140 loaded\n",
      "Chunk 141 loaded\n",
      "Chunk 142 loaded\n",
      "Chunk 143 loaded\n",
      "Chunk 144 loaded\n",
      "Chunk 145 loaded\n",
      "Chunk 146 loaded\n",
      "Chunk 147 loaded\n",
      "Chunk 148 loaded\n",
      "Chunk 149 loaded\n",
      "Chunk 150 loaded\n",
      "Chunk 151 loaded\n",
      "Chunk 152 loaded\n",
      "Chunk 153 loaded\n",
      "Chunk 154 loaded\n",
      "Chunk 155 loaded\n",
      "Chunk 156 loaded\n",
      "Chunk 157 loaded\n",
      "Chunk 158 loaded\n",
      "Chunk 159 loaded\n",
      "Chunk 160 loaded\n",
      "Chunk 161 loaded\n",
      "Chunk 162 loaded\n",
      "Chunk 163 loaded\n",
      "Chunk 164 loaded\n",
      "Chunk 165 loaded\n",
      "Chunk 166 loaded\n",
      "Chunk 167 loaded\n",
      "Chunk 168 loaded\n",
      "Chunk 169 loaded\n",
      "Chunk 170 loaded\n",
      "Chunk 171 loaded\n",
      "Chunk 172 loaded\n",
      "Chunk 173 loaded\n",
      "Chunk 174 loaded\n",
      "Chunk 175 loaded\n",
      "Chunk 176 loaded\n",
      "Chunk 177 loaded\n",
      "Chunk 178 loaded\n",
      "Chunk 179 loaded\n",
      "Chunk 180 loaded\n",
      "Chunk 181 loaded\n",
      "Chunk 182 loaded\n",
      "Chunk 183 loaded\n",
      "Chunk 184 loaded\n",
      "Chunk 185 loaded\n",
      "Chunk 186 loaded\n",
      "Chunk 187 loaded\n",
      "Chunk 188 loaded\n",
      "Chunk 189 loaded\n",
      "Chunk 190 loaded\n",
      "Chunk 191 loaded\n",
      "Chunk 192 loaded\n",
      "Chunk 193 loaded\n",
      "Chunk 194 loaded\n",
      "Chunk 195 loaded\n",
      "Chunk 196 loaded\n",
      "Chunk 197 loaded\n",
      "Chunk 198 loaded\n",
      "Chunk 199 loaded\n",
      "Chunk 200 loaded\n",
      "Ratings dataset loaded\n"
     ]
    }
   ],
   "source": [
    "# Custom date parser function\n",
    "date_parser = lambda x: pd.to_datetime(x, unit='s')\n",
    "\n",
    "# ratings\n",
    "ratings = pd.DataFrame()  # initialize an empty dataframe\n",
    "for index, chunk in enumerate(pd.read_csv('../ml-20m/ratings.csv',\n",
    "                         dtype={'userId': str, 'movieId': str, \"rating\": float, 'timestamp': int},\n",
    "                         chunksize=chunksize,\n",
    "                         parse_dates=['timestamp'],\n",
    "                         date_parser=date_parser\n",
    "                         )):\n",
    "    # Perform operations on the chunk\n",
    "    # processed_chunk = chunk[chunk['column_name'] > 0]  # Example operation\n",
    "    ratings = pd.concat([ratings, chunk])\n",
    "    print(f\"Chunk {index} loaded\")\n",
    "print(\"Ratings dataset loaded\")"
   ]
  },
  {
   "cell_type": "code",
   "execution_count": 10,
   "id": "67551823",
   "metadata": {},
   "outputs": [
    {
     "name": "stdout",
     "output_type": "stream",
     "text": [
      "  userId movieId  rating           timestamp\n",
      "0      1       2     3.5 2005-04-02 23:53:47\n",
      "1      1      29     3.5 2005-04-02 23:31:16\n",
      "2      1      32     3.5 2005-04-02 23:33:39\n",
      "3      1      47     3.5 2005-04-02 23:32:07\n",
      "4      1      50     3.5 2005-04-02 23:29:40\n",
      "5      1     112     3.5 2004-09-10 03:09:00\n",
      "6      1     151     4.0 2004-09-10 03:08:54\n",
      "7      1     223     4.0 2005-04-02 23:46:13\n",
      "8      1     253     4.0 2005-04-02 23:35:40\n",
      "9      1     260     4.0 2005-04-02 23:33:46\n"
     ]
    }
   ],
   "source": [
    "print(ratings.head(10))"
   ]
  },
  {
   "cell_type": "markdown",
   "id": "22d077b4",
   "metadata": {},
   "source": [
    "Now the time is fixed, I can use this approach going forward"
   ]
  },
  {
   "cell_type": "code",
   "execution_count": 11,
   "id": "ba0b77d8",
   "metadata": {},
   "outputs": [
    {
     "name": "stdout",
     "output_type": "stream",
     "text": [
      "<class 'pandas.core.frame.DataFrame'>\n",
      "RangeIndex: 20000263 entries, 0 to 20000262\n",
      "Data columns (total 4 columns):\n",
      " #   Column     Dtype         \n",
      "---  ------     -----         \n",
      " 0   userId     object        \n",
      " 1   movieId    object        \n",
      " 2   rating     float64       \n",
      " 3   timestamp  datetime64[ns]\n",
      "dtypes: datetime64[ns](1), float64(1), object(2)\n",
      "memory usage: 610.4+ MB\n",
      "None\n"
     ]
    }
   ],
   "source": [
    "print(ratings.info())"
   ]
  },
  {
   "cell_type": "markdown",
   "id": "7e710d0d",
   "metadata": {},
   "source": [
    "Ratings dataset has 20,000,263 entries. 4 columns considting of \n",
    "\n",
    "0   userId     object / string        \n",
    "1   movieId    object / string        \n",
    "2   rating     float64       \n",
    "3   timestamp  datetime64[ns]"
   ]
  },
  {
   "cell_type": "markdown",
   "id": "8414d46c",
   "metadata": {},
   "source": [
    "Now we will look at the summarty statistics of the dataset"
   ]
  },
  {
   "cell_type": "code",
   "execution_count": 12,
   "id": "f6864377",
   "metadata": {},
   "outputs": [
    {
     "name": "stdout",
     "output_type": "stream",
     "text": [
      "           rating                      timestamp\n",
      "count 20000263.00                       20000263\n",
      "mean         3.53  2004-11-20 02:32:01.677113984\n",
      "min          0.50            1995-01-09 11:46:44\n",
      "25%          3.00            2000-08-20 18:55:45\n",
      "50%          3.50            2004-12-20 15:18:06\n",
      "75%          4.00     2008-11-02 16:11:57.500000\n",
      "max          5.00            2015-03-31 06:40:02\n",
      "std          1.05                            NaN\n"
     ]
    }
   ],
   "source": [
    "# Set the float format to 2 decimal places\n",
    "pd.options.display.float_format = '{:.2f}'.format\n",
    "print(ratings.describe())\n",
    "# Reset to default float format\n",
    "pd.reset_option('display.float_format')"
   ]
  },
  {
   "cell_type": "markdown",
   "id": "7afbd9dd",
   "metadata": {},
   "source": [
    "We get a summary statisics of the table rating and timestamp columns. For ratings, the mean value is 3.53, the lower quartile 3, and the upper quartile is 4. Lets make a plot of this to explore it more.\n",
    "\n",
    "I will use the seaborn plot library for this.\n",
    "\n",
    "First, I will create a histogram to see the distribution of the ratings "
   ]
  },
  {
   "cell_type": "code",
   "execution_count": 13,
   "id": "96b49d76",
   "metadata": {},
   "outputs": [
    {
     "data": {
      "image/png": "[encoded data removed]",
      "text/plain": [
       "<Figure size 640x480 with 1 Axes>"
      ]
     },
     "metadata": {},
     "output_type": "display_data"
    }
   ],
   "source": [
    "\n",
    "# Create a histogram for rating\n",
    "sns.histplot(data=ratings, x='rating', bins=10)\n",
    "plt.show()"
   ]
  },
  {
   "cell_type": "markdown",
   "id": "d8d4dc4e",
   "metadata": {},
   "source": [
    "The histogram could be improved upon, first I would like to see how many unique ratings there are"
   ]
  },
  {
   "cell_type": "code",
   "execution_count": 14,
   "id": "fbbaedad",
   "metadata": {},
   "outputs": [
    {
     "name": "stdout",
     "output_type": "stream",
     "text": [
      "[3.5, 4.0, 3.0, 4.5, 5.0, 2.0, 1.0, 2.5, 0.5, 1.5]\n"
     ]
    }
   ],
   "source": [
    "unique_values = ratings['rating'].unique().tolist()\n",
    "\n",
    "print(unique_values)"
   ]
  },
  {
   "cell_type": "markdown",
   "id": "cbe49a89",
   "metadata": {},
   "source": [
    "the ratings values can be either a whole or half unit from 0.5 up to 5 "
   ]
  },
  {
   "cell_type": "code",
   "execution_count": 15,
   "id": "2664ba2e",
   "metadata": {},
   "outputs": [
    {
     "name": "stdout",
     "output_type": "stream",
     "text": [
      "   rating    count  percentage\n",
      "9     0.5   239125         1.0\n",
      "7     1.0   680732         3.0\n",
      "8     1.5   279252         1.0\n",
      "5     2.0  1430997         7.0\n",
      "6     2.5   883398         4.0\n",
      "1     3.0  4291193        21.0\n",
      "3     3.5  2200156        11.0\n",
      "0     4.0  5561926        28.0\n",
      "4     4.5  1534824         8.0\n",
      "2     5.0  2898660        14.0\n"
     ]
    }
   ],
   "source": [
    "# Create the count table\n",
    "count_table = ratings['rating'].value_counts().reset_index()\n",
    "count_table.columns = ['rating', 'count']\n",
    "\n",
    "total = count_table[\"count\"].sum()\n",
    "count_table[\"percentage\"] = round((count_table[\"count\"]/total)*100, 0)\n",
    "count_table = count_table.sort_values(by=\"rating\")\n",
    "# Print the count table\n",
    "print(count_table)\n"
   ]
  },
  {
   "cell_type": "code",
   "execution_count": 16,
   "id": "7e1e72ce",
   "metadata": {},
   "outputs": [
    {
     "data": {
      "image/png": "[encoded data removed]",
      "text/plain": [
       "<Figure size 640x480 with 1 Axes>"
      ]
     },
     "metadata": {},
     "output_type": "display_data"
    }
   ],
   "source": [
    "# Choose a Seaborn color palette\n",
    "# colors = sns.color_palette('pastel')[0:4]\n",
    "labels = [f\"{rating}-({percentage}%)\" for rating, percentage in zip(count_table[\"rating\"], count_table[\"percentage\"])]\n",
    "# Create the pie chart\n",
    "plt.pie(count_table['count'], labels=labels, \n",
    "        # colors=colors, autopct='%.0f%%'\n",
    "        )\n",
    "plt.title('Pie Chart with Seaborn Colors')\n",
    "plt.show()"
   ]
  },
  {
   "cell_type": "markdown",
   "id": "92c35aa4",
   "metadata": {},
   "source": [
    "This looks intesting, we get a complete understanding of the data distribution. We can see that 4, 3 and 5 are the most common ratings.\n",
    "\n",
    "It would be interesting to look at these ratings along with the users who gave them and the movies they are for.\n",
    "\n",
    "First, we will explore the users"
   ]
  },
  {
   "cell_type": "code",
   "execution_count": 32,
   "id": "e5567c99",
   "metadata": {},
   "outputs": [],
   "source": [
    "\n",
    "top_users = ratings['userId'].sort_values(ascending=False)\n",
    "\n",
    "# userId_size = len(ratings['userId'].tolist())\n",
    "# unique_userId = len(ratings['userId'].unique().tolist())\n",
    "# unique_percent=f\"{round(unique_userId/userId_size*10000,0)}%\" \n",
    "\n",
    "# print(f\"size of user ids {userId_size}\")\n",
    "# print(f\"unique user ids {unique_userId}\")\n",
    "# print(f\"percent of user ids {unique_percent}\")\n",
    "# print(f\"min userid {min(ratings['userId'])}\")\n",
    "# print(f\"max userid {max(ratings['userId'])}\")\n",
    "# print(f\"mean userid {np.mean(np.array(ratings['userId']))}\")\n",
    "\n",
    "# Create a chart for userId\n",
    "# sns.histplot(data=ratings, x='userId', bins=10)\n",
    "# plt.show()\n",
    "# user_table = pd.DataFrame({\n",
    "#     \"size\":total_size,\n",
    "#     \"userids\":userId_size,\n",
    "#     # unique_userids=unique_userId,\n",
    "#     # unique_percent=len(unique_userId)/len(ratings['userId'].tolist())*100 \n",
    "# })\n",
    "# print(user_table)"
   ]
  },
  {
   "cell_type": "code",
   "execution_count": null,
   "id": "5db006e2",
   "metadata": {},
   "outputs": [],
   "source": []
  },
  {
   "cell_type": "code",
   "execution_count": null,
   "id": "9148cce5",
   "metadata": {},
   "outputs": [],
   "source": [
    "# # tags\n",
    "\n",
    "# tags = pd.DataFrame()  # initialize an empty dataframe\n",
    "# for index, chunk in enumerate(pd.read_csv('../ml-20m/tags.csv',\n",
    "#                          dtype={'userId': str, 'movieId': str, \"tag\": str, 'timestamp': int},\n",
    "#                          chunksize=chunksize,\n",
    "#                          parse_dates=['timestamp'],\n",
    "#                          date_parser=pd.to_datetime\n",
    "#                          )):\n",
    "#     # Perform operations on the chunk\n",
    "#     # processed_chunk = chunk[chunk['column_name'] > 0]  # Example operation\n",
    "#     tags = pd.concat([tags, chunk])\n",
    "#     print(f\"Chunk {index} loaded\")\n",
    "# print(\"tags dataset loaded\")"
   ]
  },
  {
   "cell_type": "code",
   "execution_count": null,
   "id": "d29f3854",
   "metadata": {},
   "outputs": [],
   "source": [
    "# # movies\n",
    "\n",
    "# movies = pd.DataFrame()  # initialize an empty dataframe\n",
    "# for index, chunk in enumerate(pd.read_csv('../ml-20m/movies.csv',\n",
    "#                          dtype={'movieId': str, 'title': str, \"genres\": str},\n",
    "#                          chunksize=chunksize,\n",
    "#                          )):\n",
    "#     # Perform operations on the chunk\n",
    "#     # processed_chunk = chunk[chunk['column_name'] > 0]  # Example operation\n",
    "#     movies = pd.concat([movies, chunk])\n",
    "#     print(f\"Chunk {index} loaded\")\n",
    "# print(\"movies dataset loaded\")\n"
   ]
  },
  {
   "cell_type": "code",
   "execution_count": null,
   "id": "099daa39",
   "metadata": {},
   "outputs": [],
   "source": [
    "# # links\n",
    "\n",
    "# links = pd.DataFrame()  # initialize an empty dataframe\n",
    "# for index, chunk in enumerate(pd.read_csv('../ml-20m/links.csv',\n",
    "#                          dtype={'imdbId': str, 'movieId': str, \"tmdbId\": str},\n",
    "#                          chunksize=chunksize,\n",
    "#                          )):\n",
    "#     # Perform operations on the chunk\n",
    "#     # processed_chunk = chunk[chunk['column_name'] > 0]  # Example operation\n",
    "#     links = pd.concat([links, chunk])\n",
    "#     print(f\"Chunk {index} loaded\")\n",
    "\n",
    "# print(\"links dataset loaded\")\n"
   ]
  },
  {
   "cell_type": "markdown",
   "id": "ba7dbec3",
   "metadata": {},
   "source": []
  },
  {
   "cell_type": "code",
   "execution_count": null,
   "id": "8e62e361",
   "metadata": {},
   "outputs": [],
   "source": [
    "# print(movies.info())\n",
    "# print(movies.head(10))"
   ]
  },
  {
   "cell_type": "code",
   "execution_count": null,
   "id": "8613d079",
   "metadata": {},
   "outputs": [],
   "source": [
    "# print(tags.info())\n",
    "# print(tags.head(10))"
   ]
  },
  {
   "cell_type": "code",
   "execution_count": null,
   "id": "9ebf97f4",
   "metadata": {},
   "outputs": [],
   "source": [
    "# print(links.info())\n",
    "# print(links.head(10))"
   ]
  },
  {
   "cell_type": "markdown",
   "id": "ea1849a87c44e1bb",
   "metadata": {},
   "source": [
    "Now I have my import function down, I want to continue in a DRY coding style. I will create an array of dataframe and import each table into the dataframe using a function  "
   ]
  },
  {
   "cell_type": "code",
   "execution_count": null,
   "id": "3dfb06c48d393be1",
   "metadata": {
    "ExecuteTime": {
     "end_time": "2024-09-27T16:04:40.317660Z",
     "start_time": "2024-09-27T16:04:33.422812Z"
    }
   },
   "outputs": [],
   "source": [
    "# # import function\n",
    "# def import_dataset(ds, df, dtype={}, parse_dates=[], chunksize=chunksize):\n",
    "    \n",
    "#     for index, chunk in enumerate(pd.read_csv(f'../ml-20m/{ds}.csv',\n",
    "#                          dtype=dtype,\n",
    "#                          chunksize=chunksize,\n",
    "#                          parse_dates=parse_dates,\n",
    "#                          date_parser=pd.to_datetime\n",
    "#                          )):\n",
    "#         # Perform operations on the chunk\n",
    "#         df = pd.concat([df, chunk])\n",
    "#         print(f\"{ds} chunk {index} loaded\")\n",
    "#     print(ds)\n",
    "#     print(df.info())\n",
    "#     print(df.head(5))\n",
    "        \n",
    "\n",
    "# ratings = pd.DataFrame()\n",
    "# movies = pd.DataFrame()\n",
    "# tags = pd.DataFrame()\n",
    "# links = pd.DataFrame()\n",
    "\n",
    "# df_array = [\n",
    "#     {\n",
    "#         \"ratings\":ratings, \n",
    "#         \"dtype\": {'userId': int, 'movieId': int, \"rating\": float, 'timestamp': int},\n",
    "#         \"parse_dates\":['timestamp']\n",
    "#     },\n",
    "#     {\n",
    "#         \"movies\":movies, \n",
    "#         \"dtype\": {'movie': int, 'title': str, \"genres\": str},\n",
    "#         # \"parse_dates\":['timestamp']\n",
    "#     },\n",
    "#     {\n",
    "#         \"tags\":tags,\n",
    "#         \"dtype\": {'userId': int, 'movieId': int, \"tag\": str, 'timestamp': int},\n",
    "#         \"parse_dates\":['timestamp']\n",
    "#     },\n",
    "#     {\n",
    "#         \"links\":links,\n",
    "#          \"dtype\": {'imdbId': int, 'movieId': int, \"tmdbId\": float},\n",
    "#     }\n",
    "        \n",
    "# ]\n",
    "\n",
    "# for item in df_array:\n",
    "#     ds_name = [*item.keys()][0]\n",
    "#     ds_df = [*item.values()][0]\n",
    "#     # ds_dt = [*item.values()][2]\n",
    "#     # ds_pd = [*item.values()][3]\n",
    "#     import_dataset(ds_name, ds_df)\n",
    "#     # for index, ds, df in enumerate(item.items()):\n",
    "#     #     if index == 0:\n",
    "            \n",
    "    \n",
    "# # for item in df_array:\n",
    "# #     for ds, df in item.items():\n",
    "# #         print(ds.head(20))\n",
    "#     # print(ds)"
   ]
  },
  {
   "cell_type": "markdown",
   "id": "18a53a23357d3f3a",
   "metadata": {},
   "source": []
  },
  {
   "cell_type": "code",
   "execution_count": null,
   "id": "020faecb",
   "metadata": {},
   "outputs": [],
   "source": [
    "# print(ratings_2.head(5))\n"
   ]
  }
 ],
 "metadata": {
  "kernelspec": {
   "display_name": "Python 3 (ipykernel)",
   "language": "python",
   "name": "python3"
  },
  "language_info": {
   "codemirror_mode": {
    "name": "ipython",
    "version": 3
   },
   "file_extension": ".py",
   "mimetype": "text/x-python",
   "name": "python",
   "nbconvert_exporter": "python",
   "pygments_lexer": "ipython3",
   "version": "3.10.14"
  }
 },
 "nbformat": 4,
 "nbformat_minor": 5
}
