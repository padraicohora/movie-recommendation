{
 "cells": [
  {
   "cell_type": "code",
   "execution_count": 1,
   "id": "5dbbe5df-0d97-4d8e-aca7-6fcf4ccf9ce0",
   "metadata": {
    "vscode": {
     "languageId": "shellscript"
    }
   },
   "outputs": [],
   "source": [
    "# conda activate movie-recommender          # activate environment in terminal         \n",
    "# jupyter notebook                     # start server + kernel inside my-conda-env"
   ]
  },
  {
   "cell_type": "code",
   "execution_count": 2,
   "id": "31931e15-7727-4a29-9dd3-4ab6834df4d6",
   "metadata": {
    "ExecuteTime": {
     "end_time": "2024-09-27T14:16:21.494Z",
     "start_time": "2024-09-27T14:16:16.576558Z"
    }
   },
   "outputs": [],
   "source": [
    "\n",
    "import pandas as pd\n",
    "import numpy as np\n",
    "import matplotlib.pyplot as plt\n",
    "chunksize=100000\n",
    "import seaborn as sns\n",
    "import matplotlib.pyplot as plt\n"
   ]
  },
  {
   "cell_type": "markdown",
   "id": "2d008217b9b3c276",
   "metadata": {},
   "source": [
    "Load each table"
   ]
  },
  {
   "cell_type": "code",
   "execution_count": 3,
   "id": "86cd5f2b64455ddf",
   "metadata": {
    "ExecuteTime": {
     "end_time": "2024-09-27T14:25:07.714629Z",
     "start_time": "2024-09-27T14:25:04.451566Z"
    }
   },
   "outputs": [
    {
     "name": "stdout",
     "output_type": "stream",
     "text": [
      "   userId  movieId  rating   timestamp\n",
      "0       1        2     3.5  1112486027\n",
      "1       1       29     3.5  1112484676\n",
      "2       1       32     3.5  1112484819\n",
      "3       1       47     3.5  1112484727\n",
      "4       1       50     3.5  1112484580\n",
      "5       1      112     3.5  1094785740\n",
      "6       1      151     4.0  1094785734\n",
      "7       1      223     4.0  1112485573\n",
      "8       1      253     4.0  1112484940\n",
      "9       1      260     4.0  1112484826\n",
      "<class 'pandas.core.frame.DataFrame'>\n",
      "RangeIndex: 20000263 entries, 0 to 20000262\n",
      "Data columns (total 4 columns):\n",
      " #   Column     Dtype  \n",
      "---  ------     -----  \n",
      " 0   userId     int64  \n",
      " 1   movieId    int64  \n",
      " 2   rating     float64\n",
      " 3   timestamp  int64  \n",
      "dtypes: float64(1), int64(3)\n",
      "memory usage: 610.4 MB\n",
      "None\n"
     ]
    }
   ],
   "source": [
    "ratings_1 = pd.read_csv('../ml-20m/ratings.csv')\n",
    "print(ratings_1.head(10))\n",
    "print(ratings_1.info())"
   ]
  },
  {
   "cell_type": "markdown",
   "id": "56d740c1a7535622",
   "metadata": {},
   "source": [
    "I notice the types are not being imported correctly. the ids should be strings, as they are not numbers. The timestamp could be converted to a Panda datetime object. This can all be achieved using the read_csv arguments. I  am also setting the chunk size to 500,000 so my computer RAM won't get full"
   ]
  },
  {
   "cell_type": "code",
   "execution_count": 4,
   "id": "9759a70262594370",
   "metadata": {
    "ExecuteTime": {
     "end_time": "2024-09-27T15:05:27.770938Z",
     "start_time": "2024-09-27T15:04:49.815439Z"
    }
   },
   "outputs": [],
   "source": [
    "\n",
    "\n",
    "# ratings\n",
    "# ratings = pd.DataFrame()  # initialize an empty dataframe\n",
    "# for index, chunk in enumerate(pd.read_csv('../ml-20m/ratings.csv',\n",
    "#                          dtype={'userId': str, 'movieId': str, \"rating\": float, 'timestamp': int},\n",
    "#                          chunksize=chunksize,\n",
    "#                          parse_dates=['timestamp'],\n",
    "#                          date_parser=pd.to_datetime\n",
    "#                          )):\n",
    "#     # Perform operations on the chunk\n",
    "#     # processed_chunk = chunk[chunk['column_name'] > 0]  # Example operation\n",
    "#     ratings = pd.concat([ratings, chunk])\n",
    "#     print(f\"Chunk {index} loaded\")\n",
    "# print(\"Ratings dataset loaded\")"
   ]
  },
  {
   "cell_type": "code",
   "execution_count": 5,
   "id": "c933657e",
   "metadata": {},
   "outputs": [],
   "source": [
    "# print(ratings.head(10))"
   ]
  },
  {
   "cell_type": "markdown",
   "id": "81ce3710",
   "metadata": {},
   "source": [
    "I noticed the timestamp is not being imported correctly. It should be a full date, but instead it was imported as milliseconds"
   ]
  },
  {
   "cell_type": "code",
   "execution_count": 6,
   "id": "7c013d6f",
   "metadata": {},
   "outputs": [
    {
     "name": "stdout",
     "output_type": "stream",
     "text": [
      "Chunk 0 loaded\n"
     ]
    },
    {
     "name": "stderr",
     "output_type": "stream",
     "text": [
      "/var/folders/55/xtgthnr12lz2b2j6l0pqj7zm0459s6/T/ipykernel_86660/3003964684.py:6: FutureWarning: The argument 'date_parser' is deprecated and will be removed in a future version. Please use 'date_format' instead, or read your data in as 'object' dtype and then call 'to_datetime'.\n",
      "  for index, chunk in enumerate(pd.read_csv('../ml-20m/ratings.csv',\n"
     ]
    },
    {
     "name": "stdout",
     "output_type": "stream",
     "text": [
      "Chunk 1 loaded\n",
      "Chunk 2 loaded\n",
      "Chunk 3 loaded\n",
      "Chunk 4 loaded\n",
      "Chunk 5 loaded\n",
      "Chunk 6 loaded\n",
      "Chunk 7 loaded\n",
      "Chunk 8 loaded\n",
      "Chunk 9 loaded\n",
      "Chunk 10 loaded\n",
      "Chunk 11 loaded\n",
      "Chunk 12 loaded\n",
      "Chunk 13 loaded\n",
      "Chunk 14 loaded\n",
      "Chunk 15 loaded\n",
      "Chunk 16 loaded\n",
      "Chunk 17 loaded\n",
      "Chunk 18 loaded\n",
      "Chunk 19 loaded\n",
      "Chunk 20 loaded\n",
      "Chunk 21 loaded\n",
      "Chunk 22 loaded\n",
      "Chunk 23 loaded\n",
      "Chunk 24 loaded\n",
      "Chunk 25 loaded\n",
      "Chunk 26 loaded\n",
      "Chunk 27 loaded\n",
      "Chunk 28 loaded\n",
      "Chunk 29 loaded\n",
      "Chunk 30 loaded\n",
      "Chunk 31 loaded\n",
      "Chunk 32 loaded\n",
      "Chunk 33 loaded\n",
      "Chunk 34 loaded\n",
      "Chunk 35 loaded\n",
      "Chunk 36 loaded\n",
      "Chunk 37 loaded\n",
      "Chunk 38 loaded\n",
      "Chunk 39 loaded\n",
      "Chunk 40 loaded\n",
      "Chunk 41 loaded\n",
      "Chunk 42 loaded\n",
      "Chunk 43 loaded\n",
      "Chunk 44 loaded\n",
      "Chunk 45 loaded\n",
      "Chunk 46 loaded\n",
      "Chunk 47 loaded\n",
      "Chunk 48 loaded\n",
      "Chunk 49 loaded\n",
      "Chunk 50 loaded\n",
      "Chunk 51 loaded\n",
      "Chunk 52 loaded\n",
      "Chunk 53 loaded\n",
      "Chunk 54 loaded\n",
      "Chunk 55 loaded\n",
      "Chunk 56 loaded\n",
      "Chunk 57 loaded\n",
      "Chunk 58 loaded\n",
      "Chunk 59 loaded\n",
      "Chunk 60 loaded\n",
      "Chunk 61 loaded\n",
      "Chunk 62 loaded\n",
      "Chunk 63 loaded\n",
      "Chunk 64 loaded\n",
      "Chunk 65 loaded\n",
      "Chunk 66 loaded\n",
      "Chunk 67 loaded\n",
      "Chunk 68 loaded\n",
      "Chunk 69 loaded\n",
      "Chunk 70 loaded\n",
      "Chunk 71 loaded\n",
      "Chunk 72 loaded\n",
      "Chunk 73 loaded\n",
      "Chunk 74 loaded\n",
      "Chunk 75 loaded\n",
      "Chunk 76 loaded\n",
      "Chunk 77 loaded\n",
      "Chunk 78 loaded\n",
      "Chunk 79 loaded\n",
      "Chunk 80 loaded\n",
      "Chunk 81 loaded\n",
      "Chunk 82 loaded\n",
      "Chunk 83 loaded\n",
      "Chunk 84 loaded\n",
      "Chunk 85 loaded\n",
      "Chunk 86 loaded\n",
      "Chunk 87 loaded\n",
      "Chunk 88 loaded\n",
      "Chunk 89 loaded\n",
      "Chunk 90 loaded\n",
      "Chunk 91 loaded\n",
      "Chunk 92 loaded\n",
      "Chunk 93 loaded\n",
      "Chunk 94 loaded\n",
      "Chunk 95 loaded\n",
      "Chunk 96 loaded\n",
      "Chunk 97 loaded\n",
      "Chunk 98 loaded\n",
      "Chunk 99 loaded\n",
      "Chunk 100 loaded\n",
      "Chunk 101 loaded\n",
      "Chunk 102 loaded\n",
      "Chunk 103 loaded\n",
      "Chunk 104 loaded\n",
      "Chunk 105 loaded\n",
      "Chunk 106 loaded\n",
      "Chunk 107 loaded\n",
      "Chunk 108 loaded\n",
      "Chunk 109 loaded\n",
      "Chunk 110 loaded\n",
      "Chunk 111 loaded\n",
      "Chunk 112 loaded\n",
      "Chunk 113 loaded\n",
      "Chunk 114 loaded\n",
      "Chunk 115 loaded\n",
      "Chunk 116 loaded\n",
      "Chunk 117 loaded\n",
      "Chunk 118 loaded\n",
      "Chunk 119 loaded\n",
      "Chunk 120 loaded\n",
      "Chunk 121 loaded\n",
      "Chunk 122 loaded\n",
      "Chunk 123 loaded\n",
      "Chunk 124 loaded\n",
      "Chunk 125 loaded\n",
      "Chunk 126 loaded\n",
      "Chunk 127 loaded\n",
      "Chunk 128 loaded\n",
      "Chunk 129 loaded\n",
      "Chunk 130 loaded\n",
      "Chunk 131 loaded\n",
      "Chunk 132 loaded\n",
      "Chunk 133 loaded\n",
      "Chunk 134 loaded\n",
      "Chunk 135 loaded\n",
      "Chunk 136 loaded\n",
      "Chunk 137 loaded\n",
      "Chunk 138 loaded\n",
      "Chunk 139 loaded\n",
      "Chunk 140 loaded\n",
      "Chunk 141 loaded\n",
      "Chunk 142 loaded\n",
      "Chunk 143 loaded\n",
      "Chunk 144 loaded\n",
      "Chunk 145 loaded\n",
      "Chunk 146 loaded\n",
      "Chunk 147 loaded\n",
      "Chunk 148 loaded\n",
      "Chunk 149 loaded\n",
      "Chunk 150 loaded\n",
      "Chunk 151 loaded\n",
      "Chunk 152 loaded\n",
      "Chunk 153 loaded\n",
      "Chunk 154 loaded\n",
      "Chunk 155 loaded\n",
      "Chunk 156 loaded\n",
      "Chunk 157 loaded\n",
      "Chunk 158 loaded\n",
      "Chunk 159 loaded\n",
      "Chunk 160 loaded\n",
      "Chunk 161 loaded\n",
      "Chunk 162 loaded\n",
      "Chunk 163 loaded\n",
      "Chunk 164 loaded\n",
      "Chunk 165 loaded\n",
      "Chunk 166 loaded\n",
      "Chunk 167 loaded\n",
      "Chunk 168 loaded\n",
      "Chunk 169 loaded\n",
      "Chunk 170 loaded\n",
      "Chunk 171 loaded\n",
      "Chunk 172 loaded\n",
      "Chunk 173 loaded\n",
      "Chunk 174 loaded\n",
      "Chunk 175 loaded\n",
      "Chunk 176 loaded\n",
      "Chunk 177 loaded\n",
      "Chunk 178 loaded\n",
      "Chunk 179 loaded\n",
      "Chunk 180 loaded\n",
      "Chunk 181 loaded\n",
      "Chunk 182 loaded\n",
      "Chunk 183 loaded\n",
      "Chunk 184 loaded\n",
      "Chunk 185 loaded\n",
      "Chunk 186 loaded\n",
      "Chunk 187 loaded\n",
      "Chunk 188 loaded\n",
      "Chunk 189 loaded\n",
      "Chunk 190 loaded\n",
      "Chunk 191 loaded\n",
      "Chunk 192 loaded\n",
      "Chunk 193 loaded\n",
      "Chunk 194 loaded\n",
      "Chunk 195 loaded\n",
      "Chunk 196 loaded\n",
      "Chunk 197 loaded\n",
      "Chunk 198 loaded\n",
      "Chunk 199 loaded\n",
      "Chunk 200 loaded\n",
      "Ratings dataset loaded\n"
     ]
    }
   ],
   "source": [
    "# Custom date parser function\n",
    "date_parser = lambda x: pd.to_datetime(x, unit='s')\n",
    "\n",
    "# ratings\n",
    "ratings = pd.DataFrame()  # initialize an empty dataframe\n",
    "for index, chunk in enumerate(pd.read_csv('../ml-20m/ratings.csv',\n",
    "                         dtype={'userId': str, 'movieId': str, \"rating\": float, 'timestamp': int},\n",
    "                         chunksize=chunksize,\n",
    "                         parse_dates=['timestamp'],\n",
    "                         date_parser=date_parser\n",
    "                         )):\n",
    "    # Perform operations on the chunk\n",
    "    # processed_chunk = chunk[chunk['column_name'] > 0]  # Example operation\n",
    "    ratings = pd.concat([ratings, chunk])\n",
    "    print(f\"Chunk {index} loaded\")\n",
    "print(\"Ratings dataset loaded\")"
   ]
  },
  {
   "cell_type": "code",
   "execution_count": 7,
   "id": "67551823",
   "metadata": {},
   "outputs": [
    {
     "name": "stdout",
     "output_type": "stream",
     "text": [
      "  userId movieId  rating           timestamp\n",
      "0      1       2     3.5 2005-04-02 23:53:47\n",
      "1      1      29     3.5 2005-04-02 23:31:16\n",
      "2      1      32     3.5 2005-04-02 23:33:39\n",
      "3      1      47     3.5 2005-04-02 23:32:07\n",
      "4      1      50     3.5 2005-04-02 23:29:40\n",
      "5      1     112     3.5 2004-09-10 03:09:00\n",
      "6      1     151     4.0 2004-09-10 03:08:54\n",
      "7      1     223     4.0 2005-04-02 23:46:13\n",
      "8      1     253     4.0 2005-04-02 23:35:40\n",
      "9      1     260     4.0 2005-04-02 23:33:46\n"
     ]
    }
   ],
   "source": [
    "print(ratings.head(10))"
   ]
  },
  {
   "cell_type": "markdown",
   "id": "22d077b4",
   "metadata": {},
   "source": [
    "Now the time is fixed, I can use this approach going forward"
   ]
  },
  {
   "cell_type": "code",
   "execution_count": 8,
   "id": "ba0b77d8",
   "metadata": {},
   "outputs": [
    {
     "name": "stdout",
     "output_type": "stream",
     "text": [
      "<class 'pandas.core.frame.DataFrame'>\n",
      "RangeIndex: 20000263 entries, 0 to 20000262\n",
      "Data columns (total 4 columns):\n",
      " #   Column     Dtype         \n",
      "---  ------     -----         \n",
      " 0   userId     object        \n",
      " 1   movieId    object        \n",
      " 2   rating     float64       \n",
      " 3   timestamp  datetime64[ns]\n",
      "dtypes: datetime64[ns](1), float64(1), object(2)\n",
      "memory usage: 610.4+ MB\n",
      "None\n"
     ]
    }
   ],
   "source": [
    "print(ratings.info())"
   ]
  },
  {
   "cell_type": "markdown",
   "id": "7e710d0d",
   "metadata": {},
   "source": [
    "Ratings dataset has 20,000,263 entries. 4 columns considting of \n",
    "\n",
    "0   userId     object / string        \n",
    "1   movieId    object / string        \n",
    "2   rating     float64       \n",
    "3   timestamp  datetime64[ns]"
   ]
  },
  {
   "cell_type": "markdown",
   "id": "8414d46c",
   "metadata": {},
   "source": [
    "Now we will look at the summarty statistics of the dataset"
   ]
  },
  {
   "cell_type": "code",
   "execution_count": 9,
   "id": "f6864377",
   "metadata": {},
   "outputs": [
    {
     "name": "stdout",
     "output_type": "stream",
     "text": [
      "           rating                      timestamp\n",
      "count 20000263.00                       20000263\n",
      "mean         3.53  2004-11-20 02:32:01.677113984\n",
      "min          0.50            1995-01-09 11:46:44\n",
      "25%          3.00            2000-08-20 18:55:45\n",
      "50%          3.50            2004-12-20 15:18:06\n",
      "75%          4.00     2008-11-02 16:11:57.500000\n",
      "max          5.00            2015-03-31 06:40:02\n",
      "std          1.05                            NaN\n"
     ]
    }
   ],
   "source": [
    "# Set the float format to 2 decimal places\n",
    "pd.options.display.float_format = '{:.2f}'.format\n",
    "print(ratings.describe())\n",
    "# Reset to default float format\n",
    "pd.reset_option('display.float_format')"
   ]
  },
  {
   "cell_type": "markdown",
   "id": "7afbd9dd",
   "metadata": {},
   "source": [
    "We get a summary statisics of the table rating and timestamp columns. For ratings, the mean value is 3.53, the lower quartile 3, and the upper quartile is 4. Lets make a plot of this to explore it more.\n",
    "\n",
    "I will use the seaborn plot library for this.\n",
    "\n",
    "First, I will create a histogram to see the distribution of the ratings "
   ]
  },
  {
   "cell_type": "code",
   "execution_count": 10,
   "id": "96b49d76",
   "metadata": {},
   "outputs": [
    {
     "data": {
      "image/png": "[encoded data removed]",
      "text/plain": [
       "<Figure size 640x480 with 1 Axes>"
      ]
     },
     "metadata": {},
     "output_type": "display_data"
    }
   ],
   "source": [
    "\n",
    "# Create a histogram for rating\n",
    "sns.histplot(data=ratings, x='rating', bins=10)\n",
    "plt.show()"
   ]
  },
  {
   "cell_type": "markdown",
   "id": "d8d4dc4e",
   "metadata": {},
   "source": [
    "The histogram could be improved upon, first I would like to see how many unique ratings there are"
   ]
  },
  {
   "cell_type": "code",
   "execution_count": 11,
   "id": "fbbaedad",
   "metadata": {},
   "outputs": [
    {
     "name": "stdout",
     "output_type": "stream",
     "text": [
      "[3.5, 4.0, 3.0, 4.5, 5.0, 2.0, 1.0, 2.5, 0.5, 1.5]\n"
     ]
    }
   ],
   "source": [
    "unique_values = ratings['rating'].unique().tolist()\n",
    "\n",
    "print(unique_values)"
   ]
  },
  {
   "cell_type": "markdown",
   "id": "cbe49a89",
   "metadata": {},
   "source": [
    "the ratings values can be either a whole or half unit from 0.5 up to 5 "
   ]
  },
  {
   "cell_type": "code",
   "execution_count": 12,
   "id": "2664ba2e",
   "metadata": {},
   "outputs": [
    {
     "name": "stdout",
     "output_type": "stream",
     "text": [
      "   rating    count  percentage\n",
      "9     0.5   239125         1.0\n",
      "7     1.0   680732         3.0\n",
      "8     1.5   279252         1.0\n",
      "5     2.0  1430997         7.0\n",
      "6     2.5   883398         4.0\n",
      "1     3.0  4291193        21.0\n",
      "3     3.5  2200156        11.0\n",
      "0     4.0  5561926        28.0\n",
      "4     4.5  1534824         8.0\n",
      "2     5.0  2898660        14.0\n"
     ]
    }
   ],
   "source": [
    "# Create the count table\n",
    "count_table = ratings['rating'].value_counts().reset_index()\n",
    "count_table.columns = ['rating', 'count']\n",
    "\n",
    "total = count_table[\"count\"].sum()\n",
    "count_table[\"percentage\"] = round((count_table[\"count\"]/total)*100, 0)\n",
    "count_table = count_table.sort_values(by=\"rating\")\n",
    "# Print the count table\n",
    "print(count_table)\n"
   ]
  },
  {
   "cell_type": "code",
   "execution_count": 13,
   "id": "7e1e72ce",
   "metadata": {},
   "outputs": [
    {
     "data": {
      "image/png": "[encoded data removed]",
      "text/plain": [
       "<Figure size 640x480 with 1 Axes>"
      ]
     },
     "metadata": {},
     "output_type": "display_data"
    }
   ],
   "source": [
    "# Choose a Seaborn color palette\n",
    "# colors = sns.color_palette('pastel')[0:4]\n",
    "labels = [f\"{rating}-({percentage}%)\" for rating, percentage in zip(count_table[\"rating\"], count_table[\"percentage\"])]\n",
    "# Create the pie chart\n",
    "plt.pie(count_table['count'], labels=labels, \n",
    "        # colors=colors, autopct='%.0f%%'\n",
    "        )\n",
    "plt.title('Moview ratings percentages')\n",
    "plt.show()"
   ]
  },
  {
   "cell_type": "markdown",
   "id": "92c35aa4",
   "metadata": {},
   "source": [
    "This looks intesting, we get a complete understanding of the data distribution. We can see that 4, 3 and 5 are the most common ratings.\n",
    "\n",
    "It would be interesting to look at these ratings along with the users who gave them and the movies they are for.\n",
    "\n",
    "First, we will explore the users"
   ]
  },
  {
   "cell_type": "code",
   "execution_count": 14,
   "id": "e5567c99",
   "metadata": {},
   "outputs": [
    {
     "name": "stdout",
     "output_type": "stream",
     "text": [
      "total size of unique users ratings\n",
      "415479\n",
      "description of unique users ratings\n",
      "count    138493.000000\n",
      "mean        144.413530\n",
      "std         230.267257\n",
      "min          20.000000\n",
      "25%          35.000000\n",
      "50%          68.000000\n",
      "75%         155.000000\n",
      "max        9254.000000\n",
      "Name: count, dtype: float64\n",
      "The top rating provider\n",
      "       userId  count  percentage\n",
      "20231  118205   9254    0.046269\n"
     ]
    }
   ],
   "source": [
    "n_unique_users = ratings['userId'].nunique()\n",
    " \n",
    "user_count = ratings.groupby('userId').size().reset_index(name='count')\n",
    "# user_count[\"percentage\"] = round((user_count[\"count\"]/user_count[\"count\"].sum())*100, 2)\n",
    "user_count[\"percentage\"] = (user_count[\"count\"]/total)*100\n",
    "\n",
    "user_count = user_count.sort_values(by=\"count\", ascending=False)\n",
    "# pc = int(len(user_count) * 0.01)\n",
    "# top_raters = user_count[user_count[\"count\"]>2000]\n",
    "# print(len(top_raters))\n",
    "# print(top_raters[\"percentage\"].sum())\n",
    "\n",
    "# print(top_1000.sort_values(by=\"percentage\", ascending=False))\n",
    "\n",
    "print(\"total size of unique users ratings\")\n",
    "print(user_count.size)\n",
    "print(\"description of unique users ratings\")\n",
    "print(user_count[\"count\"].describe())\n",
    "print(\"The top rating provider\")\n",
    "print(user_count.head(1))\n",
    "\n"
   ]
  },
  {
   "cell_type": "code",
   "execution_count": 15,
   "id": "3090a56d",
   "metadata": {},
   "outputs": [
    {
     "data": {
      "image/png": "[encoded data removed]",
      "text/plain": [
       "<Figure size 640x480 with 1 Axes>"
      ]
     },
     "metadata": {},
     "output_type": "display_data"
    }
   ],
   "source": [
    "plt.hist(user_count[\"count\"], bins=100 )\n",
    "plt.yscale(\"log\")"
   ]
  },
  {
   "cell_type": "code",
   "execution_count": 16,
   "id": "30215abd",
   "metadata": {},
   "outputs": [
    {
     "data": {
      "text/plain": [
       "<Axes: >"
      ]
     },
     "execution_count": 16,
     "metadata": {},
     "output_type": "execute_result"
    },
    {
     "data": {
      "image/png": "[encoded data removed]",
      "text/plain": [
       "<Figure size 640x480 with 1 Axes>"
      ]
     },
     "metadata": {},
     "output_type": "display_data"
    }
   ],
   "source": [
    "user_count[\"count\"].plot.box()\n"
   ]
  },
  {
   "cell_type": "markdown",
   "id": "c590d07a",
   "metadata": {},
   "source": [
    "Its clear to see there are some outlyer users who provider a dispraportionate amount of reviews. The top rating provider is user 20231 with 9245 ratings has provided 0.04 of all the ratings in the dataset. this leads me to want to know how many of the all the movies has this user rated? "
   ]
  },
  {
   "cell_type": "code",
   "execution_count": 17,
   "id": "191ff818",
   "metadata": {},
   "outputs": [
    {
     "name": "stdout",
     "output_type": "stream",
     "text": [
      "total unique movies= 26744\n",
      "total unique users= 138493\n"
     ]
    }
   ],
   "source": [
    "\n",
    "n_unique_movies = ratings['movieId'].nunique()\n",
    "print(f\"total unique movies= {n_unique_movies}\")\n",
    "print(f\"total unique users= {n_unique_users}\")"
   ]
  },
  {
   "cell_type": "markdown",
   "id": "0ec8ee1e",
   "metadata": {},
   "source": [
    "I know would like to know about the movies people are rating:\n",
    "- what is the most rated movie?\n",
    "- what is the least?\n",
    "- is any movie not rated? "
   ]
  },
  {
   "cell_type": "code",
   "execution_count": 18,
   "id": "afa7609a",
   "metadata": {},
   "outputs": [
    {
     "name": "stdout",
     "output_type": "stream",
     "text": [
      "              count    percentage\n",
      "count  26744.000000  26744.000000\n",
      "mean     747.841123      0.003739\n",
      "std     3085.818268      0.015429\n",
      "min        1.000000      0.000005\n",
      "25%        3.000000      0.000015\n",
      "50%       18.000000      0.000090\n",
      "75%      205.000000      0.001025\n",
      "max    67310.000000      0.336546\n",
      "the most rated movie is\n",
      "     movieId  count  percentage\n",
      "9785     296  67310    0.336546\n",
      "the least rated movie is\n",
      "      movieId  count  percentage\n",
      "13372   47250      1    0.000005\n"
     ]
    }
   ],
   "source": [
    "movie_count = ratings.groupby('movieId').size().reset_index(name='count')\n",
    "# user_count[\"percentage\"] = round((user_count[\"count\"]/user_count[\"count\"].sum())*100, 2)\n",
    "movie_count[\"percentage\"] = (movie_count[\"count\"]/total)*100\n",
    "\n",
    "movie_count = movie_count.sort_values(by=\"count\", ascending=False)\n",
    "print(movie_count.describe())\n",
    "print(\"the most rated movie is\")\n",
    "print(movie_count.head(1))\n",
    "print(\"the least rated movie is\")\n",
    "print(movie_count.tail(1))"
   ]
  },
  {
   "cell_type": "code",
   "execution_count": 19,
   "id": "383f56f7",
   "metadata": {},
   "outputs": [
    {
     "data": {
      "text/plain": [
       "(array([496., 486., 454., 436., 394., 422., 344., 418., 361., 327., 310.,\n",
       "        305., 252., 274., 278., 221., 249., 195., 282., 214., 214., 211.,\n",
       "        201., 193., 164., 169., 172., 182., 132., 150., 149., 139., 122.,\n",
       "        127., 130., 135., 100., 103., 114.,  86.,  94., 113.,  80.,  97.,\n",
       "        102.,  78.,  75.,  77.,  67.,  89.,  76.,  78.,  79.,  72.,  69.,\n",
       "         66.,  69.,  63.,  46.,  57.,  56.,  60.,  47.,  45.,  50.,  40.,\n",
       "         48.,  49.,  34.,  39.,  51.,  40.,  32.,  24.,  44.,  47.,  46.,\n",
       "         26.,  40.,  48.,  34.,  37.,  37.,  45.,  38.,  26.,  45.,  35.,\n",
       "         27.,  26.,  23.,  29.,  28.,  26.,  24.,  25.,  14.,  29.,  15.,\n",
       "         30.,  19.,  27.,  28.,  14.,  16.,  17.,  20.,  19.,  20.,  13.,\n",
       "         17.,  15.,  16.,  14.,  20.,  16.,  21.,  17.,   6.,  12.,  20.,\n",
       "         20.,  18.,   6.,  13.,  14.,  10.,  13.,   9.,   7.,  15.,  11.,\n",
       "         11.,   8.,  11.,   6.,   7.,  12.,  11.,   7.,   8.,   7.,   6.,\n",
       "         11.,  10.,   4.,   1.,   2.,   5.,   8.,  10.,   9.,  10.,   3.,\n",
       "          6.,   9.,   6.,   8.,   5.,   7.,   5.,   2.,   6.,   2.,   3.,\n",
       "          3.,   3.,   1.,   5.,   6.,   4.,   6.,   2.,   0.,   4.,   2.,\n",
       "          5.,   5.,   5.,   4.,   5.,   7.,   1.,   2.,   5.,   4.,   3.,\n",
       "          3.,   3.,   6.,   3.,   0.,   3.,   3.,   2.,   4.,   3.,   5.,\n",
       "          2.,   1.,   4.,   2.,   2.,   3.,   8.,   4.,   2.,   5.,   4.,\n",
       "          4.,   3.,   3.,   1.,   3.,   1.,   2.,   2.,   2.,   2.,   0.,\n",
       "          5.,   4.,   3.,   2.,   2.,   2.,   1.,   2.,   1.,   2.,   3.,\n",
       "          1.,   1.,   2.,   1.,   0.,   1.,   2.,   1.,   0.,   3.,   2.,\n",
       "          0.,   0.,   2.,   1.,   2.,   3.,   2.,   2.,   0.,   2.,   1.,\n",
       "          2.,   3.,   0.,   0.,   0.,   3.,   3.,   0.,   1.,   0.,   1.,\n",
       "          2.,   1.,   2.,   1.,   1.,   2.,   2.,   2.,   2.,   0.,   2.,\n",
       "          1.,   2.,   0.,   1.,   0.,   1.,   1.,   1.,   0.,   1.,   2.,\n",
       "          0.,   1.,   2.,   1.,   0.,   0.,   0.,   0.,   2.,   0.,   0.,\n",
       "          0.,   0.,   0.,   1.,   1.,   1.,   0.,   0.,   0.,   1.,   0.,\n",
       "          1.,   0.,   2.,   1.,   1.,   0.,   1.,   0.,   0.,   1.,   0.,\n",
       "          2.,   0.,   0.,   0.,   0.,   0.,   0.,   0.,   0.,   0.,   0.,\n",
       "          1.,   1.,   0.,   0.,   0.,   0.,   0.,   0.,   0.,   0.,   0.,\n",
       "          2.,   0.,   1.,   0.,   1.,   1.,   0.,   0.,   2.,   0.,   0.,\n",
       "          0.,   1.,   0.,   1.,   0.,   0.,   0.,   1.,   0.,   0.,   0.,\n",
       "          0.,   1.,   0.,   1.,   1.,   0.,   0.,   1.,   1.,   1.,   0.,\n",
       "          0.,   0.,   0.,   0.,   0.,   0.,   0.,   2.,   0.,   0.,   0.,\n",
       "          0.,   0.,   0.,   1.,   0.,   0.,   0.,   0.,   0.,   0.,   1.,\n",
       "          0.,   0.,   0.,   0.,   1.,   0.,   0.,   0.,   0.,   0.,   1.,\n",
       "          0.,   0.,   0.,   0.,   0.,   0.,   0.,   0.,   0.,   0.,   0.,\n",
       "          0.,   0.,   0.,   2.,   1.,   0.,   0.,   0.,   0.,   0.,   0.,\n",
       "          0.,   0.,   1.,   0.,   0.,   0.,   0.,   0.,   1.,   0.,   0.,\n",
       "          0.,   0.,   0.,   0.,   0.,   0.,   0.,   0.,   0.,   0.,   1.,\n",
       "          0.,   0.,   0.,   0.,   0.,   0.,   0.,   0.,   0.,   0.,   0.,\n",
       "          0.,   0.,   0.,   0.,   0.,   0.,   0.,   1.,   0.,   0.,   0.,\n",
       "          0.,   0.,   0.,   0.,   0.,   0.,   0.,   0.,   0.,   0.,   0.,\n",
       "          0.,   0.,   0.,   0.,   0.,   0.,   1.,   0.,   0.,   0.,   0.,\n",
       "          0.,   0.,   0.,   1.,   0.,   0.,   0.,   0.,   0.,   0.,   0.,\n",
       "          0.,   0.,   0.,   0.,   0.,   0.,   0.,   0.,   0.,   0.,   0.,\n",
       "          0.,   0.,   0.,   0.,   1.,   0.,   0.,   0.,   0.,   0.,   0.,\n",
       "          0.,   0.,   0.,   0.,   0.,   0.,   0.,   0.,   0.,   0.,   0.,\n",
       "          0.,   0.,   1.,   0.,   0.,   0.,   0.,   0.,   0.,   0.,   0.,\n",
       "          0.,   0.,   0.,   0.,   0.,   0.,   0.,   0.,   0.,   1.,   0.,\n",
       "          0.,   1.,   0.,   0.,   0.,   0.,   0.,   0.,   0.,   0.,   0.,\n",
       "          0.,   1.,   0.,   0.,   0.,   0.,   1.,   0.,   0.,   1.,   0.,\n",
       "          0.,   0.,   0.,   0.,   0.,   0.,   0.,   0.,   0.,   0.,   0.,\n",
       "          0.,   1.,   0.,   0.,   0.,   0.,   0.,   0.,   0.,   0.,   0.,\n",
       "          0.,   0.,   0.,   0.,   0.,   0.,   0.,   0.,   0.,   0.,   0.,\n",
       "          0.,   0.,   0.,   0.,   0.,   0.,   0.,   0.,   0.,   0.,   0.,\n",
       "          0.,   0.,   0.,   0.,   0.,   0.,   0.,   0.,   0.,   0.,   0.,\n",
       "          0.,   0.,   0.,   0.,   0.,   0.,   0.,   0.,   0.,   0.,   0.,\n",
       "          0.,   0.,   0.,   0.,   0.,   0.,   0.,   0.,   0.,   0.,   0.,\n",
       "          0.,   0.,   0.,   0.,   0.,   0.,   0.,   0.,   0.,   0.,   0.,\n",
       "          0.,   0.,   0.,   0.,   0.,   0.,   0.,   0.,   0.,   0.,   0.,\n",
       "          0.,   0.,   0.,   0.,   0.,   0.,   0.,   0.,   0.,   0.,   0.,\n",
       "          0.,   0.,   0.,   0.,   0.,   0.,   0.,   0.,   0.,   0.,   0.,\n",
       "          0.,   0.,   0.,   0.,   0.,   0.,   0.,   0.,   0.,   0.,   0.,\n",
       "          0.,   0.,   0.,   0.,   0.,   0.,   0.,   0.,   0.,   0.,   0.,\n",
       "          0.,   0.,   0.,   0.,   0.,   0.,   0.,   0.,   0.,   0.,   0.,\n",
       "          0.,   0.,   0.,   0.,   0.,   0.,   0.,   0.,   0.,   0.,   0.,\n",
       "          0.,   0.,   0.,   0.,   0.,   0.,   0.,   0.,   0.,   0.,   0.,\n",
       "          0.,   0.,   0.,   0.,   0.,   0.,   0.,   0.,   0.,   0.,   0.,\n",
       "          0.,   0.,   0.,   0.,   0.,   0.,   0.,   0.,   0.,   0.,   0.,\n",
       "          0.,   0.,   0.,   0.,   0.,   0.,   0.,   0.,   0.,   0.,   0.,\n",
       "          0.,   0.,   0.,   0.,   0.,   0.,   0.,   0.,   0.,   0.,   0.,\n",
       "          0.,   0.,   1.,   0.,   0.,   0.,   0.,   0.,   0.,   0.,   0.,\n",
       "          0.,   0.,   0.,   0.,   0.,   0.,   0.,   0.,   0.,   0.,   0.,\n",
       "          0.,   0.,   0.,   0.,   0.,   0.,   0.,   0.,   0.,   0.,   0.,\n",
       "          0.,   0.,   0.,   0.,   0.,   0.,   0.,   0.,   0.,   0.,   0.,\n",
       "          0.,   0.,   0.,   0.,   0.,   0.,   0.,   0.,   0.,   0.,   0.,\n",
       "          0.,   0.,   0.,   0.,   0.,   0.,   0.,   0.,   0.,   0.,   0.,\n",
       "          0.,   0.,   0.,   0.,   0.,   0.,   0.,   0.,   0.,   0.,   0.,\n",
       "          0.,   0.,   0.,   0.,   0.,   0.,   0.,   0.,   0.,   0.,   0.,\n",
       "          0.,   0.,   0.,   0.,   0.,   0.,   0.,   0.,   0.,   0.,   0.,\n",
       "          0.,   0.,   0.,   0.,   0.,   0.,   0.,   0.,   0.,   0.,   0.,\n",
       "          0.,   0.,   0.,   0.,   0.,   0.,   0.,   0.,   0.,   0.,   0.,\n",
       "          0.,   0.,   0.,   0.,   0.,   0.,   0.,   0.,   0.,   0.,   0.,\n",
       "          0.,   0.,   0.,   0.,   0.,   0.,   0.,   0.,   0.,   0.,   0.,\n",
       "          0.,   0.,   0.,   0.,   0.,   0.,   0.,   0.,   0.,   0.,   0.,\n",
       "          0.,   0.,   0.,   0.,   0.,   0.,   0.,   0.,   0.,   0.,   0.,\n",
       "          0.,   0.,   0.,   0.,   0.,   0.,   0.,   0.,   0.,   0.,   0.,\n",
       "          0.,   0.,   0.,   0.,   0.,   0.,   0.,   0.,   0.,   0.,   0.,\n",
       "          0.,   0.,   0.,   0.,   0.,   0.,   0.,   0.,   0.,   1.]),\n",
       " array([ 336.   ,  344.918,  353.836, ..., 9236.164, 9245.082, 9254.   ]),\n",
       " <BarContainer object of 1000 artists>)"
      ]
     },
     "execution_count": 19,
     "metadata": {},
     "output_type": "execute_result"
    },
    {
     "data": {
      "image/png": "[encoded data removed]",
      "text/plain": [
       "<Figure size 640x480 with 1 Axes>"
      ]
     },
     "metadata": {},
     "output_type": "display_data"
    }
   ],
   "source": [
    "Q1 = user_count['count'].quantile(0.25)\n",
    "Q3 = user_count['count'].quantile(0.75)\n",
    "IQR = Q3 - Q1\n",
    "\n",
    "lower_bound = Q1 - 1.5 * IQR\n",
    "upper_bound = Q3 + 1.5 * IQR\n",
    "\n",
    "outliers = user_count[(user_count['count'] < lower_bound) | (user_count['count'] > upper_bound)]\n",
    "# print(outliers)\n",
    "# outliers['count'].plot.hist()\n",
    "plt.hist(outliers[\"count\"], bins=1000 )"
   ]
  },
  {
   "cell_type": "code",
   "execution_count": 20,
   "id": "a625f225",
   "metadata": {},
   "outputs": [
    {
     "name": "stdout",
     "output_type": "stream",
     "text": [
      "            Ratings   Minus Outlier Users Subset\n",
      "count  138493.000000               124712.000000\n",
      "mean      144.413530                   87.162542\n",
      "std       230.267257                   73.167558\n",
      "min        20.000000                   20.000000\n",
      "25%        35.000000                   32.000000\n",
      "50%        68.000000                   59.000000\n",
      "75%       155.000000                  117.000000\n",
      "max      9254.000000                  335.000000\n"
     ]
    }
   ],
   "source": [
    "ratings_minus_outlier_users = ratings[~ratings[\"userId\"].isin(outliers[\"userId\"])]\n",
    "\n",
    "ratings_minus_outlier_users = ratings[~ratings[\"userId\"].isin(outliers[\"userId\"])]\n",
    "\n",
    "users_count_2 = ratings_minus_outlier_users.groupby('userId').size().reset_index(name='count')\n",
    "\n",
    "# print(f\"dataset count with outlyer rating providers removed {ratings_minus_outlier_users.size}\")\n",
    "# print(f\"amount of unique users with outlyer rating providers removed {users_count_2.size}\")\n",
    "users_count_2.describe()\n",
    "# Generate descriptive statistics\n",
    "desc1 = user_count[\"count\"].describe()\n",
    "desc2 = users_count_2.describe()\n",
    "\n",
    "# Combine the results into a single table\n",
    "combined_desc = pd.concat([desc1, desc2], axis=1)\n",
    "combined_desc.columns = ['Ratings ', 'Minus Outlier Users Subset']\n",
    "print(combined_desc)"
   ]
  },
  {
   "cell_type": "code",
   "execution_count": 21,
   "id": "9f329093",
   "metadata": {},
   "outputs": [
    {
     "data": {
      "text/plain": [
       "(array([55516., 22751., 14420.,  9087.,  6648.,  4746.,  3974.,  2978.,\n",
       "         2459.,  2133.]),\n",
       " array([ 20. ,  51.5,  83. , 114.5, 146. , 177.5, 209. , 240.5, 272. ,\n",
       "        303.5, 335. ]),\n",
       " <BarContainer object of 10 artists>)"
      ]
     },
     "execution_count": 21,
     "metadata": {},
     "output_type": "execute_result"
    },
    {
     "data": {
      "image/png": "[encoded data removed]",
      "text/plain": [
       "<Figure size 640x480 with 1 Axes>"
      ]
     },
     "metadata": {},
     "output_type": "display_data"
    }
   ],
   "source": [
    "plt.hist(users_count_2[\"count\"], bins=10 )"
   ]
  },
  {
   "cell_type": "code",
   "execution_count": 22,
   "id": "5db006e2",
   "metadata": {},
   "outputs": [
    {
     "data": {
      "text/plain": [
       "<Axes: >"
      ]
     },
     "execution_count": 22,
     "metadata": {},
     "output_type": "execute_result"
    },
    {
     "data": {
      "image/png": "[encoded data removed]",
      "text/plain": [
       "<Figure size 640x480 with 1 Axes>"
      ]
     },
     "metadata": {},
     "output_type": "display_data"
    }
   ],
   "source": [
    "\n",
    "users_count_2[\"count\"].plot.box()"
   ]
  },
  {
   "cell_type": "markdown",
   "id": "65366d94",
   "metadata": {},
   "source": [
    "Next lets look the at timestamp variable"
   ]
  },
  {
   "cell_type": "code",
   "execution_count": 23,
   "id": "10434b15",
   "metadata": {},
   "outputs": [
    {
     "name": "stdout",
     "output_type": "stream",
     "text": [
      "              count  percentage\n",
      "count  4.000000e+00    4.000000\n",
      "mean   5.000066e+06   25.000000\n",
      "std    1.968838e+05    0.984406\n",
      "min    4.801330e+06   24.006334\n",
      "25%    4.874225e+06   24.370803\n",
      "50%    4.972644e+06   24.862896\n",
      "75%    5.098486e+06   25.492092\n",
      "max    5.253644e+06   26.267875\n",
      "the season when most ratings happen\n",
      "   season    count  percentage\n",
      "3  Winter  5253644   26.267875\n",
      "the season when least ratings happen\n",
      "   season    count  percentage\n",
      "1  Spring  4801330   24.006334\n"
     ]
    },
    {
     "data": {
      "text/plain": [
       "<Axes: ylabel='percentage'>"
      ]
     },
     "execution_count": 23,
     "metadata": {},
     "output_type": "execute_result"
    },
    {
     "data": {
      "image/png": "[encoded data removed]",
      "text/plain": [
       "<Figure size 640x480 with 1 Axes>"
      ]
     },
     "metadata": {},
     "output_type": "display_data"
    }
   ],
   "source": [
    "# print(ratings[\"timestamp\"].describe())\n",
    "\n",
    "ratings[\"year\"] = ratings[\"timestamp\"].dt.year\n",
    "ratings[\"month\"] = ratings[\"timestamp\"].dt.month\n",
    "\n",
    "def get_season(month):\n",
    "    if month in [12, 1, 2]:\n",
    "        return 'Winter'\n",
    "    elif month in [3, 4, 5]:\n",
    "        return 'Spring'\n",
    "    elif month in [6, 7, 8]:\n",
    "        return 'Summer'\n",
    "    elif month in [9, 10, 11]:\n",
    "        return 'Autumn'\n",
    "\n",
    "ratings[\"season\"] = ratings[\"timestamp\"].dt.month.apply(get_season)\n",
    "# print(ratings)\n",
    "\n",
    "season_count = ratings.groupby([\"season\"]).size().reset_index(name='count')\n",
    "# user_count[\"percentage\"] = round((user_count[\"count\"]/user_count[\"count\"].sum())*100, 2)\n",
    "season_count[\"percentage\"] = (season_count[\"count\"]/total)*100\n",
    "\n",
    "season_count = season_count.sort_values(by=\"count\", ascending=False)\n",
    "print(season_count.describe())\n",
    "print(\"the season when most ratings happen\")\n",
    "print(season_count.head(1))\n",
    "print(\"the season when least ratings happen\")\n",
    "print(season_count.tail(1))\n",
    "labels = [f\"{season}-({round(percentage, 0)}%)\" for season, percentage in zip(season_count[\"season\"], season_count[\"percentage\"])]\n",
    "season_count[\"percentage\"].plot.pie(labels=labels)"
   ]
  },
  {
   "cell_type": "code",
   "execution_count": 35,
   "id": "f84cd354",
   "metadata": {},
   "outputs": [
    {
     "name": "stdout",
     "output_type": "stream",
     "text": [
      "     year  season  month   count\n",
      "0    1995  Winter      1       4\n",
      "1    1996  Autumn      9  151709\n",
      "2    1996  Autumn     10  191064\n",
      "3    1996  Autumn     11  184983\n",
      "4    1996  Spring      3    9314\n",
      "..    ...     ...    ...     ...\n",
      "226  2014  Winter      2   42988\n",
      "227  2014  Winter     12   79644\n",
      "228  2015  Spring      3   87678\n",
      "229  2015  Winter      1  107750\n",
      "230  2015  Winter      2   88458\n",
      "\n",
      "[231 rows x 4 columns]\n"
     ]
    },
    {
     "data": {
      "image/png": "[encoded data removed]",
      "text/plain": [
       "<Figure size 1000x600 with 1 Axes>"
      ]
     },
     "metadata": {},
     "output_type": "display_data"
    }
   ],
   "source": [
    "\n",
    "\n",
    "# monthly_counts['year'] = monthly_counts['timestamp'].dt.year-1990\n",
    "seasonal_counts = ratings.groupby([\"year\", 'season', \"month\"]).size().reset_index(name='count')\n",
    "print(seasonal_counts)\n",
    "# Plotting the bar chart with seaborn\n",
    "plt.figure(figsize=(10, 6))\n",
    "sns.color_palette(\"hls\", 8)\n",
    "# barblot\n",
    "sns.barplot(x='year', y='count', hue='season', data=seasonal_counts, errorbar=None)\n",
    "# cat plot\n",
    "# sns.catplot( data=seasonal_counts,x='year', y='count', hue='season',kind=\"bar\")\n",
    "# sns.displot(\n",
    "#     seasonal_counts, x=\"count\", col=\"year\", hue=\"season\"\n",
    "#     binwidth=3, height=3, facet_kws=dict(margin_titles=True),\n",
    "# )\n",
    "plt.title('Seasonal Ratings Counts')\n",
    "plt.xlabel('Seasonal')\n",
    "plt.ylabel('Number of Observations')\n",
    "plt.xticks(rotation=45)\n",
    "plt.tight_layout()\n",
    "plt.show()"
   ]
  },
  {
   "cell_type": "markdown",
   "id": "5810b639",
   "metadata": {},
   "source": [
    "What was the reasoson for the spike in Spring 2005? "
   ]
  },
  {
   "cell_type": "code",
   "execution_count": 48,
   "id": "418899da",
   "metadata": {},
   "outputs": [
    {
     "name": "stdout",
     "output_type": "stream",
     "text": [
      "<class 'pandas.core.frame.DataFrame'>\n",
      "Index: 727442 entries, 0 to 19999889\n",
      "Data columns (total 7 columns):\n",
      " #   Column     Non-Null Count   Dtype         \n",
      "---  ------     --------------   -----         \n",
      " 0   userId     727442 non-null  object        \n",
      " 1   movieId    727442 non-null  object        \n",
      " 2   rating     727442 non-null  float64       \n",
      " 3   timestamp  727442 non-null  datetime64[ns]\n",
      " 4   year       727442 non-null  int32         \n",
      " 5   month      727442 non-null  int32         \n",
      " 6   season     727442 non-null  object        \n",
      "dtypes: datetime64[ns](1), float64(1), int32(2), object(3)\n",
      "memory usage: 38.8+ MB\n"
     ]
    },
    {
     "data": {
      "text/plain": [
       "userId         6496\n",
       "movieId        7668\n",
       "rating           10\n",
       "timestamp    630381\n",
       "year              1\n",
       "month             3\n",
       "season            1\n",
       "dtype: int64"
      ]
     },
     "execution_count": 48,
     "metadata": {},
     "output_type": "execute_result"
    }
   ],
   "source": [
    "spring_2005 = ratings.loc[(ratings['year'] == 2005) & (ratings['season'] == 'Spring')]\n",
    "spring_2005.info()\n",
    "spring_2005.describe()\n",
    "spring_2005.nunique()"
   ]
  },
  {
   "cell_type": "code",
   "execution_count": 61,
   "id": "88e38b9f",
   "metadata": {},
   "outputs": [
    {
     "data": {
      "text/html": [
       "<div>\n",
       "<style scoped>\n",
       "    .dataframe tbody tr th:only-of-type {\n",
       "        vertical-align: middle;\n",
       "    }\n",
       "\n",
       "    .dataframe tbody tr th {\n",
       "        vertical-align: top;\n",
       "    }\n",
       "\n",
       "    .dataframe thead th {\n",
       "        text-align: right;\n",
       "    }\n",
       "</style>\n",
       "<table border=\"1\" class=\"dataframe\">\n",
       "  <thead>\n",
       "    <tr style=\"text-align: right;\">\n",
       "      <th></th>\n",
       "      <th>movieId</th>\n",
       "      <th>count</th>\n",
       "    </tr>\n",
       "  </thead>\n",
       "  <tbody>\n",
       "    <tr>\n",
       "      <th>5213</th>\n",
       "      <td>5952</td>\n",
       "      <td>2422</td>\n",
       "    </tr>\n",
       "    <tr>\n",
       "      <th>4288</th>\n",
       "      <td>4993</td>\n",
       "      <td>2127</td>\n",
       "    </tr>\n",
       "    <tr>\n",
       "      <th>3571</th>\n",
       "      <td>4306</td>\n",
       "      <td>2082</td>\n",
       "    </tr>\n",
       "    <tr>\n",
       "      <th>1515</th>\n",
       "      <td>2571</td>\n",
       "      <td>2060</td>\n",
       "    </tr>\n",
       "    <tr>\n",
       "      <th>6346</th>\n",
       "      <td>7153</td>\n",
       "      <td>2033</td>\n",
       "    </tr>\n",
       "    <tr>\n",
       "      <th>...</th>\n",
       "      <td>...</td>\n",
       "      <td>...</td>\n",
       "    </tr>\n",
       "    <tr>\n",
       "      <th>4853</th>\n",
       "      <td>5558</td>\n",
       "      <td>1</td>\n",
       "    </tr>\n",
       "    <tr>\n",
       "      <th>2417</th>\n",
       "      <td>3228</td>\n",
       "      <td>1</td>\n",
       "    </tr>\n",
       "    <tr>\n",
       "      <th>4854</th>\n",
       "      <td>5559</td>\n",
       "      <td>1</td>\n",
       "    </tr>\n",
       "    <tr>\n",
       "      <th>4858</th>\n",
       "      <td>5562</td>\n",
       "      <td>1</td>\n",
       "    </tr>\n",
       "    <tr>\n",
       "      <th>2775</th>\n",
       "      <td>3520</td>\n",
       "      <td>1</td>\n",
       "    </tr>\n",
       "  </tbody>\n",
       "</table>\n",
       "<p>7668 rows × 2 columns</p>\n",
       "</div>"
      ],
      "text/plain": [
       "     movieId  count\n",
       "5213    5952   2422\n",
       "4288    4993   2127\n",
       "3571    4306   2082\n",
       "1515    2571   2060\n",
       "6346    7153   2033\n",
       "...      ...    ...\n",
       "4853    5558      1\n",
       "2417    3228      1\n",
       "4854    5559      1\n",
       "4858    5562      1\n",
       "2775    3520      1\n",
       "\n",
       "[7668 rows x 2 columns]"
      ]
     },
     "execution_count": 61,
     "metadata": {},
     "output_type": "execute_result"
    }
   ],
   "source": [
    "# movies_spring_2005 = spring_2005.groupby(\"movieId\").agg(\"count\")\n",
    "movies_spring_2005 = spring_2005.groupby(\"movieId\").size().reset_index(name=\"count\").sort_values(by=\"count\", ascending=False)\n",
    "movies_spring_2005"
   ]
  },
  {
   "cell_type": "markdown",
   "id": "0c4645a0",
   "metadata": {},
   "source": [
    "there are too many movies to expore them. I need some other way of grouping the movies. I will look at using the tags to group and sperate the movies"
   ]
  }
 ],
 "metadata": {
  "kernelspec": {
   "display_name": "movie-recommender",
   "language": "python",
   "name": "python3"
  },
  "language_info": {
   "codemirror_mode": {
    "name": "ipython",
    "version": 3
   },
   "file_extension": ".py",
   "mimetype": "text/x-python",
   "name": "python",
   "nbconvert_exporter": "python",
   "pygments_lexer": "ipython3",
   "version": "3.10.14"
  }
 },
 "nbformat": 4,
 "nbformat_minor": 5
}
