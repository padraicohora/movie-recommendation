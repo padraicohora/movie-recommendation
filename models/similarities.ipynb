{
 "cells": [
  {
   "cell_type": "markdown",
   "metadata": {},
   "source": [
    "Trying similarites models for content based filtering.\n",
    "\n"
   ]
  },
  {
   "cell_type": "code",
   "execution_count": 1,
   "metadata": {},
   "outputs": [],
   "source": [
    "from sklearn.metrics.pairwise import cosine_similarity\n",
    "import pandas as pd\n",
    "import numpy as np"
   ]
  },
  {
   "cell_type": "code",
   "execution_count": 2,
   "metadata": {},
   "outputs": [
    {
     "data": {
      "text/plain": [
       "array([[0.75      , 0.5       , 0.67082039, 0.28867513, 0.28867513],\n",
       "       [0.57735027, 0.57735027, 0.51639778, 0.33333333, 0.33333333]])"
      ]
     },
     "execution_count": 2,
     "metadata": {},
     "output_type": "execute_result"
    }
   ],
   "source": [
    "\n",
    "X = [[0, 1, 0, 1, 1, 1], [0, 1, 0, 1, 1, 0] ]\n",
    "Y = [[1, 0, 0, 1, 1, 1], [1, 0, 1, 1, 1, 0], [1, 0, 1, 1, 1, 1], [1, 0, 1, 0, 1, 0], [1, 0, 1, 0, 1, 0]]\n",
    "cosine_similarity(X, Y)"
   ]
  },
  {
   "cell_type": "code",
   "execution_count": 3,
   "metadata": {},
   "outputs": [
    {
     "name": "stderr",
     "output_type": "stream",
     "text": [
      "/var/folders/55/xtgthnr12lz2b2j6l0pqj7zm0459s6/T/ipykernel_73837/2087636196.py:3: DtypeWarning: Columns (0,4,5,6,7,8,9,10,11,12,13,14,15,16,17,18,19,20,21,22,23,24,25,26,28,29,34,35) have mixed types. Specify dtype option on import or set low_memory=False.\n",
      "  sim_data = pd.read_csv('../samples/combined_movies_ratings_tags.csv', names=col_names, index_col=False, skiprows=0)\n",
      "/var/folders/55/xtgthnr12lz2b2j6l0pqj7zm0459s6/T/ipykernel_73837/2087636196.py:3: ParserWarning: Length of header or names does not match length of data. This leads to a loss of data with index_col=False.\n",
      "  sim_data = pd.read_csv('../samples/combined_movies_ratings_tags.csv', names=col_names, index_col=False, skiprows=0)\n"
     ]
    }
   ],
   "source": [
    "col_names = [\"movieId\",\"title\",\"genres\",\"movie_name\",\"movie_year\",\"(no genres listed)\",\"Action\",\"Adventure\",\"Animation\",\"Children\",\"Comedy\",\"Crime\",\"Documentary\",\"Drama\",\"Fantasy\",\"Film-Noir\",\"Horror\",\"IMAX\",\"Musical\",\"Mystery\",\"Romance\",\"Sci-Fi\",\"Thriller\",\"War\",\"Western\",\"userId\",\"user_rating\",\"rating_timestamp\",\"rating_year\",\"rating_month\",\"rating_season,tag\",\"tag_timestamp\",\"cleaned_tag\",\"tag_length\",\"tag_year\"]\n",
    "\n",
    "sim_data = pd.read_csv('../samples/combined_movies_ratings_tags.csv', names=col_names, index_col=False, skiprows=0)\n",
    "\n",
    "sim_data_subset = sim_data[[\n",
    "    'userId', 'movieId', 'user_rating',\n",
    "    \"(no genres listed)\",\"Action\",\"Adventure\",\"Animation\",\"Children\",\"Comedy\",\"Crime\",\"Documentary\",\"Drama\",\"Fantasy\",\"Film-Noir\",\"Horror\",\"IMAX\",\"Musical\",\"Mystery\",\"Romance\",\"Sci-Fi\",\"Thriller\",\"War\",\"Western\"\n",
    "    ]]\n"
   ]
  },
  {
   "cell_type": "code",
   "execution_count": 4,
   "metadata": {},
   "outputs": [],
   "source": [
    "\n",
    "# user matrix\n",
    "user_ids = sim_data_subset['userId'].unique()\n",
    "\n",
    "num_users_10_percent = int(len(user_ids) * 0.1)\n",
    "\n",
    "sampled_users = np.random.choice(user_ids, num_users_10_percent, replace=False)\n",
    "\n",
    "data_sample = sim_data_subset[sim_data_subset['userId'].isin(sampled_users)]\n"
   ]
  },
  {
   "cell_type": "code",
   "execution_count": 5,
   "metadata": {},
   "outputs": [
    {
     "name": "stderr",
     "output_type": "stream",
     "text": [
      "/var/folders/55/xtgthnr12lz2b2j6l0pqj7zm0459s6/T/ipykernel_73837/2810162876.py:5: FutureWarning: DataFrame.applymap has been deprecated. Use DataFrame.map instead.\n",
      "  genre_sample = genre_sample.applymap(lambda x: 1 if x == 'True' else 0)\n"
     ]
    }
   ],
   "source": [
    "genre_sample = data_sample[[\n",
    "    \"(no genres listed)\",\"Action\",\"Adventure\",\"Animation\",\"Children\",\"Comedy\",\"Crime\",\"Documentary\",\"Drama\",\"Fantasy\",\"Film-Noir\",\"Horror\",\"IMAX\",\"Musical\",\"Mystery\",\"Romance\",\"Sci-Fi\",\"Thriller\",\"War\",\"Western\"\n",
    "    ]]\n",
    "\n",
    "genre_sample = genre_sample.applymap(lambda x: 1 if x == 'True' else 0)"
   ]
  },
  {
   "cell_type": "code",
   "execution_count": 7,
   "metadata": {},
   "outputs": [
    {
     "name": "stdout",
     "output_type": "stream",
     "text": [
      "    (no genres listed)  Action  Adventure  Animation  Children  Comedy  Crime  \\\n",
      "0                    0       0          0          0         0       0      0   \n",
      "1                    0       0          1          1         1       1      0   \n",
      "13                   0       0          1          1         1       1      0   \n",
      "\n",
      "    Documentary  Drama  Fantasy  Film-Noir  Horror  IMAX  Musical  Mystery  \\\n",
      "0             0      0        0          0       0     0        0        0   \n",
      "1             0      0        1          0       0     0        0        0   \n",
      "13            0      0        1          0       0     0        0        0   \n",
      "\n",
      "    Romance  Sci-Fi  Thriller  War  Western  \n",
      "0         0       0         0    0        0  \n",
      "1         0       0         0    0        0  \n",
      "13        0       0         0    0        0  \n"
     ]
    }
   ],
   "source": [
    "print(genre_sample.head(3))"
   ]
  },
  {
   "cell_type": "code",
   "execution_count": 6,
   "metadata": {},
   "outputs": [
    {
     "data": {
      "text/plain": [
       "array([[1., 1., 1., 1., 1.],\n",
       "       [1., 1., 1., 1., 1.],\n",
       "       [1., 1., 1., 1., 1.],\n",
       "       [1., 1., 1., 1., 1.],\n",
       "       [1., 1., 1., 1., 1.]])"
      ]
     },
     "execution_count": 6,
     "metadata": {},
     "output_type": "execute_result"
    }
   ],
   "source": [
    "cosine_similarity(genre_sample.head(5), genre_sample.head(5))"
   ]
  },
  {
   "cell_type": "code",
   "execution_count": 15,
   "metadata": {},
   "outputs": [
    {
     "name": "stdout",
     "output_type": "stream",
     "text": [
      "<class 'pandas.core.frame.DataFrame'>\n",
      "Index: 143741 entries, 5 to 1483391\n",
      "Data columns (total 23 columns):\n",
      " #   Column              Non-Null Count   Dtype \n",
      "---  ------              --------------   ----- \n",
      " 0   userId              143741 non-null  object\n",
      " 1   movieId             143741 non-null  object\n",
      " 2   user_rating         143741 non-null  object\n",
      " 3   (no genres listed)  143741 non-null  object\n",
      " 4   Action              143741 non-null  object\n",
      " 5   Adventure           143741 non-null  object\n",
      " 6   Animation           143741 non-null  object\n",
      " 7   Children            143741 non-null  object\n",
      " 8   Comedy              143741 non-null  object\n",
      " 9   Crime               143741 non-null  object\n",
      " 10  Documentary         143741 non-null  object\n",
      " 11  Drama               143741 non-null  object\n",
      " 12  Fantasy             143741 non-null  object\n",
      " 13  Film-Noir           143741 non-null  object\n",
      " 14  Horror              143741 non-null  object\n",
      " 15  IMAX                143741 non-null  object\n",
      " 16  Musical             143741 non-null  object\n",
      " 17  Mystery             143741 non-null  object\n",
      " 18  Romance             143741 non-null  object\n",
      " 19  Sci-Fi              143741 non-null  object\n",
      " 20  Thriller            143741 non-null  object\n",
      " 21  War                 143741 non-null  object\n",
      " 22  Western             143741 non-null  object\n",
      "dtypes: object(23)\n",
      "memory usage: 26.3+ MB\n",
      "None\n"
     ]
    }
   ],
   "source": [
    "\n",
    "sample_user_ids = data_sample['userId'].unique()\n",
    "print(data_sample.info())"
   ]
  },
  {
   "cell_type": "code",
   "execution_count": null,
   "metadata": {},
   "outputs": [],
   "source": [
    "\n",
    "\n",
    "sample_user_dataframes = {}\n",
    "\n",
    "for user_id in sample_user_ids:\n",
    "    # Filter the data for the current user\n",
    "    user_df = data_sample[data_sample['userId'] == user_id]\n",
    "    # user_df_genres = user_df_full[[\"(no genres listed)\",\"Action\",\"Adventure\",\"Animation\",\"Children\",\"Comedy\",\"Crime\",\"Documentary\",\"Drama\",\"Fantasy\",\"Film-Noir\",\"Horror\",\"IMAX\",\"Musical\",\"Mystery\",\"Romance\",\"Sci-Fi\",\"Thriller\",\"War\",\"Western\"]]\n",
    "   \n",
    "    # Store the DataFrame in the dictionary\n",
    "    sample_user_dataframes[user_id] = user_df\n",
    "\n",
    "# Example: Display the DataFrame for a specific user (e.g., user_id = 1)\n",
    "print(sample_user_dataframes.head(1))\n"
   ]
  },
  {
   "cell_type": "code",
   "execution_count": null,
   "metadata": {},
   "outputs": [],
   "source": [
    "first_key, first_value = next(iter(sample_user_dataframes.items()))\n",
    "\n",
    "print(first_key)\n",
    "\n",
    "print(first_value)\n"
   ]
  }
 ],
 "metadata": {
  "kernelspec": {
   "display_name": "movie_recommender_3",
   "language": "python",
   "name": "python3"
  },
  "language_info": {
   "codemirror_mode": {
    "name": "ipython",
    "version": 3
   },
   "file_extension": ".py",
   "mimetype": "text/x-python",
   "name": "python",
   "nbconvert_exporter": "python",
   "pygments_lexer": "ipython3",
   "version": "3.10.13"
  }
 },
 "nbformat": 4,
 "nbformat_minor": 2
}
