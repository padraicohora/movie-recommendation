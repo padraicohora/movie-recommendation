{
 "cells": [
  {
   "cell_type": "markdown",
   "metadata": {},
   "source": [
    "Here I will try out the matrix factorisation algorythms. For this I will use the [Surprize Python package](https://surprise.readthedocs.io/). \n",
    "\n",
    "First I will try out the In package Movielens datasets, as per the tutorial in the package website."
   ]
  },
  {
   "cell_type": "code",
   "execution_count": 1,
   "metadata": {},
   "outputs": [],
   "source": [
    "import pandas as pd\n",
    "import os\n",
    "from surprise import BaselineOnly, Dataset, Reader, SVD\n",
    "from surprise.model_selection import cross_validate\n",
    "from surprise.model_selection.split import LeaveOneOut"
   ]
  },
  {
   "cell_type": "code",
   "execution_count": 2,
   "metadata": {},
   "outputs": [
    {
     "name": "stdout",
     "output_type": "stream",
     "text": [
      "['/Users/pohora/Library/CloudStorage/OneDrive-Qualcomm/DKIT/2024/FYP/workspace/code/models', '/opt/anaconda3/envs/movie-recommender/lib/python310.zip', '/opt/anaconda3/envs/movie-recommender/lib/python3.10', '/opt/anaconda3/envs/movie-recommender/lib/python3.10/lib-dynload', '', '/opt/anaconda3/envs/movie-recommender/lib/python3.10/site-packages', '/opt/anaconda3/envs/movie-recommender/lib/python3.10/site-packages/setuptools/_vendor', '/Users/pohora/Library/CloudStorage/OneDrive-Qualcomm/DKIT/2024/FYP/workspace/code/utils']\n"
     ]
    }
   ],
   "source": [
    "import sys\n",
    "import os\n",
    "\n",
    "# Add the directory to the PYTHONPATH\n",
    "sys.path.append('/Users/pohora/Library/CloudStorage/OneDrive-Qualcomm/DKIT/2024/FYP/workspace/code/utils')\n",
    "\n",
    "# Verify the PYTHONPATH\n",
    "print(sys.path)\n",
    "\n",
    "# Now you can import the function\n",
    "from dataloader import _100k_data\n",
    "\n"
   ]
  },
  {
   "cell_type": "code",
   "execution_count": 21,
   "metadata": {},
   "outputs": [],
   "source": [
    "\n",
    "def perform_cross_validation(algo, data, algo_name, dataset_name, cv=5, measures=[\"RMSE\", \"MSE\", \"MAE\"]):\n",
    "    results = cross_validate(algo, data, measures=measures, cv=cv, verbose=True)\n",
    "    print(results)\n",
    "    return {\n",
    "        \"Algorithm\": algo_name,\n",
    "        \"Dataset\": dataset_name,\n",
    "        \"RMSE\": results['test_rmse'].mean(),\n",
    "        \"MSE\": results['test_mse'].mean(),\n",
    "        \"MAE\": results['test_mae'].mean(),\n",
    "        \"FitTime\":sum(results[\"fit_time\"]) / len(results[\"fit_time\"]),\n",
    "        \"TestTime\":sum(results[\"test_time\"]) / len(results[\"test_time\"])\n",
    "    }\n",
    "\n",
    "results_list = []"
   ]
  },
  {
   "cell_type": "code",
   "execution_count": 4,
   "metadata": {},
   "outputs": [
    {
     "name": "stdout",
     "output_type": "stream",
     "text": [
      "Estimating biases using als...\n",
      "Estimating biases using als...\n",
      "Estimating biases using als...\n",
      "Estimating biases using als...\n",
      "Estimating biases using als...\n",
      "Evaluating RMSE, MSE, MAE of algorithm BaselineOnly on 5 split(s).\n",
      "\n",
      "                  Fold 1  Fold 2  Fold 3  Fold 4  Fold 5  Mean    Std     \n",
      "RMSE (testset)    0.9461  0.9502  0.9396  0.9409  0.9414  0.9436  0.0039  \n",
      "MSE (testset)     0.8951  0.9029  0.8829  0.8853  0.8862  0.8905  0.0075  \n",
      "MAE (testset)     0.7517  0.7514  0.7453  0.7470  0.7459  0.7483  0.0027  \n",
      "Fit time          0.03    0.05    0.03    0.03    0.03    0.03    0.01    \n",
      "Test time         0.03    0.05    0.03    0.05    0.03    0.04    0.01    \n",
      "{'test_rmse': array([0.94608298, 0.95022086, 0.93961774, 0.94092589, 0.94138111]), 'test_mse': array([0.895073  , 0.90291969, 0.88288149, 0.88534153, 0.88619839]), 'test_mae': array([0.75167053, 0.75140291, 0.74533309, 0.7469517 , 0.74593136]), 'fit_time': (0.02952122688293457, 0.0463411808013916, 0.03313922882080078, 0.03396201133728027, 0.02972269058227539), 'test_time': (0.02937173843383789, 0.054641008377075195, 0.02846693992614746, 0.05064988136291504, 0.02755594253540039)}\n"
     ]
    }
   ],
   "source": [
    "# file_path = os.path.expanduser('../ml-100k/u.data')\n",
    "\n",
    "# # As we're loading a custom dataset, we need to define a reader. In the\n",
    "# # movielens-100k dataset, each line has the following format:\n",
    "# # 'user item rating timestamp', separated by '\\t' characters.\n",
    "# reader = Reader(line_format=\"user item rating timestamp\", sep=\"\\t\")\n",
    "\n",
    "# _100k_data = Dataset.load_from_file(file_path, reader=reader)\n",
    "\n",
    "# We can now use this dataset as we please, e.g. calling cross_validate\n",
    "# baseline_100k = cross_validate(BaselineOnly(), _100k_data, verbose=True)\n",
    "results_list.append(perform_cross_validation(BaselineOnly, _100k_data, \"BaselineOnly KFold 5\", \"100k\"))\n",
    "# results_list.append(perform_cross_validation(BaselineOnly, _100k_data, \"BaselineOnly KFold  10\", \"100k\", 10))\n",
    "# results_list.append(perform_cross_validation(BaselineOnly, _100k_data, \"BaselineOnly KFold  20\", \"100k\", 20))\n",
    "# results_list.append(perform_cross_validation(BaselineOnly, _100k_data, \"BaselineOnly KFold  50\", \"100k\", 50))\n",
    "# results_list.append(perform_cross_validation(BaselineOnly, _100k_data, \"BaselineOnly LeaveOneOut  5\", \"100k\", LeaveOneOut(5)))\n",
    "# results_list.append(perform_cross_validation(BaselineOnly, _100k_data, \"BaselineOnly CV 10\", \"100k\", 10))\n",
    "# results_list.append(perform_cross_validation(BaselineOnly, _100k_data, \"BaselineOnly CV 20\", \"100k\", 20))\n",
    "# results_list.append(perform_cross_validation(BaselineOnly, _100k_data, \"BaselineOnly CV 50\", \"100k\", 50))"
   ]
  },
  {
   "cell_type": "code",
   "execution_count": 5,
   "metadata": {},
   "outputs": [
    {
     "name": "stdout",
     "output_type": "stream",
     "text": [
      "Evaluating RMSE, MSE, MAE of algorithm SVD on 5 split(s).\n",
      "\n",
      "                  Fold 1  Fold 2  Fold 3  Fold 4  Fold 5  Mean    Std     \n",
      "RMSE (testset)    0.9317  0.9364  0.9402  0.9349  0.9351  0.9357  0.0028  \n",
      "MSE (testset)     0.8680  0.8768  0.8841  0.8740  0.8744  0.8755  0.0052  \n",
      "MAE (testset)     0.7331  0.7392  0.7377  0.7384  0.7385  0.7374  0.0022  \n",
      "Fit time          0.34    0.34    0.41    0.37    0.45    0.38    0.04    \n",
      "Test time         0.04    0.06    0.04    0.06    0.04    0.05    0.01    \n",
      "{'test_rmse': array([0.93168477, 0.9363924 , 0.94024242, 0.93487669, 0.93510504]), 'test_mse': array([0.86803651, 0.87683073, 0.88405581, 0.87399443, 0.87442143]), 'test_mae': array([0.73311293, 0.73916008, 0.73768287, 0.73837871, 0.73852757]), 'fit_time': (0.343184232711792, 0.34182190895080566, 0.4121818542480469, 0.3685948848724365, 0.44551992416381836), 'test_time': (0.03752589225769043, 0.06298112869262695, 0.04131817817687988, 0.06400799751281738, 0.040229082107543945)}\n"
     ]
    }
   ],
   "source": [
    "\n",
    "\n",
    "# We'll use the famous SVD algorithm.\n",
    "algo = SVD()\n",
    "\n",
    "# Run 5-fold cross-validation and print results\n",
    "# svd_100k = cross_validate(algo, _100k_data, measures=[\"RMSE\", \"MAE\"], cv=5, verbose=True)\n",
    "results_list.append(perform_cross_validation(SVD, _100k_data, \"SVD\", \"100k\"))"
   ]
  },
  {
   "cell_type": "markdown",
   "metadata": {},
   "source": []
  },
  {
   "cell_type": "code",
   "execution_count": 6,
   "metadata": {},
   "outputs": [
    {
     "name": "stdout",
     "output_type": "stream",
     "text": [
      "Chunk 0 loaded\n",
      "Chunk 1 loaded\n",
      "Chunk 2 loaded\n",
      "Chunk 3 loaded\n",
      "Chunk 4 loaded\n",
      "Chunk 5 loaded\n",
      "Chunk 6 loaded\n",
      "Chunk 7 loaded\n",
      "Chunk 8 loaded\n",
      "Chunk 9 loaded\n",
      "Chunk 10 loaded\n",
      "Chunk 11 loaded\n",
      "Chunk 12 loaded\n",
      "Chunk 13 loaded\n",
      "Chunk 14 loaded\n",
      "ratings dataset loaded\n"
     ]
    }
   ],
   "source": [
    "chunksize=100000\n",
    "rating_cols=['userId', 'movieId', 'user_rating']\n",
    "# movies\n",
    "date_parser = lambda x: pd.to_datetime(x, unit='s')\n",
    "\n",
    "# movies\n",
    "ratings_data = pd.DataFrame()  # initialize an empty dataframe\n",
    "for index, chunk in enumerate(pd.read_csv('../samples/combined_movies_ratings_tags.csv',\n",
    "                         chunksize=chunksize,\n",
    "                         usecols=rating_cols,\n",
    "                         )):\n",
    "    \n",
    "    ratings_data = pd.concat([ratings_data, chunk])\n",
    "    print(f\"Chunk {index} loaded\")\n",
    "print(\"ratings dataset loaded\")\n",
    "\n",
    "ratings_data = ratings_data.reindex(columns=rating_cols)"
   ]
  },
  {
   "cell_type": "code",
   "execution_count": 12,
   "metadata": {},
   "outputs": [],
   "source": [
    "# Algorithms\n",
    "from surprise import BaselineOnly, SVD,NMF, SVDpp, NormalPredictor, KNNBasic, KNNWithMeans, KNNWithZScore, KNNBaseline, SlopeOne, CoClustering\n",
    "\n",
    "baseline_algo = BaselineOnly()\n",
    "svd_algo = SVD()\n",
    "svdpp_algo = SVDpp()\n",
    "nmf_algo = NMF()\n",
    "normalPredictor_algo = NormalPredictor()\n",
    "knnbasic_algo = KNNBasic()\n",
    "knnwithMeans_algo = KNNWithMeans()\n",
    "knnwithZScore_algo = KNNWithZScore()\n",
    "knnbaseline_algo = KNNBaseline()\n",
    "slopeone_algo = SlopeOne()\n",
    "coClustering_algo = CoClustering()\n",
    "\n",
    "algos = [\n",
    "    baseline_algo, \n",
    "    svd_algo, \n",
    "    svdpp_algo, \n",
    "    nmf_algo, \n",
    "    normalPredictor_algo, \n",
    "    knnbasic_algo,\n",
    "    knnwithMeans_algo, \n",
    "    knnwithZScore_algo,\n",
    "    slopeone_algo,  \n",
    "    coClustering_algo, \n",
    "    knnbaseline_algo\n",
    "    ]\n"
   ]
  },
  {
   "cell_type": "code",
   "execution_count": 13,
   "metadata": {},
   "outputs": [],
   "source": [
    "# Iterators\n",
    "from surprise.model_selection import KFold, RepeatedKFold, ShuffleSplit, LeaveOneOut\n",
    "\n",
    "kfold_iter = KFold(n_splits=3)\n",
    "repeated_kfold_iter = RepeatedKFold(n_splits=3)\n",
    "shuffleSplit_iter = ShuffleSplit(n_splits=3)\n",
    "leaveOneOut_iter = LeaveOneOut(n_splits=3)\n",
    "\n",
    "iterators = [\n",
    "    kfold_iter,\n",
    "    repeated_kfold_iter,\n",
    "    shuffleSplit_iter,\n",
    "    leaveOneOut_iter\n",
    "]"
   ]
  },
  {
   "cell_type": "code",
   "execution_count": null,
   "metadata": {},
   "outputs": [],
   "source": [
    "baseline_algo = BaselineOnly()\n",
    "iterator = LeaveOneOut()\n",
    "cross_validate(algo, _100k_data, measures=[\"RMSE\", \"MAE\"], cv=5, verbose=True)\n",
    "cross_validate(algo, _100k_data, measures=[\"RMSE\", \"MAE\"], cv=iterator, verbose=True)"
   ]
  },
  {
   "cell_type": "code",
   "execution_count": 17,
   "metadata": {},
   "outputs": [
    {
     "name": "stdout",
     "output_type": "stream",
     "text": [
      "Evaluating RMSE, MSE, MAE of algorithm SVDpp on 3 split(s).\n",
      "\n",
      "                  Fold 1  Fold 2  Fold 3  Mean    Std     \n",
      "RMSE (testset)    0.9284  0.9317  0.9235  0.9279  0.0034  \n",
      "MSE (testset)     0.8620  0.8681  0.8529  0.8610  0.0063  \n",
      "MAE (testset)     0.7292  0.7310  0.7241  0.7281  0.0029  \n",
      "Fit time          3.69    3.87    3.66    3.74    0.09    \n",
      "Test time         1.67    1.74    1.58    1.66    0.06    \n",
      "{'test_rmse': array([0.92842931, 0.93173834, 0.92350173]), 'test_mse': array([0.86198098, 0.86813633, 0.85285545]), 'test_mae': array([0.72916886, 0.73103423, 0.72408973]), 'fit_time': (3.69218111038208, 3.874054193496704, 3.657871723175049), 'test_time': (1.6707570552825928, 1.7394318580627441, 1.584744930267334)}\n"
     ]
    }
   ],
   "source": [
    "algo = svdpp_algo\n",
    "iterator = kfold_iter\n",
    "measures=[\"RMSE\", \"MSE\", \"MAE\"]\n",
    "svd_kfold = cross_validate(algo, _100k_data, measures=measures, cv=iterator, verbose=True)\n",
    "print(svd_kfold)"
   ]
  },
  {
   "cell_type": "code",
   "execution_count": null,
   "metadata": {},
   "outputs": [
    {
     "name": "stdout",
     "output_type": "stream",
     "text": [
      "Estimating biases using als...\n",
      "Estimating biases using als...\n",
      "Estimating biases using als...\n",
      "Evaluating RMSE, MSE, MAE of algorithm BaselineOnly on 3 split(s).\n",
      "\n",
      "                  Fold 1  Fold 2  Fold 3  Mean    Std     \n",
      "RMSE (testset)    0.9480  0.9477  0.9488  0.9482  0.0005  \n",
      "MSE (testset)     0.8987  0.8981  0.9002  0.8990  0.0009  \n",
      "MAE (testset)     0.7509  0.7532  0.7531  0.7524  0.0011  \n",
      "Fit time          0.03    0.03    0.03    0.03    0.00    \n",
      "Test time         0.06    0.11    0.09    0.09    0.02    \n",
      "{'test_rmse': array([0.94802325, 0.94767706, 0.94880274]), 'test_mse': array([0.89874809, 0.89809181, 0.90022663]), 'test_mae': array([0.75086147, 0.75317642, 0.75314205]), 'fit_time': (0.026050806045532227, 0.025187015533447266, 0.029197216033935547), 'test_time': (0.05588793754577637, 0.11404109001159668, 0.0891411304473877)}\n",
      "Estimating biases using als...\n",
      "Estimating biases using als...\n",
      "Estimating biases using als...\n",
      "Estimating biases using als...\n",
      "Estimating biases using als...\n",
      "Estimating biases using als...\n",
      "Estimating biases using als...\n",
      "Estimating biases using als...\n",
      "Estimating biases using als...\n",
      "Estimating biases using als...\n",
      "Estimating biases using als...\n",
      "Estimating biases using als...\n",
      "Estimating biases using als...\n",
      "Estimating biases using als...\n",
      "Estimating biases using als...\n",
      "Estimating biases using als...\n",
      "Estimating biases using als...\n",
      "Estimating biases using als...\n",
      "Estimating biases using als...\n",
      "Estimating biases using als...\n",
      "Estimating biases using als...\n",
      "Estimating biases using als...\n",
      "Estimating biases using als...\n",
      "Estimating biases using als...\n",
      "Estimating biases using als...\n",
      "Estimating biases using als...\n",
      "Estimating biases using als...\n",
      "Estimating biases using als...\n",
      "Estimating biases using als...\n",
      "Estimating biases using als...\n",
      "Evaluating RMSE, MSE, MAE of algorithm BaselineOnly on 3 split(s).\n",
      "\n",
      "                  Fold 1  Fold 2  Fold 3  Mean    Std     \n",
      "RMSE (testset)    0.9465  0.9439  0.9500  0.9440  0.9544  \n",
      "MSE (testset)     0.8958  0.8909  0.9026  0.8911  0.9108  \n",
      "MAE (testset)     0.7510  0.7487  0.7534  0.7504  0.7540  \n",
      "Fit time          0.02    0.02    0.02    0.02    0.02    \n",
      "Test time         0.05    0.09    0.05    0.09    0.09    \n",
      "{'test_rmse': array([0.94648565, 0.94389682, 0.95002779, 0.94400664, 0.95438261,\n",
      "       0.94334456, 0.94540837, 0.9480277 , 0.94566466, 0.94825176,\n",
      "       0.94897181, 0.94447809, 0.94731399, 0.94905384, 0.94517994,\n",
      "       0.94959049, 0.94449545, 0.94649892, 0.94566842, 0.9472874 ,\n",
      "       0.94826513, 0.9496042 , 0.94586037, 0.94827769, 0.94378667,\n",
      "       0.94338105, 0.95234964, 0.94705921, 0.94665515, 0.94698474]), 'test_mse': array([0.89583509, 0.89094121, 0.9025528 , 0.89114854, 0.91084617,\n",
      "       0.88989895, 0.89379698, 0.89875652, 0.89428164, 0.89918141,\n",
      "       0.90054749, 0.89203886, 0.89740379, 0.90070318, 0.89336512,\n",
      "       0.9017221 , 0.89207165, 0.89586021, 0.89428876, 0.89735341,\n",
      "       0.89920676, 0.90174814, 0.89465184, 0.89923057, 0.89073327,\n",
      "       0.88996781, 0.90696985, 0.89692115, 0.89615598, 0.89678011]), 'test_mae': array([0.75101529, 0.74869783, 0.75338124, 0.75042651, 0.75396872,\n",
      "       0.7497874 , 0.75035078, 0.75038069, 0.75212969, 0.75278117,\n",
      "       0.75077005, 0.75027721, 0.75304053, 0.75285623, 0.74854515,\n",
      "       0.75383398, 0.74818528, 0.7514751 , 0.75079773, 0.75048851,\n",
      "       0.75290869, 0.7550061 , 0.74941326, 0.75133425, 0.75059623,\n",
      "       0.74721743, 0.75441297, 0.75176444, 0.75135345, 0.75025494]), 'fit_time': (0.023614883422851562, 0.022272109985351562, 0.024022817611694336, 0.023144006729125977, 0.022463083267211914, 0.026890993118286133, 0.029108047485351562, 0.027096271514892578, 0.022970914840698242, 0.026180744171142578, 0.02381587028503418, 0.025578975677490234, 0.023930072784423828, 0.027397871017456055, 0.024220943450927734, 0.023108959197998047, 0.024752140045166016, 0.0253140926361084, 0.023276090621948242, 0.026871919631958008, 0.026253700256347656, 0.025278806686401367, 0.025053977966308594, 0.02705693244934082, 0.024804115295410156, 0.025629043579101562, 0.022732019424438477, 0.02740788459777832, 0.024563074111938477, 0.02733588218688965), 'test_time': (0.046421051025390625, 0.08722090721130371, 0.04607892036437988, 0.08609819412231445, 0.08721303939819336, 0.04741501808166504, 0.08681535720825195, 0.04492378234863281, 0.08357119560241699, 0.04496407508850098, 0.08355021476745605, 0.08734011650085449, 0.04503989219665527, 0.10705399513244629, 0.08807516098022461, 0.0440211296081543, 0.0854489803314209, 0.04575061798095703, 0.08501219749450684, 0.08556199073791504, 0.044654130935668945, 0.0866689682006836, 0.04794502258300781, 0.08423686027526855, 0.08788681030273438, 0.04561495780944824, 0.0861818790435791, 0.044970035552978516, 0.08614182472229004, 0.04449105262756348)}\n",
      "Estimating biases using als...\n",
      "Estimating biases using als...\n",
      "Estimating biases using als...\n",
      "Evaluating RMSE, MSE, MAE of algorithm BaselineOnly on 3 split(s).\n",
      "\n",
      "                  Fold 1  Fold 2  Fold 3  Mean    Std     \n",
      "RMSE (testset)    0.9452  0.9410  0.9446  0.9436  0.0019  \n",
      "MSE (testset)     0.8934  0.8854  0.8923  0.8904  0.0035  \n",
      "MAE (testset)     0.7472  0.7483  0.7489  0.7481  0.0007  \n",
      "Fit time          0.03    0.03    0.03    0.03    0.00    \n",
      "Test time         0.06    0.03    0.07    0.05    0.02    \n",
      "{'test_rmse': array([0.94522084, 0.94097678, 0.94460249]), 'test_mse': array([0.89344243, 0.8854373 , 0.89227386]), 'test_mae': array([0.74723946, 0.74825479, 0.74893865]), 'fit_time': (0.03197312355041504, 0.027512073516845703, 0.029941797256469727), 'test_time': (0.06438779830932617, 0.02758312225341797, 0.06626009941101074)}\n",
      "Estimating biases using als...\n",
      "Estimating biases using als...\n",
      "Estimating biases using als...\n",
      "Evaluating RMSE, MSE, MAE of algorithm BaselineOnly on 3 split(s).\n",
      "\n",
      "                  Fold 1  Fold 2  Fold 3  Mean    Std     \n",
      "RMSE (testset)    0.9043  0.9153  0.9387  0.9194  0.0143  \n",
      "MSE (testset)     0.8177  0.8377  0.8811  0.8455  0.0265  \n",
      "MAE (testset)     0.7264  0.7296  0.7563  0.7374  0.0134  \n",
      "Fit time          0.03    0.04    0.04    0.04    0.00    \n",
      "Test time         0.00    0.00    0.00    0.00    0.00    \n",
      "{'test_rmse': array([0.90427395, 0.91526037, 0.93866033]), 'test_mse': array([0.81771137, 0.83770155, 0.88108322]), 'test_mae': array([0.72637207, 0.72956441, 0.75628219]), 'fit_time': (0.03128218650817871, 0.04162883758544922, 0.03518795967102051), 'test_time': (0.001355886459350586, 0.001260995864868164, 0.0013439655303955078)}\n",
      "Evaluating RMSE, MSE, MAE of algorithm SVD on 3 split(s).\n",
      "\n",
      "                  Fold 1  Fold 2  Fold 3  Mean    Std     \n",
      "RMSE (testset)    0.9405  0.9426  0.9552  0.9461  0.0065  \n",
      "MSE (testset)     0.8846  0.8886  0.9123  0.8952  0.0122  \n",
      "MAE (testset)     0.7415  0.7448  0.7547  0.7470  0.0056  \n",
      "Fit time          0.31    0.31    0.36    0.33    0.02    \n",
      "Test time         0.07    0.11    0.07    0.08    0.02    \n",
      "{'test_rmse': array([0.94052609, 0.94263979, 0.95515187]), 'test_mse': array([0.88458933, 0.88856978, 0.9123151 ]), 'test_mae': array([0.74147456, 0.74483445, 0.75470754]), 'fit_time': (0.31478095054626465, 0.3096320629119873, 0.35608696937561035), 'test_time': (0.06879496574401855, 0.11111283302307129, 0.06887125968933105)}\n",
      "Evaluating RMSE, MSE, MAE of algorithm SVD on 3 split(s).\n",
      "\n",
      "                  Fold 1  Fold 2  Fold 3  Mean    Std     \n",
      "RMSE (testset)    0.9478  0.9476  0.9463  0.9438  0.9492  \n",
      "MSE (testset)     0.8983  0.8979  0.8954  0.8907  0.9010  \n",
      "MAE (testset)     0.7494  0.7466  0.7471  0.7459  0.7479  \n",
      "Fit time          0.33    0.33    0.32    0.31    0.31    \n",
      "Test time         0.11    0.11    0.07    0.11    0.11    \n",
      "{'test_rmse': array([0.94778361, 0.9475695 , 0.94627254, 0.94377079, 0.94920887,\n",
      "       0.93946732, 0.94421698, 0.94203525, 0.94444304, 0.94161673,\n",
      "       0.94879942, 0.94451521, 0.95049678, 0.93983456, 0.94412933,\n",
      "       0.94873843, 0.94187405, 0.948216  , 0.94768437, 0.94607215,\n",
      "       0.94443677, 0.95042583, 0.94009393, 0.94471775, 0.94021895,\n",
      "       0.952154  , 0.94244778, 0.94972845, 0.94251539, 0.94367466]), 'test_mse': array([0.89829378, 0.89788796, 0.89543172, 0.8907033 , 0.90099748,\n",
      "       0.88259884, 0.8915457 , 0.88743042, 0.89197266, 0.88664206,\n",
      "       0.90022034, 0.89210899, 0.90344413, 0.88328901, 0.8913802 ,\n",
      "       0.90010461, 0.88712673, 0.89911358, 0.89810566, 0.89505251,\n",
      "       0.89196082, 0.90330927, 0.88377659, 0.89249162, 0.88401168,\n",
      "       0.90659724, 0.88820783, 0.90198412, 0.88833525, 0.89052186]), 'test_mae': array([0.74936782, 0.7466331 , 0.74713974, 0.74594116, 0.74794528,\n",
      "       0.74150965, 0.74483286, 0.74223515, 0.74615559, 0.7437786 ,\n",
      "       0.74686481, 0.74608677, 0.74871386, 0.74309432, 0.74670712,\n",
      "       0.74943285, 0.74239922, 0.74897948, 0.7455648 , 0.7482843 ,\n",
      "       0.7452425 , 0.75013625, 0.74249476, 0.74525647, 0.74413547,\n",
      "       0.75117781, 0.74298111, 0.75101336, 0.74333363, 0.74367649]), 'fit_time': (0.33100318908691406, 0.3251049518585205, 0.3169851303100586, 0.3055229187011719, 0.31305813789367676, 0.3024749755859375, 0.28767991065979004, 0.30237483978271484, 0.30876994132995605, 0.30363011360168457, 0.3174271583557129, 0.3394310474395752, 0.32730817794799805, 0.4256322383880615, 0.3247239589691162, 0.417788028717041, 0.31418538093566895, 0.37549781799316406, 0.3551149368286133, 0.29236292839050293, 0.30863213539123535, 0.3423161506652832, 0.35491204261779785, 0.3641362190246582, 0.40880894660949707, 0.27667689323425293, 0.2821192741394043, 0.37535595893859863, 0.26798295974731445, 0.28554391860961914), 'test_time': (0.10931086540222168, 0.11350607872009277, 0.06979894638061523, 0.11063504219055176, 0.11195588111877441, 0.06454801559448242, 0.1129770278930664, 0.06569600105285645, 0.10866403579711914, 0.11484193801879883, 0.06829285621643066, 0.11441779136657715, 0.06699800491333008, 0.20476698875427246, 0.06969881057739258, 0.06737804412841797, 0.11421704292297363, 0.06926298141479492, 0.11054587364196777, 0.1138162612915039, 0.12261724472045898, 0.16370916366577148, 0.07022404670715332, 0.13752102851867676, 0.13773798942565918, 0.061782121658325195, 0.10718107223510742, 0.07285809516906738, 0.10416293144226074, 0.06306815147399902)}\n",
      "Evaluating RMSE, MSE, MAE of algorithm SVD on 3 split(s).\n",
      "\n",
      "                  Fold 1  Fold 2  Fold 3  Mean    Std     \n",
      "RMSE (testset)    0.9332  0.9229  0.9355  0.9305  0.0055  \n",
      "MSE (testset)     0.8709  0.8517  0.8752  0.8659  0.0102  \n",
      "MAE (testset)     0.7350  0.7261  0.7372  0.7328  0.0048  \n",
      "Fit time          0.33    0.32    0.32    0.32    0.01    \n",
      "Test time         0.04    0.04    0.08    0.05    0.02    \n",
      "{'test_rmse': array([0.93321946, 0.92286115, 0.93552411]), 'test_mse': array([0.87089856, 0.8516727 , 0.87520536]), 'test_mae': array([0.73495675, 0.72610546, 0.73720442]), 'fit_time': (0.3302910327911377, 0.3188660144805908, 0.31591105461120605), 'test_time': (0.03736281394958496, 0.036741018295288086, 0.08435678482055664)}\n",
      "Evaluating RMSE, MSE, MAE of algorithm SVD on 3 split(s).\n",
      "\n",
      "                  Fold 1  Fold 2  Fold 3  Mean    Std     \n",
      "RMSE (testset)    0.9511  0.9320  0.9371  0.9400  0.0081  \n",
      "MSE (testset)     0.9045  0.8686  0.8781  0.8837  0.0152  \n",
      "MAE (testset)     0.7515  0.7305  0.7430  0.7417  0.0086  \n",
      "Fit time          0.41    0.38    0.42    0.40    0.01    \n",
      "Test time         0.00    0.00    0.00    0.00    0.00    \n",
      "{'test_rmse': array([0.95105828, 0.93196622, 0.93709092]), 'test_mse': array([0.90451186, 0.86856103, 0.87813939]), 'test_mae': array([0.75150906, 0.7305352 , 0.74295021]), 'fit_time': (0.4075319766998291, 0.38309788703918457, 0.41606688499450684), 'test_time': (0.0018329620361328125, 0.0017559528350830078, 0.0018558502197265625)}\n"
     ]
    }
   ],
   "source": [
    "results_list_2 = []\n",
    "for algo in algos:\n",
    "    for iterator in iterators:\n",
    "        results_list_2.append(perform_cross_validation(algo, _100k_data, algo, \"100k\", iterator))\n",
    "\n",
    "print(results_list_2)"
   ]
  },
  {
   "cell_type": "code",
   "execution_count": 7,
   "metadata": {},
   "outputs": [
    {
     "name": "stdout",
     "output_type": "stream",
     "text": [
      "Estimating biases using als...\n",
      "Estimating biases using als...\n",
      "Estimating biases using als...\n",
      "Estimating biases using als...\n",
      "Estimating biases using als...\n",
      "Evaluating RMSE, MSE, MAE of algorithm BaselineOnly on 5 split(s).\n",
      "\n",
      "                  Fold 1  Fold 2  Fold 3  Fold 4  Fold 5  Mean    Std     \n",
      "RMSE (testset)    0.8620  0.8605  0.8612  0.8598  0.8616  0.8610  0.0008  \n",
      "MSE (testset)     0.7430  0.7405  0.7417  0.7392  0.7423  0.7414  0.0014  \n",
      "MAE (testset)     0.6698  0.6684  0.6692  0.6685  0.6696  0.6691  0.0005  \n",
      "Fit time          1.54    1.60    1.67    1.41    1.63    1.57    0.09    \n",
      "Test time         1.14    1.22    0.86    0.96    1.11    1.06    0.13    \n",
      "{'test_rmse': array([0.86199742, 0.86051867, 0.86122444, 0.85977504, 0.86159283]), 'test_mse': array([0.74303955, 0.74049238, 0.74170753, 0.73921312, 0.7423422 ]), 'test_mae': array([0.66976987, 0.66842307, 0.66915217, 0.66850219, 0.66956201]), 'fit_time': (1.5404553413391113, 1.604482889175415, 1.6717896461486816, 1.4109628200531006, 1.6253399848937988), 'test_time': (1.1411590576171875, 1.217210054397583, 0.8588070869445801, 0.9638199806213379, 1.112842082977295)}\n",
      "Estimating biases using als...\n",
      "Estimating biases using als...\n",
      "Estimating biases using als...\n",
      "Estimating biases using als...\n",
      "Estimating biases using als...\n",
      "Estimating biases using als...\n",
      "Estimating biases using als...\n",
      "Estimating biases using als...\n",
      "Estimating biases using als...\n",
      "Estimating biases using als...\n",
      "Evaluating RMSE, MSE, MAE of algorithm BaselineOnly on 10 split(s).\n",
      "\n",
      "                  Fold 1  Fold 2  Fold 3  Fold 4  Fold 5  Fold 6  Fold 7  Fold 8  Fold 9  Fold 10 Mean    Std     \n",
      "RMSE (testset)    0.8600  0.8573  0.8628  0.8594  0.8578  0.8621  0.8600  0.8608  0.8577  0.8599  0.8598  0.0017  \n",
      "MSE (testset)     0.7396  0.7349  0.7444  0.7385  0.7358  0.7433  0.7397  0.7409  0.7357  0.7395  0.7392  0.0030  \n",
      "MAE (testset)     0.6685  0.6655  0.6704  0.6672  0.6662  0.6697  0.6682  0.6686  0.6667  0.6682  0.6679  0.0014  \n",
      "Fit time          1.59    1.63    1.73    1.68    1.66    1.73    1.70    1.71    1.70    1.71    1.68    0.04    \n",
      "Test time         0.50    0.63    0.49    0.64    0.51    0.63    0.51    0.63    0.49    0.63    0.56    0.07    \n",
      "{'test_rmse': array([0.85997478, 0.85725688, 0.86279722, 0.85938136, 0.85779802,\n",
      "       0.86213357, 0.86003987, 0.86075623, 0.85771091, 0.85993409]), 'test_mse': array([0.73955662, 0.73488937, 0.74441905, 0.73853632, 0.73581745,\n",
      "       0.74327429, 0.73966858, 0.74090128, 0.735668  , 0.73948663]), 'test_mae': array([0.66849712, 0.66553763, 0.67040305, 0.66722446, 0.66622599,\n",
      "       0.66969919, 0.66823099, 0.66864495, 0.66671557, 0.66821047]), 'fit_time': (1.590008020401001, 1.627166986465454, 1.731147050857544, 1.6762549877166748, 1.6609470844268799, 1.7330338954925537, 1.7005937099456787, 1.7123000621795654, 1.7034740447998047, 1.7104830741882324), 'test_time': (0.4952981472015381, 0.6266469955444336, 0.49187397956848145, 0.6363756656646729, 0.5079479217529297, 0.6251623630523682, 0.5082111358642578, 0.6281180381774902, 0.49122095108032227, 0.6325440406799316)}\n",
      "Estimating biases using als...\n",
      "Estimating biases using als...\n",
      "Estimating biases using als...\n",
      "Estimating biases using als...\n",
      "Estimating biases using als...\n",
      "Estimating biases using als...\n",
      "Estimating biases using als...\n",
      "Estimating biases using als...\n",
      "Estimating biases using als...\n",
      "Estimating biases using als...\n",
      "Estimating biases using als...\n",
      "Estimating biases using als...\n",
      "Estimating biases using als...\n",
      "Estimating biases using als...\n",
      "Estimating biases using als...\n",
      "Estimating biases using als...\n",
      "Estimating biases using als...\n",
      "Estimating biases using als...\n",
      "Estimating biases using als...\n",
      "Estimating biases using als...\n",
      "Evaluating RMSE, MSE, MAE of algorithm BaselineOnly on 20 split(s).\n",
      "\n",
      "                  Fold 1  Fold 2  Fold 3  Fold 4  Fold 5  Fold 6  Fold 7  Fold 8  Fold 9  Fold 10 Fold 11 Fold 12 Fold 13 Fold 14 Fold 15 Fold 16 Fold 17 Fold 18 Fold 19 Fold 20 Mean    Std     \n",
      "RMSE (testset)    0.8555  0.8624  0.8642  0.8627  0.8581  0.8557  0.8576  0.8602  0.8593  0.8572  0.8618  0.8590  0.8601  0.8596  0.8618  0.8637  0.8571  0.8563  0.8554  0.8583  0.8593  0.0027  \n",
      "MSE (testset)     0.7319  0.7437  0.7468  0.7443  0.7364  0.7323  0.7355  0.7400  0.7384  0.7348  0.7426  0.7379  0.7398  0.7389  0.7426  0.7459  0.7347  0.7333  0.7317  0.7367  0.7384  0.0046  \n",
      "MAE (testset)     0.6640  0.6698  0.6714  0.6689  0.6664  0.6645  0.6670  0.6679  0.6679  0.6659  0.6697  0.6675  0.6668  0.6680  0.6692  0.6706  0.6669  0.6664  0.6646  0.6672  0.6675  0.0019  \n",
      "Fit time          1.62    1.96    1.74    1.63    1.81    1.77    1.87    1.87    1.98    2.04    2.00    2.01    2.06    1.85    1.95    1.96    1.91    1.67    2.05    1.80    1.88    0.14    \n",
      "Test time         0.25    0.24    0.24    0.24    0.38    0.40    0.39    0.41    0.25    0.40    0.40    0.40    0.27    0.39    0.40    0.39    0.25    0.38    0.42    0.39    0.34    0.07    \n",
      "{'test_rmse': array([0.85551816, 0.86240013, 0.86418794, 0.86273479, 0.85811082,\n",
      "       0.85573056, 0.85762926, 0.86022633, 0.859324  , 0.85720391,\n",
      "       0.86176311, 0.85902408, 0.86014274, 0.8595659 , 0.86176018,\n",
      "       0.86367586, 0.85714767, 0.85632324, 0.8553696 , 0.85832452]), 'test_mse': array([0.73191133, 0.74373398, 0.74682079, 0.74431131, 0.73635419,\n",
      "       0.7322748 , 0.73552795, 0.73998934, 0.73843774, 0.73479854,\n",
      "       0.74263565, 0.73792236, 0.73984554, 0.73885354, 0.74263061,\n",
      "       0.74593598, 0.73470213, 0.73328949, 0.73165715, 0.73672098]), 'test_mae': array([0.66397801, 0.66976931, 0.67143256, 0.66886883, 0.6664448 ,\n",
      "       0.66448588, 0.66697506, 0.66786081, 0.66792106, 0.66590289,\n",
      "       0.66966933, 0.66750254, 0.66679676, 0.66801499, 0.66922015,\n",
      "       0.67060237, 0.6669285 , 0.66639549, 0.66464268, 0.66724019]), 'fit_time': (1.617720127105713, 1.9624321460723877, 1.7406058311462402, 1.6301560401916504, 1.8080649375915527, 1.773850917816162, 1.8691949844360352, 1.871701955795288, 1.9806818962097168, 2.040825128555298, 2.0002870559692383, 2.0102646350860596, 2.0627808570861816, 1.8544659614562988, 1.9541082382202148, 1.9575669765472412, 1.9074528217315674, 1.6712281703948975, 2.0474798679351807, 1.800753116607666), 'test_time': (0.25253915786743164, 0.24366211891174316, 0.24420881271362305, 0.24462413787841797, 0.37820982933044434, 0.3995699882507324, 0.3889589309692383, 0.4051508903503418, 0.24567604064941406, 0.4014441967010498, 0.3986070156097412, 0.39597105979919434, 0.2726120948791504, 0.386929988861084, 0.3971731662750244, 0.39482712745666504, 0.2489631175994873, 0.38445305824279785, 0.41861724853515625, 0.38912105560302734)}\n",
      "Estimating biases using als...\n",
      "Estimating biases using als...\n",
      "Estimating biases using als...\n",
      "Estimating biases using als...\n",
      "Estimating biases using als...\n",
      "Estimating biases using als...\n",
      "Estimating biases using als...\n",
      "Estimating biases using als...\n",
      "Estimating biases using als...\n",
      "Estimating biases using als...\n",
      "Estimating biases using als...\n",
      "Estimating biases using als...\n",
      "Estimating biases using als...\n",
      "Estimating biases using als...\n"
     ]
    },
    {
     "ename": "KeyboardInterrupt",
     "evalue": "",
     "output_type": "error",
     "traceback": [
      "\u001b[0;31m---------------------------------------------------------------------------\u001b[0m",
      "\u001b[0;31mKeyboardInterrupt\u001b[0m                         Traceback (most recent call last)",
      "Cell \u001b[0;32mIn[7], line 13\u001b[0m\n\u001b[1;32m     11\u001b[0m results_list\u001b[38;5;241m.\u001b[39mappend(perform_cross_validation(BaselineOnly, ratings_cv, \u001b[38;5;124m\"\u001b[39m\u001b[38;5;124mBaseline CV 10\u001b[39m\u001b[38;5;124m\"\u001b[39m, \u001b[38;5;124m\"\u001b[39m\u001b[38;5;124mRatings Sample\u001b[39m\u001b[38;5;124m\"\u001b[39m, \u001b[38;5;241m10\u001b[39m))\n\u001b[1;32m     12\u001b[0m results_list\u001b[38;5;241m.\u001b[39mappend(perform_cross_validation(BaselineOnly, ratings_cv, \u001b[38;5;124m\"\u001b[39m\u001b[38;5;124mBaseline CV 20\u001b[39m\u001b[38;5;124m\"\u001b[39m, \u001b[38;5;124m\"\u001b[39m\u001b[38;5;124mRatings Sample\u001b[39m\u001b[38;5;124m\"\u001b[39m, \u001b[38;5;241m20\u001b[39m))\n\u001b[0;32m---> 13\u001b[0m results_list\u001b[38;5;241m.\u001b[39mappend(\u001b[43mperform_cross_validation\u001b[49m\u001b[43m(\u001b[49m\u001b[43mBaselineOnly\u001b[49m\u001b[43m,\u001b[49m\u001b[43m \u001b[49m\u001b[43mratings_cv\u001b[49m\u001b[43m,\u001b[49m\u001b[43m \u001b[49m\u001b[38;5;124;43m\"\u001b[39;49m\u001b[38;5;124;43mBaseline CV 50\u001b[39;49m\u001b[38;5;124;43m\"\u001b[39;49m\u001b[43m,\u001b[49m\u001b[43m \u001b[49m\u001b[38;5;124;43m\"\u001b[39;49m\u001b[38;5;124;43mRatings Sample\u001b[39;49m\u001b[38;5;124;43m\"\u001b[39;49m\u001b[43m,\u001b[49m\u001b[43m \u001b[49m\u001b[38;5;241;43m50\u001b[39;49m\u001b[43m)\u001b[49m)\n",
      "Cell \u001b[0;32mIn[2], line 2\u001b[0m, in \u001b[0;36mperform_cross_validation\u001b[0;34m(algo, data, algo_name, dataset_name, cv, measures)\u001b[0m\n\u001b[1;32m      1\u001b[0m \u001b[38;5;28;01mdef\u001b[39;00m \u001b[38;5;21mperform_cross_validation\u001b[39m(algo, data, algo_name, dataset_name, cv\u001b[38;5;241m=\u001b[39m\u001b[38;5;241m5\u001b[39m, measures\u001b[38;5;241m=\u001b[39m[\u001b[38;5;124m\"\u001b[39m\u001b[38;5;124mRMSE\u001b[39m\u001b[38;5;124m\"\u001b[39m, \u001b[38;5;124m\"\u001b[39m\u001b[38;5;124mMSE\u001b[39m\u001b[38;5;124m\"\u001b[39m, \u001b[38;5;124m\"\u001b[39m\u001b[38;5;124mMAE\u001b[39m\u001b[38;5;124m\"\u001b[39m]):\n\u001b[0;32m----> 2\u001b[0m     results \u001b[38;5;241m=\u001b[39m \u001b[43mcross_validate\u001b[49m\u001b[43m(\u001b[49m\u001b[43malgo\u001b[49m\u001b[43m(\u001b[49m\u001b[43m)\u001b[49m\u001b[43m,\u001b[49m\u001b[43m \u001b[49m\u001b[43mdata\u001b[49m\u001b[43m,\u001b[49m\u001b[43m \u001b[49m\u001b[43mmeasures\u001b[49m\u001b[38;5;241;43m=\u001b[39;49m\u001b[43mmeasures\u001b[49m\u001b[43m,\u001b[49m\u001b[43m \u001b[49m\u001b[43mcv\u001b[49m\u001b[38;5;241;43m=\u001b[39;49m\u001b[43mcv\u001b[49m\u001b[43m,\u001b[49m\u001b[43m \u001b[49m\u001b[43mverbose\u001b[49m\u001b[38;5;241;43m=\u001b[39;49m\u001b[38;5;28;43;01mTrue\u001b[39;49;00m\u001b[43m)\u001b[49m\n\u001b[1;32m      3\u001b[0m     \u001b[38;5;28mprint\u001b[39m(results)\n\u001b[1;32m      4\u001b[0m     \u001b[38;5;28;01mreturn\u001b[39;00m {\n\u001b[1;32m      5\u001b[0m         \u001b[38;5;124m\"\u001b[39m\u001b[38;5;124mAlgorithm\u001b[39m\u001b[38;5;124m\"\u001b[39m: algo_name,\n\u001b[1;32m      6\u001b[0m         \u001b[38;5;124m\"\u001b[39m\u001b[38;5;124mDataset\u001b[39m\u001b[38;5;124m\"\u001b[39m: dataset_name,\n\u001b[0;32m   (...)\u001b[0m\n\u001b[1;32m     11\u001b[0m         \u001b[38;5;124m\"\u001b[39m\u001b[38;5;124mTestTime\u001b[39m\u001b[38;5;124m\"\u001b[39m:\u001b[38;5;28msum\u001b[39m(results[\u001b[38;5;124m\"\u001b[39m\u001b[38;5;124mtest_time\u001b[39m\u001b[38;5;124m\"\u001b[39m]) \u001b[38;5;241m/\u001b[39m \u001b[38;5;28mlen\u001b[39m(results[\u001b[38;5;124m\"\u001b[39m\u001b[38;5;124mtest_time\u001b[39m\u001b[38;5;124m\"\u001b[39m])\n\u001b[1;32m     12\u001b[0m     }\n",
      "File \u001b[0;32m/opt/anaconda3/envs/movie-recommender/lib/python3.10/site-packages/surprise/model_selection/validation.py:108\u001b[0m, in \u001b[0;36mcross_validate\u001b[0;34m(algo, data, measures, cv, return_train_measures, n_jobs, pre_dispatch, verbose)\u001b[0m\n\u001b[1;32m    102\u001b[0m cv \u001b[38;5;241m=\u001b[39m get_cv(cv)\n\u001b[1;32m    104\u001b[0m delayed_list \u001b[38;5;241m=\u001b[39m (\n\u001b[1;32m    105\u001b[0m     delayed(fit_and_score)(algo, trainset, testset, measures, return_train_measures)\n\u001b[1;32m    106\u001b[0m     \u001b[38;5;28;01mfor\u001b[39;00m (trainset, testset) \u001b[38;5;129;01min\u001b[39;00m cv\u001b[38;5;241m.\u001b[39msplit(data)\n\u001b[1;32m    107\u001b[0m )\n\u001b[0;32m--> 108\u001b[0m out \u001b[38;5;241m=\u001b[39m \u001b[43mParallel\u001b[49m\u001b[43m(\u001b[49m\u001b[43mn_jobs\u001b[49m\u001b[38;5;241;43m=\u001b[39;49m\u001b[43mn_jobs\u001b[49m\u001b[43m,\u001b[49m\u001b[43m \u001b[49m\u001b[43mpre_dispatch\u001b[49m\u001b[38;5;241;43m=\u001b[39;49m\u001b[43mpre_dispatch\u001b[49m\u001b[43m)\u001b[49m\u001b[43m(\u001b[49m\u001b[43mdelayed_list\u001b[49m\u001b[43m)\u001b[49m\n\u001b[1;32m    110\u001b[0m (test_measures_dicts, train_measures_dicts, fit_times, test_times) \u001b[38;5;241m=\u001b[39m \u001b[38;5;28mzip\u001b[39m(\u001b[38;5;241m*\u001b[39mout)\n\u001b[1;32m    112\u001b[0m test_measures \u001b[38;5;241m=\u001b[39m \u001b[38;5;28mdict\u001b[39m()\n",
      "File \u001b[0;32m/opt/anaconda3/envs/movie-recommender/lib/python3.10/site-packages/joblib/parallel.py:1918\u001b[0m, in \u001b[0;36mParallel.__call__\u001b[0;34m(self, iterable)\u001b[0m\n\u001b[1;32m   1916\u001b[0m     output \u001b[38;5;241m=\u001b[39m \u001b[38;5;28mself\u001b[39m\u001b[38;5;241m.\u001b[39m_get_sequential_output(iterable)\n\u001b[1;32m   1917\u001b[0m     \u001b[38;5;28mnext\u001b[39m(output)\n\u001b[0;32m-> 1918\u001b[0m     \u001b[38;5;28;01mreturn\u001b[39;00m output \u001b[38;5;28;01mif\u001b[39;00m \u001b[38;5;28mself\u001b[39m\u001b[38;5;241m.\u001b[39mreturn_generator \u001b[38;5;28;01melse\u001b[39;00m \u001b[38;5;28;43mlist\u001b[39;49m\u001b[43m(\u001b[49m\u001b[43moutput\u001b[49m\u001b[43m)\u001b[49m\n\u001b[1;32m   1920\u001b[0m \u001b[38;5;66;03m# Let's create an ID that uniquely identifies the current call. If the\u001b[39;00m\n\u001b[1;32m   1921\u001b[0m \u001b[38;5;66;03m# call is interrupted early and that the same instance is immediately\u001b[39;00m\n\u001b[1;32m   1922\u001b[0m \u001b[38;5;66;03m# re-used, this id will be used to prevent workers that were\u001b[39;00m\n\u001b[1;32m   1923\u001b[0m \u001b[38;5;66;03m# concurrently finalizing a task from the previous call to run the\u001b[39;00m\n\u001b[1;32m   1924\u001b[0m \u001b[38;5;66;03m# callback.\u001b[39;00m\n\u001b[1;32m   1925\u001b[0m \u001b[38;5;28;01mwith\u001b[39;00m \u001b[38;5;28mself\u001b[39m\u001b[38;5;241m.\u001b[39m_lock:\n",
      "File \u001b[0;32m/opt/anaconda3/envs/movie-recommender/lib/python3.10/site-packages/joblib/parallel.py:1844\u001b[0m, in \u001b[0;36mParallel._get_sequential_output\u001b[0;34m(self, iterable)\u001b[0m\n\u001b[1;32m   1841\u001b[0m \u001b[38;5;28;01myield\u001b[39;00m \u001b[38;5;28;01mNone\u001b[39;00m\n\u001b[1;32m   1843\u001b[0m \u001b[38;5;66;03m# Sequentially call the tasks and yield the results.\u001b[39;00m\n\u001b[0;32m-> 1844\u001b[0m \u001b[38;5;28;01mfor\u001b[39;00m func, args, kwargs \u001b[38;5;129;01min\u001b[39;00m iterable:\n\u001b[1;32m   1845\u001b[0m     \u001b[38;5;28mself\u001b[39m\u001b[38;5;241m.\u001b[39mn_dispatched_batches \u001b[38;5;241m+\u001b[39m\u001b[38;5;241m=\u001b[39m \u001b[38;5;241m1\u001b[39m\n\u001b[1;32m   1846\u001b[0m     \u001b[38;5;28mself\u001b[39m\u001b[38;5;241m.\u001b[39mn_dispatched_tasks \u001b[38;5;241m+\u001b[39m\u001b[38;5;241m=\u001b[39m \u001b[38;5;241m1\u001b[39m\n",
      "File \u001b[0;32m/opt/anaconda3/envs/movie-recommender/lib/python3.10/site-packages/surprise/model_selection/validation.py:104\u001b[0m, in \u001b[0;36m<genexpr>\u001b[0;34m(.0)\u001b[0m\n\u001b[1;32m    100\u001b[0m measures \u001b[38;5;241m=\u001b[39m [m\u001b[38;5;241m.\u001b[39mlower() \u001b[38;5;28;01mfor\u001b[39;00m m \u001b[38;5;129;01min\u001b[39;00m measures]\n\u001b[1;32m    102\u001b[0m cv \u001b[38;5;241m=\u001b[39m get_cv(cv)\n\u001b[0;32m--> 104\u001b[0m delayed_list \u001b[38;5;241m=\u001b[39m (\n\u001b[1;32m    105\u001b[0m     delayed(fit_and_score)(algo, trainset, testset, measures, return_train_measures)\n\u001b[1;32m    106\u001b[0m     \u001b[38;5;28;01mfor\u001b[39;00m (trainset, testset) \u001b[38;5;129;01min\u001b[39;00m cv\u001b[38;5;241m.\u001b[39msplit(data)\n\u001b[1;32m    107\u001b[0m )\n\u001b[1;32m    108\u001b[0m out \u001b[38;5;241m=\u001b[39m Parallel(n_jobs\u001b[38;5;241m=\u001b[39mn_jobs, pre_dispatch\u001b[38;5;241m=\u001b[39mpre_dispatch)(delayed_list)\n\u001b[1;32m    110\u001b[0m (test_measures_dicts, train_measures_dicts, fit_times, test_times) \u001b[38;5;241m=\u001b[39m \u001b[38;5;28mzip\u001b[39m(\u001b[38;5;241m*\u001b[39mout)\n",
      "File \u001b[0;32m/opt/anaconda3/envs/movie-recommender/lib/python3.10/site-packages/surprise/model_selection/split.py:117\u001b[0m, in \u001b[0;36mKFold.split\u001b[0;34m(self, data)\u001b[0m\n\u001b[1;32m    112\u001b[0m raw_trainset \u001b[38;5;241m=\u001b[39m [\n\u001b[1;32m    113\u001b[0m     data\u001b[38;5;241m.\u001b[39mraw_ratings[i] \u001b[38;5;28;01mfor\u001b[39;00m i \u001b[38;5;129;01min\u001b[39;00m chain(indices[:start], indices[stop:])\n\u001b[1;32m    114\u001b[0m ]\n\u001b[1;32m    115\u001b[0m raw_testset \u001b[38;5;241m=\u001b[39m [data\u001b[38;5;241m.\u001b[39mraw_ratings[i] \u001b[38;5;28;01mfor\u001b[39;00m i \u001b[38;5;129;01min\u001b[39;00m indices[start:stop]]\n\u001b[0;32m--> 117\u001b[0m trainset \u001b[38;5;241m=\u001b[39m \u001b[43mdata\u001b[49m\u001b[38;5;241;43m.\u001b[39;49m\u001b[43mconstruct_trainset\u001b[49m\u001b[43m(\u001b[49m\u001b[43mraw_trainset\u001b[49m\u001b[43m)\u001b[49m\n\u001b[1;32m    118\u001b[0m testset \u001b[38;5;241m=\u001b[39m data\u001b[38;5;241m.\u001b[39mconstruct_testset(raw_testset)\n\u001b[1;32m    120\u001b[0m \u001b[38;5;28;01myield\u001b[39;00m trainset, testset\n",
      "File \u001b[0;32m/opt/anaconda3/envs/movie-recommender/lib/python3.10/site-packages/surprise/dataset.py:206\u001b[0m, in \u001b[0;36mDataset.construct_trainset\u001b[0;34m(self, raw_trainset)\u001b[0m\n\u001b[1;32m    203\u001b[0m         raw2inner_id_items[irid] \u001b[38;5;241m=\u001b[39m current_i_index\n\u001b[1;32m    204\u001b[0m         current_i_index \u001b[38;5;241m+\u001b[39m\u001b[38;5;241m=\u001b[39m \u001b[38;5;241m1\u001b[39m\n\u001b[0;32m--> 206\u001b[0m     \u001b[43mur\u001b[49m\u001b[43m[\u001b[49m\u001b[43muid\u001b[49m\u001b[43m]\u001b[49m\u001b[38;5;241;43m.\u001b[39;49m\u001b[43mappend\u001b[49m\u001b[43m(\u001b[49m\u001b[43m(\u001b[49m\u001b[43miid\u001b[49m\u001b[43m,\u001b[49m\u001b[43m \u001b[49m\u001b[43mr\u001b[49m\u001b[43m)\u001b[49m\u001b[43m)\u001b[49m\n\u001b[1;32m    207\u001b[0m     ir[iid]\u001b[38;5;241m.\u001b[39mappend((uid, r))\n\u001b[1;32m    209\u001b[0m n_users \u001b[38;5;241m=\u001b[39m \u001b[38;5;28mlen\u001b[39m(ur)  \u001b[38;5;66;03m# number of users\u001b[39;00m\n",
      "\u001b[0;31mKeyboardInterrupt\u001b[0m: "
     ]
    }
   ],
   "source": [
    "# A reader is still needed but only the rating_scale param is required.\n",
    "reader = Reader(rating_scale=(1, 5))\n",
    "\n",
    "# The columns must correspond to user id, item id and ratings (in that order).\n",
    "ratings_cv = Dataset.load_from_df(ratings_data, reader)\n",
    "\n",
    "# We can now use this dataset as we please, e.g. calling cross_validate\n",
    "# svd_ratings = cross_validate(algo, ratings_cv, cv=5)\n",
    "# results_list.append(perform_cross_validation(SVD, ratings_cv, \"SVD\", \"Ratings Sample\"))\n",
    "results_list.append(perform_cross_validation(BaselineOnly, ratings_cv, \"Baseline\", \"Ratings Sample\"))\n",
    "results_list.append(perform_cross_validation(BaselineOnly, ratings_cv, \"Baseline CV 10\", \"Ratings Sample\", 10))\n",
    "results_list.append(perform_cross_validation(BaselineOnly, ratings_cv, \"Baseline CV 20\", \"Ratings Sample\", 20))\n",
    "results_list.append(perform_cross_validation(BaselineOnly, ratings_cv, \"Baseline CV 50\", \"Ratings Sample\", 50))\n",
    "\n"
   ]
  },
  {
   "cell_type": "code",
   "execution_count": 61,
   "metadata": {},
   "outputs": [
    {
     "name": "stdout",
     "output_type": "stream",
     "text": [
      "            Algorithm         Dataset      RMSE       MSE       MAE   FitTime  \\\n",
      "0   BaselineOnly CV 5            100k  0.943854  0.890862  0.748241  0.030004   \n",
      "1  BaselineOnly CV 10            100k  0.941938  0.887292  0.746398  0.034897   \n",
      "2  BaselineOnly CV 20            100k  0.941263  0.886140  0.745905  0.035859   \n",
      "3  BaselineOnly CV 50            100k  0.940838  0.885468  0.745459  0.038007   \n",
      "4            Baseline  Ratings Sample  0.860939  0.741216  0.669018  1.566724   \n",
      "5      Baseline CV 10  Ratings Sample  0.859812  0.739280  0.667959  1.715139   \n",
      "6      Baseline CV 20  Ratings Sample  0.859343  0.738479  0.667531  1.846231   \n",
      "7      Baseline CV 50  Ratings Sample  0.859096  0.738065  0.667310  1.898094   \n",
      "\n",
      "   TestTime  \n",
      "0  0.082755  \n",
      "1  0.020086  \n",
      "2  0.006802  \n",
      "3  0.002758  \n",
      "4  0.902524  \n",
      "5  0.459481  \n",
      "6  0.289321  \n",
      "7  0.107881  \n"
     ]
    }
   ],
   "source": [
    "results_df = pd.DataFrame(results_list)\n",
    "print(results_df)"
   ]
  },
  {
   "cell_type": "markdown",
   "metadata": {},
   "source": [
    "Custom cross validation tests"
   ]
  },
  {
   "cell_type": "code",
   "execution_count": 66,
   "metadata": {},
   "outputs": [
    {
     "name": "stdout",
     "output_type": "stream",
     "text": [
      "RMSE: 0.9435\n",
      "RMSE: 0.9411\n",
      "RMSE: 0.9498\n"
     ]
    }
   ],
   "source": [
    "from surprise import accuracy, SVD\n",
    "from surprise.model_selection import KFold, RepeatedKFold, ShuffleSplit, LeaveOneOut\n",
    "\n",
    "kf = KFold(n_splits=3)\n",
    "\n",
    "algo = SVD()\n",
    "\n",
    "for trainset, testset in kf.split(_100k_data):\n",
    "\n",
    "    # train and test algorithm.\n",
    "    algo.fit(trainset)\n",
    "    predictions = algo.test(testset)\n",
    "\n",
    "    # Compute and print Root Mean Squared Error\n",
    "    accuracy.rmse(predictions, verbose=True)"
   ]
  },
  {
   "cell_type": "code",
   "execution_count": null,
   "metadata": {},
   "outputs": [],
   "source": [
    "from surprise.model_selection import KFold\n",
    "\n",
    "kf = KFold(n_splits=3)\n",
    "\n",
    "algo = SVD()\n",
    "\n",
    "for trainset, testset in kf.split(_100k_data):\n",
    "\n",
    "    # train and test algorithm.\n",
    "    algo.fit(trainset)\n",
    "    predictions = algo.test(testset)\n",
    "\n",
    "    # Compute and print Root Mean Squared Error\n",
    "    accuracy.rmse(predictions, verbose=True)"
   ]
  },
  {
   "cell_type": "code",
   "execution_count": 3,
   "metadata": {},
   "outputs": [],
   "source": [
    "from crossvalidation import configure_validation\n",
    "from surprise.model_selection import KFold, RepeatedKFold, ShuffleSplit, LeaveOneOut\n",
    "from surprise import SVD\n",
    "\n",
    "\n",
    "# configure_validation(RepeatedKFold, _100k_data, SVD, 3)\n",
    "# configure_validation(ShuffleSplit, _100k_data, SVD, 3)\n",
    "# configure_validation(LeaveOneOut, _100k_data, SVD, 3)"
   ]
  },
  {
   "cell_type": "code",
   "execution_count": 4,
   "metadata": {},
   "outputs": [
    {
     "name": "stdout",
     "output_type": "stream",
     "text": [
      "RMSE: 0.9422\n",
      "RMSE: 0.9489\n",
      "RMSE: 0.9427\n",
      "[0.9421836727931848, 0.9489495398023247, 0.942724733148702]\n"
     ]
    }
   ],
   "source": [
    "configure_validation(KFold, _100k_data, SVD, 3)"
   ]
  }
 ],
 "metadata": {
  "kernelspec": {
   "display_name": "movie-recommender",
   "language": "python",
   "name": "python3"
  },
  "language_info": {
   "codemirror_mode": {
    "name": "ipython",
    "version": 3
   },
   "file_extension": ".py",
   "mimetype": "text/x-python",
   "name": "python",
   "nbconvert_exporter": "python",
   "pygments_lexer": "ipython3",
   "version": "3.10.13"
  }
 },
 "nbformat": 4,
 "nbformat_minor": 2
}
