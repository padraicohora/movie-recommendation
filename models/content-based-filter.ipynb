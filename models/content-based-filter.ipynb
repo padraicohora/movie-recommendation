{
 "cells": [
  {
   "cell_type": "code",
   "execution_count": 17,
   "metadata": {},
   "outputs": [],
   "source": [
    "import pandas as pd\n",
    "import numpy as np\n",
    "from sklearn.feature_extraction.text import TfidfVectorizer\n",
    "from sklearn.decomposition import TruncatedSVD\n",
    "from sklearn.metrics.pairwise import cosine_similarity\n",
    "from sklearn.preprocessing import StandardScaler\n",
    "from sklearn.pipeline import make_pipeline\n",
    "from sklearn.compose import ColumnTransformer\n",
    "import random\n",
    "random.seed(10)"
   ]
  },
  {
   "cell_type": "code",
   "execution_count": 30,
   "metadata": {},
   "outputs": [],
   "source": [
    "movies = pd.read_csv('../ml-20m/movies.csv')\n",
    "data = pd.read_csv('../samples/combined_movies_ratings_tags.csv')\n",
    "\n",
    "data_subset = data.sample(frac=0.03, random_state=42)\n",
    "\n",
    "data_subset =  data_subset.drop_duplicates(subset=['userId', 'movieId'])\n"
   ]
  },
  {
   "cell_type": "code",
   "execution_count": 15,
   "metadata": {},
   "outputs": [],
   "source": [
    "data_subset =  data_subset.drop_duplicates(subset=['userId', 'movieId'])\n",
    "\n",
    "user_item_matrix = data_subset.pivot(index='userId', columns='movieId', values='user_rating').fillna(0)"
   ]
  },
  {
   "cell_type": "code",
   "execution_count": 16,
   "metadata": {},
   "outputs": [],
   "source": [
    "# Matrix Factorization using SVD\n",
    "svd = TruncatedSVD(n_components=50, random_state=52)\n",
    "latent_factors = svd.fit_transform(user_item_matrix)\n",
    "Vt = svd.components_\n",
    "#we are creating SVD model here. "
   ]
  },
  {
   "cell_type": "code",
   "execution_count": 19,
   "metadata": {},
   "outputs": [],
   "source": [
    "# Step 4: Reconstruct the User-Item Matrix (Predicted Ratings)\n",
    "\n",
    "# Reconstruct the matrix using the latent factors\n",
    "predicted_ratings = np.dot(latent_factors, Vt)\n",
    "\n",
    "# Convert it back to a DataFrame with the same shape as the original user-item matrix\n",
    "predicted_ratings_df = pd.DataFrame(predicted_ratings, index=user_item_matrix.index, columns=user_item_matrix.columns)"
   ]
  },
  {
   "cell_type": "code",
   "execution_count": 6,
   "metadata": {},
   "outputs": [],
   "source": [
    "# TF-IDF Vectorizer for genres\n",
    "vectorizer = TfidfVectorizer(stop_words='english')\n",
    "tfidf_matrix = vectorizer.fit_transform(data_subset['genres'])\n"
   ]
  },
  {
   "cell_type": "code",
   "execution_count": 9,
   "metadata": {},
   "outputs": [],
   "source": [
    "\n",
    "# Compute similarity\n",
    "cosine_sim = cosine_similarity(tfidf_matrix, tfidf_matrix)\n",
    "content_based_similarity_df = pd.DataFrame(cosine_sim, index=data_subset.index, columns=data_subset.index)"
   ]
  },
  {
   "cell_type": "code",
   "execution_count": 31,
   "metadata": {},
   "outputs": [],
   "source": [
    "# Hybrid Recommendation Function\n",
    "def hybrid_recommendation(user_id, top_n=10, alpha=0.5):\n",
    "    # Get collaborative filtering predictions\n",
    "    user_predictions = predicted_ratings_df.loc[user_id]\n",
    "    \n",
    "    # Sort movies by collaborative filtering score\n",
    "    top_movies_cf = user_predictions.sort_values(ascending=False).index.tolist()\n",
    "    \n",
    "    # Get content-based scores for these movies\n",
    "    movie_ids = [movie_id for movie_id in top_movies_cf if movie_id in content_based_similarity_df.index]\n",
    "    movie_scores = {movie_id: np.mean(content_based_similarity_df[movie_id].loc[movie_ids]) for movie_id in movie_ids}\n",
    "# Combine collaborative filtering and content-based scores\n",
    "    combined_scores = {}\n",
    "    for movie_id in movie_ids:\n",
    "        cf_score = user_predictions[movie_id]\n",
    "        content_score = movie_scores[movie_id]\n",
    "        combined_scores[movie_id] = alpha * cf_score + (1 - alpha) * content_score\n",
    "# Sort movies by combined score and return top N\n",
    "    recommended_movie_ids = sorted(combined_scores, key=combined_scores.get, reverse=True)[:top_n]\n",
    "    \n",
    "    # Return movie titles\n",
    "    recommended_movies = movies[movies['movieId'].isin(recommended_movie_ids)][['movieId', 'title']]\n",
    "    \n",
    "    return recommended_movies      "
   ]
  },
  {
   "cell_type": "code",
   "execution_count": 33,
   "metadata": {},
   "outputs": [
    {
     "name": "stdout",
     "output_type": "stream",
     "text": [
      "Top 10 Movie Recommendations for User 1:\n",
      "1. Hunchback of Notre Dame, The (1996)\n",
      "2. Sleeper (1973)\n",
      "3. Jerry Maguire (1996)\n",
      "4. Liar Liar (1997)\n",
      "5. Con Air (1997)\n",
      "6. Sliding Doors (1998)\n",
      "7. One True Thing (1998)\n",
      "8. Elizabeth (1998)\n",
      "9. Last Picture Show, The (1971)\n",
      "10. Footloose (1984)\n"
     ]
    }
   ],
   "source": [
    "# Example: Get top 10 recommendations for user with ID 1\n",
    "user_id = 1\n",
    "top_n_recommendations = hybrid_recommendation(user_id, top_n=   10, alpha=0.5)\n",
    "\n",
    "print(f\"Top 10 Movie Recommendations for User {user_id}:\")\n",
    "for idx, movie in enumerate(top_n_recommendations.itertuples(), 1):\n",
    "    print(f\"{idx}. {movie.title}\")"
   ]
  }
 ],
 "metadata": {
  "kernelspec": {
   "display_name": "movie_recommender_3",
   "language": "python",
   "name": "python3"
  },
  "language_info": {
   "codemirror_mode": {
    "name": "ipython",
    "version": 3
   },
   "file_extension": ".py",
   "mimetype": "text/x-python",
   "name": "python",
   "nbconvert_exporter": "python",
   "pygments_lexer": "ipython3",
   "version": "3.10.13"
  }
 },
 "nbformat": 4,
 "nbformat_minor": 2
}
