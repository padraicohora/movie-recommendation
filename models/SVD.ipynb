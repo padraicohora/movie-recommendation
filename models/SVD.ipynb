{
 "cells": [
  {
   "cell_type": "markdown",
   "metadata": {},
   "source": [
    "Here I will try out the matrix factorisation algorythms. For this I will use the [Surprize Python package](https://surprise.readthedocs.io/). \n",
    "\n",
    "First I will try out the In package Movielens datasets, as per the tutorial in the package website."
   ]
  },
  {
   "cell_type": "code",
   "execution_count": 30,
   "metadata": {},
   "outputs": [],
   "source": [
    "import pandas as pd\n",
    "import numpy as np\n",
    "import random\n",
    "import matplotlib.pyplot as plt\n",
    "# import os\n",
    "from surprise import BaselineOnly, Dataset, Reader, SVD, accuracy\n",
    "from surprise.model_selection import cross_validate, train_test_split\n",
    "from surprise.model_selection.split import LeaveOneOut\n",
    "from collections import defaultdict\n"
   ]
  },
  {
   "cell_type": "code",
   "execution_count": 21,
   "metadata": {},
   "outputs": [],
   "source": [
    "# column_names = ['userId', 'movieId', 'rating', 'timestamp']\n",
    "\n",
    "# data_100k = pd.read_csv('../ml-100k/u.ratings', sep=\"\\t\", names=column_names)\n",
    "\n",
    "# reader = Reader(rating_scale=(1, 5))\n",
    "\n",
    "# subset_test = data_100k[['userId', 'movieId', 'rating']]\n",
    "\n",
    "# _100k_data = Dataset.load_from_df(subset_test, reader)\n",
    "\n",
    "# print(_100k_data)"
   ]
  },
  {
   "cell_type": "code",
   "execution_count": 22,
   "metadata": {},
   "outputs": [
    {
     "name": "stdout",
     "output_type": "stream",
     "text": [
      "<surprise.dataset.DatasetAutoFolds object at 0x177da8f70>\n"
     ]
    }
   ],
   "source": [
    "\n",
    "np.random.seed(42)\n",
    "\n",
    "column_names = ['userId', 'movieId', 'rating', 'timestamp']\n",
    "\n",
    "ratings = pd.read_csv('../ml-100k/u.data', sep='\\t', names=column_names)\n",
    "\n",
    "reader = Reader(rating_scale=(1, 5))\n",
    "\n",
    "subset = ratings[['userId', 'movieId', 'rating']]\n",
    "subset = subset.iloc[1:]\n",
    "subset[\"rating\"] = subset[\"rating\"].astype(float)\n",
    "\n",
    "custom_data = Dataset.load_from_df(subset, reader)\n",
    "\n",
    "print(custom_data)"
   ]
  },
  {
   "cell_type": "code",
   "execution_count": 23,
   "metadata": {},
   "outputs": [
    {
     "name": "stdout",
     "output_type": "stream",
     "text": [
      "      movieId                                         item_title\n",
      "0           2                                   GoldenEye (1995)\n",
      "1           3                                  Four Rooms (1995)\n",
      "2           4                                  Get Shorty (1995)\n",
      "3           5                                     Copycat (1995)\n",
      "4           6  Shanghai Triad (Yao a yao yao dao waipo qiao) ...\n",
      "...       ...                                                ...\n",
      "1676     1678                                  Mat' i syn (1997)\n",
      "1677     1679                                   B. Monkey (1998)\n",
      "1678     1680                               Sliding Doors (1998)\n",
      "1679     1681                                You So Crazy (1994)\n",
      "1680     1682          Scream of Stone (Schrei aus Stein) (1991)\n",
      "\n",
      "[1681 rows x 2 columns]\n"
     ]
    }
   ],
   "source": [
    "# movie_data_column_names = ['movieId', 'item_title', 'release_date', 'release_date_2', \"url\", \"IMDb URL\" , \"unknown\" , \"Action\" , \"Adventure\" , \"Animation\", \n",
    "#                             \"Children's\" | \"Comedy\" | Crime | Documentary | Drama | Fantasy \n",
    "\n",
    "movies = pd.read_csv('../ml-100k/u.item', sep='|',  encoding='ISO-8859-1')\n",
    "movies = movies.iloc[:, 0:2]\n",
    "movies.columns = ['movieId', 'item_title']\n",
    "\n",
    "print(movies)"
   ]
  },
  {
   "cell_type": "code",
   "execution_count": 24,
   "metadata": {},
   "outputs": [
    {
     "data": {
      "text/plain": [
       "<surprise.prediction_algorithms.matrix_factorization.SVD at 0x319b7fd00>"
      ]
     },
     "execution_count": 24,
     "metadata": {},
     "output_type": "execute_result"
    }
   ],
   "source": [
    "# Train-test split\n",
    "trainset, testset = train_test_split(custom_data, test_size=0.2)\n",
    "\n",
    "# Train the SVD model\n",
    "algo = SVD()\n",
    "algo.fit(trainset)"
   ]
  },
  {
   "cell_type": "markdown",
   "metadata": {},
   "source": [
    "Use SVD model to recommend movies for new users (people who have rated at least 10 movies) and based on that, predict what other movies they would likely enjoy. "
   ]
  },
  {
   "cell_type": "markdown",
   "metadata": {},
   "source": [
    "First I will do a dummy run through as a proof of concept"
   ]
  },
  {
   "cell_type": "code",
   "execution_count": 25,
   "metadata": {},
   "outputs": [
    {
     "name": "stdout",
     "output_type": "stream",
     "text": [
      "User: []\n",
      "User movies: []\n",
      "Position: 0, Movie: Delicatessen (1991), Predicted rating: 4.581708391298929\n",
      "Position: 1, Movie: Paradise Lost: The Child Murders at Robin Hood Hills (1996), Predicted rating: 4.580530269390127\n",
      "Position: 2, Movie: While You Were Sleeping (1995), Predicted rating: 4.573436263451\n",
      "Position: 3, Movie: My Fair Lady (1964), Predicted rating: 4.552318344422202\n",
      "Position: 4, Movie: Kingpin (1996), Predicted rating: 4.528909891186977\n",
      "Position: 5, Movie: Boot, Das (1981), Predicted rating: 4.455029958631393\n",
      "Position: 6, Movie: Postino, Il (1994), Predicted rating: 4.44071242515515\n",
      "Position: 7, Movie: Cold Comfort Farm (1995), Predicted rating: 4.417475584056654\n",
      "Position: 8, Movie: Meet Me in St. Louis (1944), Predicted rating: 4.412549289235366\n",
      "Position: 9, Movie: Some Like It Hot (1959), Predicted rating: 4.406388337899761\n"
     ]
    }
   ],
   "source": [
    "\n",
    "\n",
    "# Predict for a new user\n",
    "# Suppose you have userId = 12345 who rated 10 movies\n",
    "# Now predict ratings for movies they have NOT rated\n",
    "all_movie_ids = ratings['movieId'].unique()\n",
    "rated_movies = ratings[ratings['userId'] == 12345]['movieId'].tolist()\n",
    "print(f\"User: {rated_movies}\")\n",
    "print(f\"User movies: {rated_movies}\")\n",
    "\n",
    "movies_to_predict = [movie for movie in all_movie_ids if movie not in rated_movies]\n",
    "\n",
    "# Make predictions\n",
    "predictions = []\n",
    "for movie_id in movies_to_predict:\n",
    "    pred = algo.predict(12345, movie_id)\n",
    "    predictions.append((movie_id, pred.est))\n",
    "\n",
    "# Sort predictions by estimated rating\n",
    "predictions.sort(key=lambda x: x[1], reverse=True)\n",
    "\n",
    "# Recommend top 10 movies\n",
    "top_10 = predictions[:10]\n",
    "\n",
    "for index, (integer_value, float_value) in enumerate(top_10):\n",
    "    movie_title = movies.loc[integer_value, 'item_title']\n",
    "    print(f\"Position: {index}, Movie: {movie_title}, Predicted rating: {float_value}\")\n",
    "    "
   ]
  },
  {
   "cell_type": "markdown",
   "metadata": {},
   "source": [
    "Next, I will try with a known user, with at least 20 ratings. I will use userId 42, who has more than 20 ratings in the dataset. I will randomly select 10 of those ratings to simulate the \"user with 10 ratings\" situation. Then, I will use the SVD model to predict ratings for the remaining movies that the user has not yet rated. Next, I will recommend the top 10 movies based on the predicted ratings. Since we already know the users full ratings, we can the test our predictions against the he actual ratings. This will give us an idea of how accurate our recommendations are. \n",
    "\n",
    "###RMSE (Root Mean Squared Error):\n",
    "•\tRMSE measures how close the predicted ratings are to the real ratings.\n",
    "•\tIt's a \"regression\" metric.\n",
    "•\tExample:\n",
    "o\tTrue rating = 4.0\n",
    "o\tPredicted rating = 3.5\n",
    "o\tError = 0.5\n",
    "•\tRMSE gives you the \"average size of the errors\" across many predictions.\n",
    "•\tLower RMSE is better (closer to real ratings).\n"
   ]
  },
  {
   "cell_type": "code",
   "execution_count": 26,
   "metadata": {},
   "outputs": [
    {
     "name": "stdout",
     "output_type": "stream",
     "text": [
      "User 42 has rated 183 movies.\n",
      "Known Movies: [1045, 142, 97, 655, 234, 939, 720, 443, 685, 521]\n",
      "Hidden Movies:        userId  movieId  rating  timestamp\n",
      "19661      42      276       1  881105405\n",
      "18428      42      413       1  881106072\n",
      "70653      42     1048       1  881106220\n",
      "73843      42      111       1  881105931\n",
      "70257      42      595       1  881106582\n",
      "...       ...      ...     ...        ...\n",
      "15383      42      215       5  881107413\n",
      "15339      42      496       5  881107718\n",
      "15338      42      194       5  881107329\n",
      "20548      42        1       5  881105633\n",
      "18663      42       77       5  881108684\n",
      "\n",
      "[173 rows x 4 columns]\n",
      "testset user [(42, 276, 1), (42, 413, 1), (42, 1048, 1), (42, 111, 1), (42, 595, 1), (42, 219, 1), (42, 834, 1), (42, 1043, 2), (42, 679, 2), (42, 559, 2), (42, 43, 2), (42, 131, 2), (42, 451, 2), (42, 627, 2), (42, 433, 2), (42, 658, 2), (42, 367, 2), (42, 462, 2), (42, 977, 2), (42, 953, 2), (42, 175, 2), (42, 103, 3), (42, 428, 3), (42, 826, 3), (42, 409, 3), (42, 1040, 3), (42, 1050, 3), (42, 926, 3), (42, 86, 3), (42, 410, 3), (42, 1049, 3), (42, 38, 3), (42, 283, 3), (42, 467, 3), (42, 284, 3), (42, 924, 3), (42, 582, 3), (42, 273, 3), (42, 1042, 3), (42, 729, 3), (42, 290, 3), (42, 387, 3), (42, 491, 3), (42, 265, 3), (42, 660, 3), (42, 1046, 3), (42, 72, 3), (42, 141, 3), (42, 432, 3), (42, 625, 3), (42, 70, 3), (42, 44, 3), (42, 168, 3), (42, 746, 3), (42, 176, 3), (42, 25, 3), (42, 546, 3), (42, 281, 3), (42, 506, 3), (42, 456, 3), (42, 606, 3), (42, 403, 3), (42, 794, 3), (42, 684, 4), (42, 69, 4), (42, 603, 4), (42, 229, 4), (42, 469, 4), (42, 185, 4), (42, 83, 4), (42, 228, 4), (42, 735, 4), (42, 54, 4), (42, 934, 4), (42, 211, 4), (42, 125, 4), (42, 468, 4), (42, 227, 4), (42, 87, 4), (42, 135, 4), (42, 203, 4), (42, 66, 4), (42, 294, 4), (42, 411, 4), (42, 237, 4), (42, 1028, 4), (42, 471, 4), (42, 369, 4), (42, 15, 4), (42, 161, 4), (42, 98, 4), (42, 151, 4), (42, 1041, 4), (42, 121, 4), (42, 1047, 4), (42, 12, 4), (42, 82, 4), (42, 925, 4), (42, 222, 4), (42, 1051, 4), (42, 1044, 4), (42, 692, 4), (42, 183, 4), (42, 73, 4), (42, 280, 4), (42, 380, 4), (42, 781, 4), (42, 427, 4), (42, 71, 4), (42, 742, 4), (42, 941, 4), (42, 785, 4), (42, 371, 4), (42, 568, 4), (42, 866, 4), (42, 591, 4), (42, 143, 4), (42, 136, 4), (42, 999, 4), (42, 405, 4), (42, 282, 4), (42, 479, 4), (42, 755, 4), (42, 118, 4), (42, 63, 4), (42, 2, 5), (42, 174, 5), (42, 132, 5), (42, 969, 5), (42, 181, 5), (42, 318, 5), (42, 50, 5), (42, 523, 5), (42, 423, 5), (42, 64, 5), (42, 736, 5), (42, 418, 5), (42, 28, 5), (42, 88, 5), (42, 99, 5), (42, 404, 5), (42, 204, 5), (42, 79, 5), (42, 357, 5), (42, 210, 5), (42, 102, 5), (42, 48, 5), (42, 195, 5), (42, 588, 5), (42, 274, 5), (42, 96, 5), (42, 845, 5), (42, 239, 5), (42, 732, 5), (42, 172, 5), (42, 419, 5), (42, 402, 5), (42, 501, 5), (42, 202, 5), (42, 58, 5), (42, 756, 5), (42, 385, 5), (42, 196, 5), (42, 173, 5), (42, 230, 5), (42, 95, 5), (42, 216, 5), (42, 566, 5), (42, 215, 5), (42, 496, 5), (42, 194, 5), (42, 1, 5), (42, 77, 5)]\n",
      "RMSE: 0.7508\n",
      "RMSE for user 42 with only 10 ratings: 0.7507807798018021\n"
     ]
    }
   ],
   "source": [
    "# Simulate the \"user with 10 ratings\" situation\n",
    "userId = 42\n",
    "user_ratings = ratings[ratings['userId'] == userId]\n",
    "\n",
    "print(f\"User {userId} has rated {len(user_ratings)} movies.\")\n",
    "# Only if the user has enough ratings\n",
    "if len(user_ratings) >= 20:\n",
    "    # Randomly select 10 known ratings from simualted user\n",
    "    known_ratings = user_ratings.sample(10)\n",
    "    known_movies = known_ratings['movieId'].tolist()\n",
    "    print(f\"Known Movies: {known_movies}\")\n",
    "    \n",
    "    # The rest are the hidden \"test\" ratings\n",
    "    hidden_ratings = user_ratings[~user_ratings['movieId'].isin(known_movies)]\n",
    "    hidden_ratings = hidden_ratings.sort_values(by=\"rating\")\n",
    "    print(f\"Hidden Movies: {hidden_ratings}\")\n",
    "\n",
    "    # Now, imagine training the model ONLY with the 10 ratings for this user.\n",
    "    # Since we can't re-train, we simulate by making predictions anyway.\n",
    "    \n",
    "    # Make predictions for the hidden movies\n",
    "    testset_user = [\n",
    "        (userId, movie_id, true_rating) for movie_id, true_rating in zip(\n",
    "            hidden_ratings['movieId'], \n",
    "            hidden_ratings['rating']\n",
    "            )]\n",
    "    print(f\"testset user {testset_user}\")\n",
    "    predictions = algo.test(testset_user)\n",
    "\n",
    "    # Calculate RMSE or other metrics\n",
    "    rmse = accuracy.rmse(predictions)\n",
    "    print(f\"RMSE for user {userId} with only 10 ratings: {rmse}\")\n"
   ]
  },
  {
   "cell_type": "markdown",
   "metadata": {},
   "source": [
    "I have just performed a test on one user out of the dataset where the user has only predicted 10 movies. The RMSE for this user is 0.7659. This means that the model's predictions are, on average, 0.7659 units away from the actual ratings. This is a relatively high error, which suggests that the model may not be very accurate for this user. However, it's important to note that this is just one user and the model may perform better for other users.\n",
    "\n",
    "Next, we will perform the same prediction test with a larger sample of users. "
   ]
  },
  {
   "cell_type": "code",
   "execution_count": 27,
   "metadata": {},
   "outputs": [
    {
     "name": "stdout",
     "output_type": "stream",
     "text": [
      "Eligible users 943\n",
      "Average RMSE across 100 users with only 10 ratings: 0.7536262265420391\n"
     ]
    }
   ],
   "source": [
    "# Find users with at least 20 ratings\n",
    "user_rating_counts = ratings['userId'].value_counts()\n",
    "eligible_users = user_rating_counts[user_rating_counts >= 20].index.tolist()\n",
    "\n",
    "print(f\"Eligible users {len(eligible_users)}\")\n",
    "\n",
    "# We'll sample (say) 100 users to test\n",
    "sampled_users = random.sample(eligible_users, 100)\n",
    "\n",
    "user_rmse_scores = []\n",
    "\n",
    "for userId in sampled_users:\n",
    "    user_ratings = ratings[ratings['userId'] == userId]\n",
    "\n",
    "    # Select 10 known ratings\n",
    "    known_ratings = user_ratings.sample(10, random_state=42)\n",
    "    known_movies = known_ratings['movieId'].tolist()\n",
    "    \n",
    "    # Hidden ratings\n",
    "    hidden_ratings = user_ratings[~user_ratings['movieId'].isin(known_movies)]\n",
    "    \n",
    "    if hidden_ratings.empty:\n",
    "        continue  # Skip if no hidden ratings (shouldn't happen but just in case)\n",
    "\n",
    "    # Create a testset for this user: predict for hidden movies\n",
    "    testset_user = [(userId, movieId, true_rating) for movieId, true_rating in zip(hidden_ratings['movieId'], hidden_ratings['rating'])]\n",
    "\n",
    "    predictions = algo.test(testset_user)\n",
    "    \n",
    "    # Calculate RMSE for this user\n",
    "    rmse = accuracy.rmse(predictions, verbose=False)\n",
    "    user_rmse_scores.append(rmse)\n",
    "\n",
    "# Now calculate overall average RMSE\n",
    "average_rmse = np.mean(user_rmse_scores)\n",
    "print(f\"Average RMSE across {len(user_rmse_scores)} users with only 10 ratings: {average_rmse}\")\n"
   ]
  },
  {
   "cell_type": "markdown",
   "metadata": {},
   "source": [
    "The RMSE across 100 users is with only 10 ratings is 0.7341. The error has decreased ed slightly compared to the previous test with a single user. This suggests that the model is more accurate when predicting for a larger sample of users. However, it's important to note that this is still a relatively high error, which suggests that the model may not be very accurate for users with only a few ratings.\n",
    "\n",
    "Next, we can test if the RMSE goes down to a lower value when we increase the number of ratings to 20. I will also test with other amounts of ratings to see if there is a pattern."
   ]
  },
  {
   "cell_type": "code",
   "execution_count": 28,
   "metadata": {},
   "outputs": [
    {
     "name": "stdout",
     "output_type": "stream",
     "text": [
      "Known ratings: 5 -> Average RMSE: 0.7242\n",
      "Known ratings: 10 -> Average RMSE: 0.7275\n",
      "Known ratings: 20 -> Average RMSE: 0.7278\n",
      "Known ratings: 30 -> Average RMSE: 0.7232\n",
      "Known ratings: 40 -> Average RMSE: 0.7207\n"
     ]
    }
   ],
   "source": [
    "# Find users with at least 50 ratings\n",
    "user_rating_counts = ratings['userId'].value_counts()\n",
    "eligible_users = user_rating_counts[user_rating_counts >= 50].index.tolist()\n",
    "\n",
    "# Sample 100 users\n",
    "sampled_users = random.sample(eligible_users, 100)\n",
    "\n",
    "# Different number of known ratings to test\n",
    "known_ratings_list = [5, 10, 20, 30, 40]\n",
    "\n",
    "rmse_results = []\n",
    "\n",
    "for num_known in known_ratings_list:\n",
    "    user_rmse_scores = []\n",
    "    \n",
    "    for userId in sampled_users:\n",
    "        user_ratings = ratings[ratings['userId'] == userId]\n",
    "        \n",
    "        if len(user_ratings) < num_known + 5:  # Make sure there's enough hidden ratings\n",
    "            continue\n",
    "        \n",
    "        known_ratings = user_ratings.sample(num_known, random_state=42)\n",
    "        known_movies = known_ratings['movieId'].tolist()\n",
    "        \n",
    "        hidden_ratings = user_ratings[~user_ratings['movieId'].isin(known_movies)]\n",
    "        \n",
    "        if hidden_ratings.empty:\n",
    "            continue\n",
    "\n",
    "        testset_user = [(userId, movie_id, true_rating) for movie_id, true_rating in zip(hidden_ratings['movieId'], hidden_ratings['rating'])]\n",
    "\n",
    "        predictions = algo.test(testset_user)\n",
    "        \n",
    "        rmse = accuracy.rmse(predictions, verbose=False)\n",
    "        user_rmse_scores.append(rmse)\n",
    "    \n",
    "    # Average RMSE for this number of known ratings\n",
    "    avg_rmse = np.mean(user_rmse_scores)\n",
    "    rmse_results.append(avg_rmse)\n",
    "    print(f\"Known ratings: {num_known} -> Average RMSE: {avg_rmse:.4f}\")\n",
    "\n",
    "\n"
   ]
  },
  {
   "cell_type": "markdown",
   "metadata": {},
   "source": [
    "Plot the above findings "
   ]
  },
  {
   "cell_type": "code",
   "execution_count": 29,
   "metadata": {},
   "outputs": [
    {
     "data": {
      "image/png": "[encoded data removed]",
      "text/plain": [
       "<Figure size 1000x600 with 1 Axes>"
      ]
     },
     "metadata": {},
     "output_type": "display_data"
    }
   ],
   "source": [
    "# Plotting\n",
    "plt.figure(figsize=(10,6))\n",
    "plt.plot(known_ratings_list, rmse_results, marker='o')\n",
    "plt.title('RMSE vs Number of Known Ratings')\n",
    "plt.xlabel('Number of Known Ratings')\n",
    "plt.ylabel('Average RMSE')\n",
    "plt.grid(True)\n",
    "plt.show()"
   ]
  },
  {
   "cell_type": "markdown",
   "metadata": {},
   "source": [
    "this is a very interesting chart, as it shows that error does not go down that much, even when the user has rated as many as 40 movies, when compared to a user who has only rated 5 movies \n",
    "\n",
    "Next I will create a svd recommender that tests the models precision@k rather than RMSE"
   ]
  },
  {
   "cell_type": "code",
   "execution_count": 31,
   "metadata": {},
   "outputs": [
    {
     "name": "stdout",
     "output_type": "stream",
     "text": [
      "Average Precision@10: 0.2830\n"
     ]
    }
   ],
   "source": [
    "# Get all users\n",
    "all_users = ratings['userId'].unique()\n",
    "\n",
    "# Sample 100 users who have rated a lot\n",
    "user_rating_counts = ratings['userId'].value_counts()\n",
    "eligible_users = user_rating_counts[user_rating_counts >= 20].index.tolist()\n",
    "sampled_users = random.sample(eligible_users, 100)\n",
    "\n",
    "k = 10  # Top 10 recommendations\n",
    "\n",
    "precision_scores = []\n",
    "\n",
    "for user_id in sampled_users:\n",
    "    user_ratings = ratings[ratings['userId'] == user_id]\n",
    "    \n",
    "    # Simulate that we only know a few ratings\n",
    "    known_ratings = user_ratings.sample(10, random_state=42)\n",
    "    known_movies = set(known_ratings['movieId'])\n",
    "    \n",
    "    # Candidate movies: everything except what user has already rated\n",
    "    all_movies = set(ratings['movieId'].unique())\n",
    "    unseen_movies = list(all_movies - known_movies)\n",
    "    \n",
    "    # Predict ratings for unseen movies\n",
    "    predictions = [ (movie_id, algo.predict(user_id, movie_id).est) for movie_id in unseen_movies ]\n",
    "    \n",
    "    # Sort movies by predicted rating, highest first\n",
    "    predictions.sort(key=lambda x: x[1], reverse=True)\n",
    "    \n",
    "    # Take top-k movies\n",
    "    top_k_movies = [movie_id for movie_id, _ in predictions[:k]]\n",
    "    \n",
    "    # What are the movies the user *actually liked* (rated 4.0 or higher)?\n",
    "    true_liked_movies = user_ratings[user_ratings['rating'] >= 4.0]['movieId'].tolist()\n",
    "    \n",
    "    if not true_liked_movies:\n",
    "        continue  # Skip user if they have no strong likes\n",
    "\n",
    "    # Calculate Precision@K\n",
    "    relevant_in_top_k = sum([1 for movie_id in top_k_movies if movie_id in true_liked_movies])\n",
    "    precision_at_k = relevant_in_top_k / k\n",
    "    precision_scores.append(precision_at_k)\n",
    "\n",
    "# Final Precision@K\n",
    "average_precision = np.mean(precision_scores)\n",
    "print(f\"Average Precision@{k}: {average_precision:.4f}\")\n"
   ]
  },
  {
   "cell_type": "markdown",
   "metadata": {},
   "source": [
    "next we will calculate the following metrics: Precision@k, Recall@K, NDCG@K"
   ]
  },
  {
   "cell_type": "code",
   "execution_count": 32,
   "metadata": {},
   "outputs": [
    {
     "name": "stdout",
     "output_type": "stream",
     "text": [
      "Average Precision@10: 0.3040\n",
      "Average Recall@10: 0.0535\n",
      "Average NDCG@10: 0.3203\n"
     ]
    }
   ],
   "source": [
    "# Get all users\n",
    "all_users = ratings['userId'].unique()\n",
    "\n",
    "# Sample 100 users who have rated enough\n",
    "user_rating_counts = ratings['userId'].value_counts()\n",
    "eligible_users = user_rating_counts[user_rating_counts >= 20].index.tolist()\n",
    "sampled_users = random.sample(eligible_users, 100)\n",
    "\n",
    "k = 10  # Top 10 recommendations\n",
    "\n",
    "precision_scores = []\n",
    "recall_scores = []\n",
    "ndcg_scores = []\n",
    "\n",
    "for user_id in sampled_users:\n",
    "    user_ratings = ratings[ratings['userId'] == user_id]\n",
    "    \n",
    "    # Simulate 10 known ratings\n",
    "    known_ratings = user_ratings.sample(10, random_state=42)\n",
    "    known_movies = set(known_ratings['movieId'])\n",
    "    \n",
    "    # Candidate movies: unseen\n",
    "    all_movies = set(ratings['movieId'].unique())\n",
    "    unseen_movies = list(all_movies - known_movies)\n",
    "    \n",
    "    # Predict ratings for unseen movies\n",
    "    predictions = [ (movie_id, algo.predict(user_id, movie_id).est) for movie_id in unseen_movies ]\n",
    "    predictions.sort(key=lambda x: x[1], reverse=True)\n",
    "    \n",
    "    # Top-K recommended movies\n",
    "    top_k_movies = [movie_id for movie_id, _ in predictions[:k]]\n",
    "    \n",
    "    # Movies the user actually liked (rating >= 4)\n",
    "    true_liked_movies = user_ratings[user_ratings['rating'] >= 4.0]['movieId'].tolist()\n",
    "    \n",
    "    if not true_liked_movies:\n",
    "        continue  # Skip user if no strong likes\n",
    "    \n",
    "    # --- Calculate Precision@K ---\n",
    "    relevant_in_top_k = sum([1 for movie_id in top_k_movies if movie_id in true_liked_movies])\n",
    "    precision_at_k = relevant_in_top_k / k\n",
    "    precision_scores.append(precision_at_k)\n",
    "    \n",
    "    # --- Calculate Recall@K ---\n",
    "    recall_at_k = relevant_in_top_k / len(true_liked_movies)\n",
    "    recall_scores.append(recall_at_k)\n",
    "    \n",
    "    # --- Calculate NDCG@K ---\n",
    "    dcg = 0.0\n",
    "    for idx, movie_id in enumerate(top_k_movies):\n",
    "        if movie_id in true_liked_movies:\n",
    "            dcg += 1.0 / np.log2(idx + 2)  # +2 because index starts from 0\n",
    "    \n",
    "    # Ideal DCG (IDCG)\n",
    "    ideal_relevant = min(len(true_liked_movies), k)\n",
    "    idcg = sum(1.0 / np.log2(i + 2) for i in range(ideal_relevant))\n",
    "    \n",
    "    ndcg = dcg / idcg if idcg > 0 else 0.0\n",
    "    ndcg_scores.append(ndcg)\n",
    "\n",
    "# Final results\n",
    "average_precision = np.mean(precision_scores)\n",
    "average_recall = np.mean(recall_scores)\n",
    "average_ndcg = np.mean(ndcg_scores)\n",
    "\n",
    "print(f\"Average Precision@{k}: {average_precision:.4f}\")\n",
    "print(f\"Average Recall@{k}: {average_recall:.4f}\")\n",
    "print(f\"Average NDCG@{k}: {average_ndcg:.4f}\")\n"
   ]
  },
  {
   "cell_type": "markdown",
   "metadata": {},
   "source": [
    " \n",
    "1. Precision@K (quick reminder)\n",
    "Imagine you recommend 5 movies (K=5).\n",
    "Out of those, the user actually likes 3 movies.\n",
    "•\tPrecision@5 = (3 liked) / (5 recommended) = 0.6\n",
    "It measures:\n",
    "\"Out of what I recommended, how much was good?\"\n",
    " \n",
    "2. Recall@K\n",
    "Now imagine the user loves 10 movies in total (out of the full catalog), but you only recommended 5 movies.\n",
    "You recommended 3 of those 10 favorite movies.\n",
    "•\tRecall@5 = (3 liked) / (10 possible liked) = 0.3\n",
    "So recall measures:\n",
    "\"Out of all the things the user could have liked, how many did I show them?\"\n",
    "In simple words:\n",
    "•\tPrecision asks: \"Was what I recommended good?\"\n",
    "•\tRecall asks: \"Did I miss anything the user would have liked?\"\n",
    " \n",
    "3. NDCG@K (Normalized Discounted Cumulative Gain)\n",
    "This is a little fancier, but extremely important for ranking.\n",
    "NDCG@K measures:\n",
    "•\tNot just what you recommended,\n",
    "•\tbut whether you ranked the best stuff at the top.\n",
    "Because in real apps (Netflix, Amazon, Spotify...),\n",
    "users only see the first few recommendations.\n",
    "If you recommend their favorite movie at position #1, that's awesome.\n",
    "If it's hidden at position #10, that's worse.\n",
    "NDCG gives bonus points for ranking good movies higher.\n"
   ]
  },
  {
   "cell_type": "markdown",
   "metadata": {},
   "source": [
    "Now that we have established some new metrics, we will plot the differences in metrics acorss different initial ratings"
   ]
  },
  {
   "cell_type": "code",
   "execution_count": 33,
   "metadata": {},
   "outputs": [
    {
     "data": {
      "image/png": "[encoded data removed]",
      "text/plain": [
       "<Figure size 1200x600 with 1 Axes>"
      ]
     },
     "metadata": {},
     "output_type": "display_data"
    }
   ],
   "source": [
    "# Get all users\n",
    "user_rating_counts = ratings['userId'].value_counts()\n",
    "eligible_users = user_rating_counts[user_rating_counts >= 30].index.tolist()\n",
    "sampled_users = random.sample(eligible_users, 100)  # Pick users with at least 30 ratings\n",
    "\n",
    "k = 10  # Top 10 recommendations\n",
    "\n",
    "# Different numbers of known ratings to test\n",
    "known_ratings_list = [5, 10, 20, 30]\n",
    "\n",
    "# To store results\n",
    "precision_at_k_all = []\n",
    "recall_at_k_all = []\n",
    "ndcg_at_k_all = []\n",
    "\n",
    "for known_ratings_size in known_ratings_list:\n",
    "    precision_scores = []\n",
    "    recall_scores = []\n",
    "    ndcg_scores = []\n",
    "    \n",
    "    for user_id in sampled_users:\n",
    "        user_ratings = ratings[ratings['userId'] == user_id]\n",
    "        \n",
    "        if len(user_ratings) < known_ratings_size + 1:\n",
    "            continue  # Skip if not enough ratings\n",
    "        \n",
    "        known_ratings = user_ratings.sample(known_ratings_size, random_state=42)\n",
    "        known_movies = set(known_ratings['movieId'])\n",
    "        \n",
    "        all_movies = set(ratings['movieId'].unique())\n",
    "        unseen_movies = list(all_movies - known_movies)\n",
    "        \n",
    "        predictions = [ (movie_id, algo.predict(user_id, movie_id).est) for movie_id in unseen_movies ]\n",
    "        predictions.sort(key=lambda x: x[1], reverse=True)\n",
    "        \n",
    "        top_k_movies = [movie_id for movie_id, _ in predictions[:k]]\n",
    "        \n",
    "        true_liked_movies = user_ratings[user_ratings['rating'] >= 4.0]['movieId'].tolist()\n",
    "        \n",
    "        if not true_liked_movies:\n",
    "            continue\n",
    "        \n",
    "        relevant_in_top_k = sum([1 for movie_id in top_k_movies if movie_id in true_liked_movies])\n",
    "        \n",
    "        # Precision@K\n",
    "        precision_at_k = relevant_in_top_k / k\n",
    "        precision_scores.append(precision_at_k)\n",
    "        \n",
    "        # Recall@K\n",
    "        recall_at_k = relevant_in_top_k / len(true_liked_movies)\n",
    "        recall_scores.append(recall_at_k)\n",
    "        \n",
    "        # NDCG@K\n",
    "        dcg = 0.0\n",
    "        for idx, movie_id in enumerate(top_k_movies):\n",
    "            if movie_id in true_liked_movies:\n",
    "                dcg += 1.0 / np.log2(idx + 2)\n",
    "        \n",
    "        ideal_relevant = min(len(true_liked_movies), k)\n",
    "        idcg = sum(1.0 / np.log2(i + 2) for i in range(ideal_relevant))\n",
    "        ndcg = dcg / idcg if idcg > 0 else 0.0\n",
    "        ndcg_scores.append(ndcg)\n",
    "    \n",
    "    # Average over users\n",
    "    precision_at_k_all.append(np.mean(precision_scores))\n",
    "    recall_at_k_all.append(np.mean(recall_scores))\n",
    "    ndcg_at_k_all.append(np.mean(ndcg_scores))\n",
    "\n",
    "# --- Now, plot everything ---\n",
    "\n",
    "plt.figure(figsize=(12, 6))\n",
    "\n",
    "plt.plot(known_ratings_list, precision_at_k_all, marker='o', label='Precision@K')\n",
    "plt.plot(known_ratings_list, recall_at_k_all, marker='s', label='Recall@K')\n",
    "plt.plot(known_ratings_list, ndcg_at_k_all, marker='^', label='NDCG@K')\n",
    "\n",
    "plt.title('Recommendation Quality vs Number of Known Ratings')\n",
    "plt.xlabel('Number of Known Ratings')\n",
    "plt.ylabel('Score')\n",
    "plt.ylim(0, 1)\n",
    "plt.legend()\n",
    "plt.grid(True)\n",
    "plt.show()\n"
   ]
  },
  {
   "cell_type": "markdown",
   "metadata": {},
   "source": [
    "We can see that acorss all metrics, that more ratings do not give much better results.  "
   ]
  }
 ],
 "metadata": {
  "kernelspec": {
   "display_name": "movie_recommender_3",
   "language": "python",
   "name": "python3"
  },
  "language_info": {
   "codemirror_mode": {
    "name": "ipython",
    "version": 3
   },
   "file_extension": ".py",
   "mimetype": "text/x-python",
   "name": "python",
   "nbconvert_exporter": "python",
   "pygments_lexer": "ipython3",
   "version": "3.10.13"
  }
 },
 "nbformat": 4,
 "nbformat_minor": 2
}
