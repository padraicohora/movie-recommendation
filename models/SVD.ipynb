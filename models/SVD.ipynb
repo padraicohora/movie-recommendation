{
 "cells": [
  {
   "cell_type": "markdown",
   "metadata": {},
   "source": [
    "Here I will try out the matrix factorisation algorythms. For this I will use the [Surprize Python package](https://surprise.readthedocs.io/). \n",
    "\n",
    "First I will try out the In package Movielens datasets, as per the tutorial in the package website."
   ]
  },
  {
   "cell_type": "code",
   "execution_count": 110,
   "metadata": {},
   "outputs": [],
   "source": [
    "import pandas as pd\n",
    "import numpy as np\n",
    "import random\n",
    "import matplotlib.pyplot as plt\n",
    "# import os\n",
    "from surprise import BaselineOnly, Dataset, Reader, SVD, NMF, accuracy, PredictionImpossible, KNNWithMeans, KNNBasic\n",
    "from surprise.model_selection import cross_validate, train_test_split, GridSearchCV, PredefinedKFold\n",
    "from surprise.model_selection.split import LeaveOneOut\n",
    "from sklearn.cluster import KMeans\n",
    "from sklearn.metrics.pairwise import cosine_similarity\n",
    "from sklearn.metrics import mean_squared_error, mean_absolute_error\n",
    "from sklearn.impute import SimpleImputer\n",
    "from collections import defaultdict\n",
    "import pandas as pd\n",
    "import tempfile\n"
   ]
  },
  {
   "cell_type": "code",
   "execution_count": 111,
   "metadata": {},
   "outputs": [],
   "source": [
    "# column_names = ['userId', 'movieId', 'rating', 'timestamp']\n",
    "\n",
    "# data_100k = pd.read_csv('../ml-100k/u.ratings', sep=\"\\t\", names=column_names)\n",
    "\n",
    "# reader = Reader(rating_scale=(1, 5))\n",
    "\n",
    "# subset_test = data_100k[['userId', 'movieId', 'rating']]\n",
    "\n",
    "# _100k_data = Dataset.load_from_df(subset_test, reader)\n",
    "\n",
    "# print(_100k_data)"
   ]
  },
  {
   "cell_type": "code",
   "execution_count": 112,
   "metadata": {},
   "outputs": [
    {
     "name": "stdout",
     "output_type": "stream",
     "text": [
      "<surprise.dataset.DatasetAutoFolds object at 0x302697fa0>\n"
     ]
    }
   ],
   "source": [
    "\n",
    "np.random.seed(42)\n",
    "\n",
    "column_names = ['userId', 'movieId', 'rating', 'timestamp']\n",
    "\n",
    "ratings = pd.read_csv('../ml-100k/u.data', sep='\\t', names=column_names)\n",
    "\n",
    "reader = Reader(rating_scale=(1, 5))\n",
    "\n",
    "subset = ratings[['userId', 'movieId', 'rating']]\n",
    "subset = subset.iloc[1:]\n",
    "subset[\"rating\"] = subset[\"rating\"].astype(float)\n",
    "\n",
    "custom_data = Dataset.load_from_df(subset, reader)\n",
    "\n",
    "print(custom_data)"
   ]
  },
  {
   "cell_type": "code",
   "execution_count": 146,
   "metadata": {},
   "outputs": [
    {
     "name": "stdout",
     "output_type": "stream",
     "text": [
      "Empty DataFrame\n",
      "Columns: [movieId, item_title, release_date, release_date_2, url, IMDb URL, Action, Adventure, Animation, Children, Comedy, Crime, Documentary, Drama, Fantasy, Film-Noir, Horror, Musical, Mystery, Romance, Sci-Fi, Thriller, War, Western]\n",
      "Index: []\n",
      "\n",
      "[0 rows x 24 columns]\n"
     ]
    }
   ],
   "source": [
    "movie_data_column_names = ['movieId', 'item_title', 'release_date', 'release_date_2', \"url\", \n",
    "                           \"IMDb URL\" ,'Action', 'Adventure', 'Animation', 'Children', 'Comedy', \n",
    "                           'Crime', 'Documentary', 'Drama', 'Fantasy', 'Film-Noir', 'Horror', \n",
    "                           'Musical', 'Mystery', 'Romance', 'Sci-Fi', 'Thriller', 'War', 'Western']\n",
    "movies = pd.read_csv('../ml-100k/u.item', sep='|',  encoding='ISO-8859-1', names=movie_data_column_names)\n",
    "# movies = movies.iloc[:, 0:2]\n",
    "# movies.columns = ['movieId', 'item_title']\n",
    "\n",
    "# Check for duplicate 'item' IDs\n",
    "duplicate_items = movies[movies.duplicated(subset='movieId', keep=False)]\n",
    "\n",
    "# Display the duplicates\n",
    "print(duplicate_items)"
   ]
  },
  {
   "cell_type": "code",
   "execution_count": 114,
   "metadata": {},
   "outputs": [
    {
     "data": {
      "text/plain": [
       "<surprise.prediction_algorithms.matrix_factorization.SVD at 0x334b407c0>"
      ]
     },
     "execution_count": 114,
     "metadata": {},
     "output_type": "execute_result"
    }
   ],
   "source": [
    "# Train-test split\n",
    "trainset, testset = train_test_split(custom_data, test_size=0.2)\n",
    "\n",
    "# Train the SVD model\n",
    "algo = SVD()\n",
    "algo.fit(trainset)"
   ]
  },
  {
   "cell_type": "markdown",
   "metadata": {},
   "source": [
    "Use SVD model to recommend movies for new users (people who have rated at least 10 movies) and based on that, predict what other movies they would likely enjoy. "
   ]
  },
  {
   "cell_type": "markdown",
   "metadata": {},
   "source": [
    "First I will do a dummy run through as a proof of concept"
   ]
  },
  {
   "cell_type": "code",
   "execution_count": 115,
   "metadata": {},
   "outputs": [
    {
     "name": "stdout",
     "output_type": "stream",
     "text": [
      "User: []\n",
      "User movies: []\n",
      "Position: 0, Movie: Cinema Paradiso (1988), Predicted rating: 4.581708391298929\n",
      "Position: 1, Movie: Everyone Says I Love You (1996), Predicted rating: 4.580530269390127\n",
      "Position: 2, Movie: What's Eating Gilbert Grape (1993), Predicted rating: 4.573436263451\n",
      "Position: 3, Movie: Maltese Falcon, The (1941), Predicted rating: 4.552318344422202\n",
      "Position: 4, Movie: Jack (1996), Predicted rating: 4.528909891186977\n",
      "Position: 5, Movie: Annie Hall (1977), Predicted rating: 4.455029958631393\n",
      "Position: 6, Movie: Mighty Aphrodite (1995), Predicted rating: 4.44071242515515\n",
      "Position: 7, Movie: Haunted World of Edward D. Wood Jr., The (1995), Predicted rating: 4.417475584056654\n",
      "Position: 8, Movie: It Happened One Night (1934), Predicted rating: 4.412549289235366\n",
      "Position: 9, Movie: Apartment, The (1960), Predicted rating: 4.406388337899761\n"
     ]
    }
   ],
   "source": [
    "\n",
    "\n",
    "# Predict for a new user\n",
    "# Suppose you have userId = 12345 who rated 10 movies\n",
    "# Now predict ratings for movies they have NOT rated\n",
    "all_movie_ids = ratings['movieId'].unique()\n",
    "rated_movies = ratings[ratings['userId'] == 12345]['movieId'].tolist()\n",
    "print(f\"User: {rated_movies}\")\n",
    "print(f\"User movies: {rated_movies}\")\n",
    "\n",
    "movies_to_predict = [movie for movie in all_movie_ids if movie not in rated_movies]\n",
    "\n",
    "# Make predictions\n",
    "predictions = []\n",
    "for movie_id in movies_to_predict:\n",
    "    pred = algo.predict(12345, movie_id)\n",
    "    predictions.append((movie_id, pred.est))\n",
    "\n",
    "# Sort predictions by estimated rating\n",
    "predictions.sort(key=lambda x: x[1], reverse=True)\n",
    "\n",
    "# Recommend top 10 movies\n",
    "top_10 = predictions[:10]\n",
    "\n",
    "for index, (integer_value, float_value) in enumerate(top_10):\n",
    "    movie_title = movies.loc[integer_value, 'item_title']\n",
    "    print(f\"Position: {index}, Movie: {movie_title}, Predicted rating: {float_value}\")\n",
    "    "
   ]
  },
  {
   "cell_type": "markdown",
   "metadata": {},
   "source": [
    "Next, I will try with a known user, with at least 20 ratings. I will use userId 42, who has more than 20 ratings in the dataset. I will randomly select 10 of those ratings to simulate the \"user with 10 ratings\" situation. Then, I will use the SVD model to predict ratings for the remaining movies that the user has not yet rated. Next, I will recommend the top 10 movies based on the predicted ratings. Since we already know the users full ratings, we can the test our predictions against the he actual ratings. This will give us an idea of how accurate our recommendations are. \n",
    "\n",
    "###RMSE (Root Mean Squared Error):\n",
    "•\tRMSE measures how close the predicted ratings are to the real ratings.\n",
    "•\tIt's a \"regression\" metric.\n",
    "•\tExample:\n",
    "o\tTrue rating = 4.0\n",
    "o\tPredicted rating = 3.5\n",
    "o\tError = 0.5\n",
    "•\tRMSE gives you the \"average size of the errors\" across many predictions.\n",
    "•\tLower RMSE is better (closer to real ratings).\n"
   ]
  },
  {
   "cell_type": "code",
   "execution_count": 116,
   "metadata": {},
   "outputs": [
    {
     "name": "stdout",
     "output_type": "stream",
     "text": [
      "User 42 has rated 183 movies.\n",
      "Known Movies: [1045, 142, 97, 655, 234, 939, 720, 443, 685, 521]\n",
      "Hidden Movies:        userId  movieId  rating  timestamp\n",
      "19661      42      276       1  881105405\n",
      "18428      42      413       1  881106072\n",
      "70653      42     1048       1  881106220\n",
      "73843      42      111       1  881105931\n",
      "70257      42      595       1  881106582\n",
      "...       ...      ...     ...        ...\n",
      "15383      42      215       5  881107413\n",
      "15339      42      496       5  881107718\n",
      "15338      42      194       5  881107329\n",
      "20548      42        1       5  881105633\n",
      "18663      42       77       5  881108684\n",
      "\n",
      "[173 rows x 4 columns]\n",
      "testset user [(42, 276, 1), (42, 413, 1), (42, 1048, 1), (42, 111, 1), (42, 595, 1), (42, 219, 1), (42, 834, 1), (42, 1043, 2), (42, 679, 2), (42, 559, 2), (42, 43, 2), (42, 131, 2), (42, 451, 2), (42, 627, 2), (42, 433, 2), (42, 658, 2), (42, 367, 2), (42, 462, 2), (42, 977, 2), (42, 953, 2), (42, 175, 2), (42, 103, 3), (42, 428, 3), (42, 826, 3), (42, 409, 3), (42, 1040, 3), (42, 1050, 3), (42, 926, 3), (42, 86, 3), (42, 410, 3), (42, 1049, 3), (42, 38, 3), (42, 283, 3), (42, 467, 3), (42, 284, 3), (42, 924, 3), (42, 582, 3), (42, 273, 3), (42, 1042, 3), (42, 729, 3), (42, 290, 3), (42, 387, 3), (42, 491, 3), (42, 265, 3), (42, 660, 3), (42, 1046, 3), (42, 72, 3), (42, 141, 3), (42, 432, 3), (42, 625, 3), (42, 70, 3), (42, 44, 3), (42, 168, 3), (42, 746, 3), (42, 176, 3), (42, 25, 3), (42, 546, 3), (42, 281, 3), (42, 506, 3), (42, 456, 3), (42, 606, 3), (42, 403, 3), (42, 794, 3), (42, 684, 4), (42, 69, 4), (42, 603, 4), (42, 229, 4), (42, 469, 4), (42, 185, 4), (42, 83, 4), (42, 228, 4), (42, 735, 4), (42, 54, 4), (42, 934, 4), (42, 211, 4), (42, 125, 4), (42, 468, 4), (42, 227, 4), (42, 87, 4), (42, 135, 4), (42, 203, 4), (42, 66, 4), (42, 294, 4), (42, 411, 4), (42, 237, 4), (42, 1028, 4), (42, 471, 4), (42, 369, 4), (42, 15, 4), (42, 161, 4), (42, 98, 4), (42, 151, 4), (42, 1041, 4), (42, 121, 4), (42, 1047, 4), (42, 12, 4), (42, 82, 4), (42, 925, 4), (42, 222, 4), (42, 1051, 4), (42, 1044, 4), (42, 692, 4), (42, 183, 4), (42, 73, 4), (42, 280, 4), (42, 380, 4), (42, 781, 4), (42, 427, 4), (42, 71, 4), (42, 742, 4), (42, 941, 4), (42, 785, 4), (42, 371, 4), (42, 568, 4), (42, 866, 4), (42, 591, 4), (42, 143, 4), (42, 136, 4), (42, 999, 4), (42, 405, 4), (42, 282, 4), (42, 479, 4), (42, 755, 4), (42, 118, 4), (42, 63, 4), (42, 2, 5), (42, 174, 5), (42, 132, 5), (42, 969, 5), (42, 181, 5), (42, 318, 5), (42, 50, 5), (42, 523, 5), (42, 423, 5), (42, 64, 5), (42, 736, 5), (42, 418, 5), (42, 28, 5), (42, 88, 5), (42, 99, 5), (42, 404, 5), (42, 204, 5), (42, 79, 5), (42, 357, 5), (42, 210, 5), (42, 102, 5), (42, 48, 5), (42, 195, 5), (42, 588, 5), (42, 274, 5), (42, 96, 5), (42, 845, 5), (42, 239, 5), (42, 732, 5), (42, 172, 5), (42, 419, 5), (42, 402, 5), (42, 501, 5), (42, 202, 5), (42, 58, 5), (42, 756, 5), (42, 385, 5), (42, 196, 5), (42, 173, 5), (42, 230, 5), (42, 95, 5), (42, 216, 5), (42, 566, 5), (42, 215, 5), (42, 496, 5), (42, 194, 5), (42, 1, 5), (42, 77, 5)]\n",
      "RMSE: 0.7508\n",
      "RMSE for user 42 with only 10 ratings: 0.7507807798018021\n"
     ]
    }
   ],
   "source": [
    "# Simulate the \"user with 10 ratings\" situation\n",
    "userId = 42\n",
    "user_ratings = ratings[ratings['userId'] == userId]\n",
    "\n",
    "print(f\"User {userId} has rated {len(user_ratings)} movies.\")\n",
    "# Only if the user has enough ratings\n",
    "if len(user_ratings) >= 20:\n",
    "    # Randomly select 10 known ratings from simualted user\n",
    "    known_ratings = user_ratings.sample(10)\n",
    "    known_movies = known_ratings['movieId'].tolist()\n",
    "    print(f\"Known Movies: {known_movies}\")\n",
    "    \n",
    "    # The rest are the hidden \"test\" ratings\n",
    "    hidden_ratings = user_ratings[~user_ratings['movieId'].isin(known_movies)]\n",
    "    hidden_ratings = hidden_ratings.sort_values(by=\"rating\")\n",
    "    print(f\"Hidden Movies: {hidden_ratings}\")\n",
    "\n",
    "    # Now, imagine training the model ONLY with the 10 ratings for this user.\n",
    "    # Since we can't re-train, we simulate by making predictions anyway.\n",
    "    \n",
    "    # Make predictions for the hidden movies\n",
    "    testset_user = [\n",
    "        (userId, movie_id, true_rating) for movie_id, true_rating in zip(\n",
    "            hidden_ratings['movieId'], \n",
    "            hidden_ratings['rating']\n",
    "            )]\n",
    "    print(f\"testset user {testset_user}\")\n",
    "    predictions = algo.test(testset_user)\n",
    "\n",
    "    # Calculate RMSE or other metrics\n",
    "    rmse = accuracy.rmse(predictions)\n",
    "    print(f\"RMSE for user {userId} with only 10 ratings: {rmse}\")\n"
   ]
  },
  {
   "cell_type": "markdown",
   "metadata": {},
   "source": [
    "I have just performed a test on one user out of the dataset where the user has only predicted 10 movies. The RMSE for this user is 0.7659. This means that the model's predictions are, on average, 0.7659 units away from the actual ratings. This is a relatively high error, which suggests that the model may not be very accurate for this user. However, it's important to note that this is just one user and the model may perform better for other users.\n",
    "\n",
    "Next, we will perform the same prediction test with a larger sample of users. "
   ]
  },
  {
   "cell_type": "code",
   "execution_count": 117,
   "metadata": {},
   "outputs": [
    {
     "name": "stdout",
     "output_type": "stream",
     "text": [
      "Eligible users 943\n",
      "Average RMSE across 100 users with only 10 ratings: 0.7339249911396977\n"
     ]
    }
   ],
   "source": [
    "# Find users with at least 20 ratings\n",
    "user_rating_counts = ratings['userId'].value_counts()\n",
    "eligible_users = user_rating_counts[user_rating_counts >= 20].index.tolist()\n",
    "\n",
    "print(f\"Eligible users {len(eligible_users)}\")\n",
    "\n",
    "# We'll sample (say) 100 users to test\n",
    "sampled_users = random.sample(eligible_users, 100)\n",
    "\n",
    "user_rmse_scores = []\n",
    "\n",
    "for userId in sampled_users:\n",
    "    user_ratings = ratings[ratings['userId'] == userId]\n",
    "\n",
    "    # Select 10 known ratings\n",
    "    known_ratings = user_ratings.sample(10, random_state=42)\n",
    "    known_movies = known_ratings['movieId'].tolist()\n",
    "    \n",
    "    # Hidden ratings\n",
    "    hidden_ratings = user_ratings[~user_ratings['movieId'].isin(known_movies)]\n",
    "    \n",
    "    if hidden_ratings.empty:\n",
    "        continue  # Skip if no hidden ratings (shouldn't happen but just in case)\n",
    "\n",
    "    # Create a testset for this user: predict for hidden movies\n",
    "    testset_user = [(userId, movieId, true_rating) for movieId, true_rating in zip(hidden_ratings['movieId'], hidden_ratings['rating'])]\n",
    "\n",
    "    predictions = algo.test(testset_user)\n",
    "    \n",
    "    # Calculate RMSE for this user\n",
    "    rmse = accuracy.rmse(predictions, verbose=False)\n",
    "    user_rmse_scores.append(rmse)\n",
    "\n",
    "# Now calculate overall average RMSE\n",
    "average_rmse = np.mean(user_rmse_scores)\n",
    "print(f\"Average RMSE across {len(user_rmse_scores)} users with only 10 ratings: {average_rmse}\")\n"
   ]
  },
  {
   "cell_type": "markdown",
   "metadata": {},
   "source": [
    "The RMSE across 100 users is with only 10 ratings is 0.7341. The error has decreased ed slightly compared to the previous test with a single user. This suggests that the model is more accurate when predicting for a larger sample of users. However, it's important to note that this is still a relatively high error, which suggests that the model may not be very accurate for users with only a few ratings.\n",
    "\n",
    "Next, we can test if the RMSE goes down to a lower value when we increase the number of ratings to 20. I will also test with other amounts of ratings to see if there is a pattern."
   ]
  },
  {
   "cell_type": "code",
   "execution_count": 118,
   "metadata": {},
   "outputs": [
    {
     "name": "stdout",
     "output_type": "stream",
     "text": [
      "Known ratings: 5 -> Average RMSE: 0.7344\n",
      "Known ratings: 10 -> Average RMSE: 0.7346\n",
      "Known ratings: 20 -> Average RMSE: 0.7328\n",
      "Known ratings: 30 -> Average RMSE: 0.7320\n",
      "Known ratings: 40 -> Average RMSE: 0.7310\n"
     ]
    }
   ],
   "source": [
    "# Find users with at least 50 ratings\n",
    "user_rating_counts = ratings['userId'].value_counts()\n",
    "eligible_users = user_rating_counts[user_rating_counts >= 50].index.tolist()\n",
    "\n",
    "# Sample 100 users\n",
    "sampled_users = random.sample(eligible_users, 100)\n",
    "\n",
    "# Different number of known ratings to test\n",
    "known_ratings_list = [5, 10, 20, 30, 40]\n",
    "\n",
    "rmse_results = []\n",
    "\n",
    "for num_known in known_ratings_list:\n",
    "    user_rmse_scores = []\n",
    "    \n",
    "    for userId in sampled_users:\n",
    "        user_ratings = ratings[ratings['userId'] == userId]\n",
    "        \n",
    "        if len(user_ratings) < num_known + 5:  # Make sure there's enough hidden ratings\n",
    "            continue\n",
    "        \n",
    "        known_ratings = user_ratings.sample(num_known, random_state=42)\n",
    "        known_movies = known_ratings['movieId'].tolist()\n",
    "        \n",
    "        hidden_ratings = user_ratings[~user_ratings['movieId'].isin(known_movies)]\n",
    "        \n",
    "        if hidden_ratings.empty:\n",
    "            continue\n",
    "\n",
    "        testset_user = [(userId, movie_id, true_rating) for movie_id, true_rating in zip(hidden_ratings['movieId'], hidden_ratings['rating'])]\n",
    "\n",
    "        predictions = algo.test(testset_user)\n",
    "        \n",
    "        rmse = accuracy.rmse(predictions, verbose=False)\n",
    "        user_rmse_scores.append(rmse)\n",
    "    \n",
    "    # Average RMSE for this number of known ratings\n",
    "    avg_rmse = np.mean(user_rmse_scores)\n",
    "    rmse_results.append(avg_rmse)\n",
    "    print(f\"Known ratings: {num_known} -> Average RMSE: {avg_rmse:.4f}\")\n",
    "\n",
    "\n"
   ]
  },
  {
   "cell_type": "markdown",
   "metadata": {},
   "source": [
    "Plot the above findings "
   ]
  },
  {
   "cell_type": "code",
   "execution_count": 119,
   "metadata": {},
   "outputs": [
    {
     "data": {
      "image/png": "[encoded data removed]",
      "text/plain": [
       "<Figure size 1000x600 with 1 Axes>"
      ]
     },
     "metadata": {},
     "output_type": "display_data"
    }
   ],
   "source": [
    "# Plotting\n",
    "plt.figure(figsize=(10,6))\n",
    "plt.plot(known_ratings_list, rmse_results, marker='o')\n",
    "plt.title('RMSE vs Number of Known Ratings')\n",
    "plt.xlabel('Number of Known Ratings')\n",
    "plt.ylabel('Average RMSE')\n",
    "plt.grid(True)\n",
    "plt.show()"
   ]
  },
  {
   "cell_type": "markdown",
   "metadata": {},
   "source": [
    "this is a very interesting chart, as it shows that error does not go down that much, even when the user has rated as many as 40 movies, when compared to a user who has only rated 5 movies \n",
    "\n",
    "Next I will create a svd recommender that tests the models precision@k rather than RMSE"
   ]
  },
  {
   "cell_type": "code",
   "execution_count": 120,
   "metadata": {},
   "outputs": [
    {
     "name": "stdout",
     "output_type": "stream",
     "text": [
      "Average Precision@10: 0.3030\n"
     ]
    }
   ],
   "source": [
    "# Get all users\n",
    "all_users = ratings['userId'].unique()\n",
    "\n",
    "# Sample 100 users who have rated a lot\n",
    "user_rating_counts = ratings['userId'].value_counts()\n",
    "eligible_users = user_rating_counts[user_rating_counts >= 20].index.tolist()\n",
    "sampled_users = random.sample(eligible_users, 100)\n",
    "\n",
    "k = 10  # Top 10 recommendations\n",
    "\n",
    "precision_scores = []\n",
    "\n",
    "for user_id in sampled_users:\n",
    "    user_ratings = ratings[ratings['userId'] == user_id]\n",
    "    \n",
    "    # Simulate that we only know a few ratings\n",
    "    known_ratings = user_ratings.sample(10, random_state=42)\n",
    "    known_movies = set(known_ratings['movieId'])\n",
    "    \n",
    "    # Candidate movies: everything except what user has already rated\n",
    "    all_movies = set(ratings['movieId'].unique())\n",
    "    unseen_movies = list(all_movies - known_movies)\n",
    "    \n",
    "    # Predict ratings for unseen movies\n",
    "    predictions = [ (movie_id, algo.predict(user_id, movie_id).est) for movie_id in unseen_movies ]\n",
    "    \n",
    "    # Sort movies by predicted rating, highest first\n",
    "    predictions.sort(key=lambda x: x[1], reverse=True)\n",
    "    \n",
    "    # Take top-k movies\n",
    "    top_k_movies = [movie_id for movie_id, _ in predictions[:k]]\n",
    "    \n",
    "    # What are the movies the user *actually liked* (rated 4.0 or higher)?\n",
    "    true_liked_movies = user_ratings[user_ratings['rating'] >= 4.0]['movieId'].tolist()\n",
    "    \n",
    "    if not true_liked_movies:\n",
    "        continue  # Skip user if they have no strong likes\n",
    "\n",
    "    # Calculate Precision@K\n",
    "    relevant_in_top_k = sum([1 for movie_id in top_k_movies if movie_id in true_liked_movies])\n",
    "    precision_at_k = relevant_in_top_k / k\n",
    "    precision_scores.append(precision_at_k)\n",
    "\n",
    "# Final Precision@K\n",
    "average_precision = np.mean(precision_scores)\n",
    "print(f\"Average Precision@{k}: {average_precision:.4f}\")\n"
   ]
  },
  {
   "cell_type": "markdown",
   "metadata": {},
   "source": [
    "next we will calculate the following metrics: Precision@k, Recall@K, NDCG@K"
   ]
  },
  {
   "cell_type": "code",
   "execution_count": 121,
   "metadata": {},
   "outputs": [
    {
     "name": "stdout",
     "output_type": "stream",
     "text": [
      "Average Precision@10: 0.3260\n",
      "Average Recall@10: 0.0503\n",
      "Average NDCG@10: 0.3396\n"
     ]
    }
   ],
   "source": [
    "# Get all users\n",
    "all_users = ratings['userId'].unique()\n",
    "\n",
    "# Sample 100 users who have rated enough\n",
    "user_rating_counts = ratings['userId'].value_counts()\n",
    "eligible_users = user_rating_counts[user_rating_counts >= 20].index.tolist()\n",
    "sampled_users = random.sample(eligible_users, 100)\n",
    "\n",
    "k = 10  # Top 10 recommendations\n",
    "\n",
    "precision_scores = []\n",
    "recall_scores = []\n",
    "ndcg_scores = []\n",
    "\n",
    "for user_id in sampled_users:\n",
    "    user_ratings = ratings[ratings['userId'] == user_id]\n",
    "    \n",
    "    # Simulate 10 known ratings\n",
    "    known_ratings = user_ratings.sample(10, random_state=42)\n",
    "    known_movies = set(known_ratings['movieId'])\n",
    "    \n",
    "    # Candidate movies: unseen\n",
    "    all_movies = set(ratings['movieId'].unique())\n",
    "    unseen_movies = list(all_movies - known_movies)\n",
    "    \n",
    "    # Predict ratings for unseen movies\n",
    "    predictions = [ (movie_id, algo.predict(user_id, movie_id).est) for movie_id in unseen_movies ]\n",
    "    predictions.sort(key=lambda x: x[1], reverse=True)\n",
    "    \n",
    "    # Top-K recommended movies\n",
    "    top_k_movies = [movie_id for movie_id, _ in predictions[:k]]\n",
    "    \n",
    "    # Movies the user actually liked (rating >= 4)\n",
    "    true_liked_movies = user_ratings[user_ratings['rating'] >= 4.0]['movieId'].tolist()\n",
    "    \n",
    "    if not true_liked_movies:\n",
    "        continue  # Skip user if no strong likes\n",
    "    \n",
    "    # --- Calculate Precision@K ---\n",
    "    relevant_in_top_k = sum([1 for movie_id in top_k_movies if movie_id in true_liked_movies])\n",
    "    precision_at_k = relevant_in_top_k / k\n",
    "    precision_scores.append(precision_at_k)\n",
    "    \n",
    "    # --- Calculate Recall@K ---\n",
    "    recall_at_k = relevant_in_top_k / len(true_liked_movies)\n",
    "    recall_scores.append(recall_at_k)\n",
    "    \n",
    "    # --- Calculate NDCG@K ---\n",
    "    dcg = 0.0\n",
    "    for idx, movie_id in enumerate(top_k_movies):\n",
    "        if movie_id in true_liked_movies:\n",
    "            dcg += 1.0 / np.log2(idx + 2)  # +2 because index starts from 0\n",
    "    \n",
    "    # Ideal DCG (IDCG)\n",
    "    ideal_relevant = min(len(true_liked_movies), k)\n",
    "    idcg = sum(1.0 / np.log2(i + 2) for i in range(ideal_relevant))\n",
    "    \n",
    "    ndcg = dcg / idcg if idcg > 0 else 0.0\n",
    "    ndcg_scores.append(ndcg)\n",
    "\n",
    "# Final results\n",
    "average_precision = np.mean(precision_scores)\n",
    "average_recall = np.mean(recall_scores)\n",
    "average_ndcg = np.mean(ndcg_scores)\n",
    "\n",
    "print(f\"Average Precision@{k}: {average_precision:.4f}\")\n",
    "print(f\"Average Recall@{k}: {average_recall:.4f}\")\n",
    "print(f\"Average NDCG@{k}: {average_ndcg:.4f}\")\n"
   ]
  },
  {
   "cell_type": "markdown",
   "metadata": {},
   "source": [
    " \n",
    "1. Precision@K (quick reminder)\n",
    "Imagine you recommend 5 movies (K=5).\n",
    "Out of those, the user actually likes 3 movies.\n",
    "•\tPrecision@5 = (3 liked) / (5 recommended) = 0.6\n",
    "It measures:\n",
    "\"Out of what I recommended, how much was good?\"\n",
    " \n",
    "2. Recall@K\n",
    "Now imagine the user loves 10 movies in total (out of the full catalog), but you only recommended 5 movies.\n",
    "You recommended 3 of those 10 favorite movies.\n",
    "•\tRecall@5 = (3 liked) / (10 possible liked) = 0.3\n",
    "So recall measures:\n",
    "\"Out of all the things the user could have liked, how many did I show them?\"\n",
    "In simple words:\n",
    "•\tPrecision asks: \"Was what I recommended good?\"\n",
    "•\tRecall asks: \"Did I miss anything the user would have liked?\"\n",
    " \n",
    "3. NDCG@K (Normalized Discounted Cumulative Gain)\n",
    "This is a little fancier, but extremely important for ranking.\n",
    "NDCG@K measures:\n",
    "•\tNot just what you recommended,\n",
    "•\tbut whether you ranked the best stuff at the top.\n",
    "Because in real apps (Netflix, Amazon, Spotify...),\n",
    "users only see the first few recommendations.\n",
    "If you recommend their favorite movie at position #1, that's awesome.\n",
    "If it's hidden at position #10, that's worse.\n",
    "NDCG gives bonus points for ranking good movies higher.\n"
   ]
  },
  {
   "cell_type": "markdown",
   "metadata": {},
   "source": [
    "Now that we have established some new metrics, we will plot the differences in metrics acorss different initial ratings"
   ]
  },
  {
   "cell_type": "code",
   "execution_count": 122,
   "metadata": {},
   "outputs": [
    {
     "data": {
      "image/png": "[encoded data removed]",
      "text/plain": [
       "<Figure size 1200x600 with 1 Axes>"
      ]
     },
     "metadata": {},
     "output_type": "display_data"
    }
   ],
   "source": [
    "# Get all users\n",
    "user_rating_counts = ratings['userId'].value_counts()\n",
    "eligible_users = user_rating_counts[user_rating_counts >= 30].index.tolist()\n",
    "sampled_users = random.sample(eligible_users, 100)  # Pick users with at least 30 ratings\n",
    "\n",
    "k = 10  # Top 10 recommendations\n",
    "\n",
    "# Different numbers of known ratings to test\n",
    "known_ratings_list = [5, 10, 20, 30]\n",
    "\n",
    "# To store results\n",
    "precision_at_k_all = []\n",
    "recall_at_k_all = []\n",
    "ndcg_at_k_all = []\n",
    "\n",
    "for known_ratings_size in known_ratings_list:\n",
    "    precision_scores = []\n",
    "    recall_scores = []\n",
    "    ndcg_scores = []\n",
    "    \n",
    "    for user_id in sampled_users:\n",
    "        user_ratings = ratings[ratings['userId'] == user_id]\n",
    "        \n",
    "        if len(user_ratings) < known_ratings_size + 1:\n",
    "            continue  # Skip if not enough ratings\n",
    "        \n",
    "        known_ratings = user_ratings.sample(known_ratings_size, random_state=42)\n",
    "        known_movies = set(known_ratings['movieId'])\n",
    "        \n",
    "        all_movies = set(ratings['movieId'].unique())\n",
    "        unseen_movies = list(all_movies - known_movies)\n",
    "        \n",
    "        predictions = [ (movie_id, algo.predict(user_id, movie_id).est) for movie_id in unseen_movies ]\n",
    "        predictions.sort(key=lambda x: x[1], reverse=True)\n",
    "        \n",
    "        top_k_movies = [movie_id for movie_id, _ in predictions[:k]]\n",
    "        \n",
    "        true_liked_movies = user_ratings[user_ratings['rating'] >= 4.0]['movieId'].tolist()\n",
    "        \n",
    "        if not true_liked_movies:\n",
    "            continue\n",
    "        \n",
    "        relevant_in_top_k = sum([1 for movie_id in top_k_movies if movie_id in true_liked_movies])\n",
    "        \n",
    "        # Precision@K\n",
    "        precision_at_k = relevant_in_top_k / k\n",
    "        precision_scores.append(precision_at_k)\n",
    "        \n",
    "        # Recall@K\n",
    "        recall_at_k = relevant_in_top_k / len(true_liked_movies)\n",
    "        recall_scores.append(recall_at_k)\n",
    "        \n",
    "        # NDCG@K\n",
    "        dcg = 0.0\n",
    "        for idx, movie_id in enumerate(top_k_movies):\n",
    "            if movie_id in true_liked_movies:\n",
    "                dcg += 1.0 / np.log2(idx + 2)\n",
    "        \n",
    "        ideal_relevant = min(len(true_liked_movies), k)\n",
    "        idcg = sum(1.0 / np.log2(i + 2) for i in range(ideal_relevant))\n",
    "        ndcg = dcg / idcg if idcg > 0 else 0.0\n",
    "        ndcg_scores.append(ndcg)\n",
    "    \n",
    "    # Average over users\n",
    "    precision_at_k_all.append(np.mean(precision_scores))\n",
    "    recall_at_k_all.append(np.mean(recall_scores))\n",
    "    ndcg_at_k_all.append(np.mean(ndcg_scores))\n",
    "\n",
    "# --- Now, plot everything ---\n",
    "\n",
    "plt.figure(figsize=(12, 6))\n",
    "\n",
    "plt.plot(known_ratings_list, precision_at_k_all, marker='o', label='Precision@K')\n",
    "plt.plot(known_ratings_list, recall_at_k_all, marker='s', label='Recall@K')\n",
    "plt.plot(known_ratings_list, ndcg_at_k_all, marker='^', label='NDCG@K')\n",
    "\n",
    "plt.title('Recommendation Quality vs Number of Known Ratings')\n",
    "plt.xlabel('Number of Known Ratings')\n",
    "plt.ylabel('Score')\n",
    "plt.ylim(0, 1)\n",
    "plt.legend()\n",
    "plt.grid(True)\n",
    "plt.show()\n"
   ]
  },
  {
   "cell_type": "markdown",
   "metadata": {},
   "source": [
    "We can see that acorss all metrics, that more ratings do not give much better results.  \n",
    "\n",
    "Next, I will perform a cold-start train/test a larger amount of data. This will use a 80/20 train-test split, but the prediction data will need to be refined to simualte cold start problem. \n",
    "\n",
    "We’ll simulate cold-start within a normal 80/20 split by:\n",
    "1.\tDoing a standard 80/20 split of ratings.\n",
    "2.\tFrom the test set, identify users who appear in both train and test.\n",
    "3.\tFor each such user:\n",
    "    - Keep only 5 ratings in training.\n",
    "    - Keep the rest of their ratings in the test set.\n",
    "This ensures we simulate a user who has just 5 known ratings at prediction time.\n"
   ]
  },
  {
   "cell_type": "code",
   "execution_count": 123,
   "metadata": {},
   "outputs": [
    {
     "name": "stdout",
     "output_type": "stream",
     "text": [
      "RMSE: 1.0695\n",
      "RMSE on cold-start users: 1.069456686896876\n"
     ]
    }
   ],
   "source": [
    "# Convert trainset to DataFrame\n",
    "train_df = pd.DataFrame(trainset.build_testset(), columns=['user', 'item', 'rating'])\n",
    "test_df = pd.DataFrame(testset, columns=['user', 'item', 'rating'])\n",
    "\n",
    "# Identify shared users\n",
    "shared_users = set(train_df['user']) & set(test_df['user'])\n",
    "\n",
    "# Keep only 5 ratings per shared user in the train set\n",
    "limited_train_rows = []\n",
    "for user in shared_users:\n",
    "    user_ratings = train_df[train_df['user'] == user]\n",
    "    if len(user_ratings) > 5:\n",
    "        sampled = user_ratings.sample(5, random_state=42)\n",
    "    else:\n",
    "        sampled = user_ratings\n",
    "    limited_train_rows.append(sampled)\n",
    "\n",
    "# Add all non-shared users back\n",
    "non_shared_users_df = train_df[~train_df['user'].isin(shared_users)]\n",
    "cold_start_train_df = pd.concat(limited_train_rows + [non_shared_users_df])\n",
    "\n",
    "# Build the final trainset\n",
    "cold_start_data = Dataset.load_from_df(cold_start_train_df[['user', 'item', 'rating']], reader)\n",
    "cold_start_trainset = cold_start_data.build_full_trainset()\n",
    "\n",
    "# Define a custom SVD to raise errors on unknowns (optional)\n",
    "class ColdStartSVD(SVD):\n",
    "    def estimate(self, u, i):\n",
    "        if not self.trainset.knows_user(u) or not self.trainset.knows_item(i):\n",
    "            raise PredictionImpossible(\"Cold start issue: user or item not in training set.\")\n",
    "        return super().estimate(u, i)\n",
    "\n",
    "# Train the model\n",
    "algo = ColdStartSVD()\n",
    "algo.fit(cold_start_trainset)\n",
    "\n",
    "# Test and evaluate\n",
    "predictions = algo.test(testset)\n",
    "rmse = accuracy.rmse(predictions)\n",
    "\n",
    "print(f\"RMSE on cold-start users: {rmse}\")\n"
   ]
  },
  {
   "cell_type": "markdown",
   "metadata": {},
   "source": [
    "Now i will remove all uesers who have less than 5 ratings in the Test set"
   ]
  },
  {
   "cell_type": "code",
   "execution_count": 124,
   "metadata": {},
   "outputs": [
    {
     "name": "stdout",
     "output_type": "stream",
     "text": [
      "RMSE: 1.0661\n",
      "RMSE on filtered cold-start test users (with 5 training ratings each): 1.0661260077459283\n"
     ]
    }
   ],
   "source": [
    "# Convert to DataFrames for manipulation\n",
    "train_df = pd.DataFrame(trainset.build_testset(), columns=['user', 'item', 'rating'])\n",
    "test_df = pd.DataFrame(testset, columns=['user', 'item', 'rating'])\n",
    "\n",
    "# Step 1: Filter users with >= 5 test ratings\n",
    "test_user_counts = test_df['user'].value_counts()\n",
    "eligible_test_users = test_user_counts[test_user_counts >= 5].index\n",
    "\n",
    "# Step 2: Keep only eligible users in test set\n",
    "filtered_test_df = test_df[test_df['user'].isin(eligible_test_users)]\n",
    "\n",
    "# Step 3: Reduce training data to 5 ratings per user for these test users (simulate cold start)\n",
    "limited_train_rows = []\n",
    "for user in eligible_test_users:\n",
    "    user_ratings = train_df[train_df['user'] == user]\n",
    "    if len(user_ratings) > 5:\n",
    "        sampled = user_ratings.sample(5, random_state=42)\n",
    "    else:\n",
    "        sampled = user_ratings\n",
    "    limited_train_rows.append(sampled)\n",
    "\n",
    "# Step 4: Add all training data from non-eligible users (normal users)\n",
    "non_eligible_users_df = train_df[~train_df['user'].isin(eligible_test_users)]\n",
    "cold_start_train_df = pd.concat(limited_train_rows + [non_eligible_users_df], ignore_index=True)\n",
    "\n",
    "# Build training set for Surprise\n",
    "cold_start_data = Dataset.load_from_df(cold_start_train_df[['user', 'item', 'rating']], reader)\n",
    "cold_start_trainset = cold_start_data.build_full_trainset()\n",
    "\n",
    "# Custom SVD to raise prediction errors when needed (optional)\n",
    "class ColdStartSVD(SVD):\n",
    "    def estimate(self, u, i):\n",
    "        if not self.trainset.knows_user(u) or not self.trainset.knows_item(i):\n",
    "            raise PredictionImpossible(\"Cold start issue: user or item not in training set.\")\n",
    "        return super().estimate(u, i)\n",
    "\n",
    "# Train the model\n",
    "algo = ColdStartSVD()\n",
    "algo.fit(cold_start_trainset)\n",
    "\n",
    "# Build the final test set for Surprise\n",
    "final_testset = [tuple(x) for x in filtered_test_df.to_numpy()]\n",
    "predictions = algo.test(final_testset)\n",
    "\n",
    "# Evaluate\n",
    "rmse = accuracy.rmse(predictions)\n",
    "print(f\"RMSE on filtered cold-start test users (with 5 training ratings each): {rmse}\")\n"
   ]
  },
  {
   "cell_type": "markdown",
   "metadata": {},
   "source": [
    "Rmse is slightly better.\n",
    "\n",
    "Lets look at another model - KNN. How does this do at cold start problem"
   ]
  },
  {
   "cell_type": "code",
   "execution_count": 125,
   "metadata": {},
   "outputs": [
    {
     "name": "stdout",
     "output_type": "stream",
     "text": [
      "Estimating biases using als...\n",
      "Computing the pearson_baseline similarity matrix...\n",
      "Done computing similarity matrix.\n",
      "RMSE: 1.1603\n",
      "Cold-start RMSE (item-based KNNWithMeans): 1.1603\n"
     ]
    }
   ],
   "source": [
    "# Get all users from trainset and testset\n",
    "train_users = []\n",
    "for u in trainset.all_users():\n",
    "    raw_uid = trainset.to_raw_uid(u)\n",
    "    train_users.append(raw_uid)\n",
    "\n",
    "test_users = []\n",
    "for uid, _, _ in testset:\n",
    "    test_users.append(uid)\n",
    "\n",
    "# Find users that are in both sets\n",
    "shared_users = set(train_users).intersection(set(test_users))\n",
    "\n",
    "\n",
    "# Group test ratings by user\n",
    "test_ratings_by_user = defaultdict(list)\n",
    "for uid, iid, rating in testset:\n",
    "    if uid in shared_users:\n",
    "        test_ratings_by_user[uid].append((uid, iid, rating))\n",
    "\n",
    "# Build cold-start train/test sets: use 5 ratings for train, the rest for test\n",
    "cold_start_trainset = []\n",
    "cold_start_testset = []\n",
    "\n",
    "for uid in shared_users:\n",
    "    user_ratings = test_ratings_by_user[uid]\n",
    "    if len(user_ratings) >= 6:\n",
    "        np.random.shuffle(user_ratings)\n",
    "        cold_start_trainset.extend(user_ratings[:5])\n",
    "        cold_start_testset.extend(user_ratings[5:])\n",
    "\n",
    "# Create Surprise trainset from cold-start training ratings\n",
    "reader = Reader(line_format='user item rating', rating_scale=(1, 5))\n",
    "cold_start_data = Dataset.load_from_df(pd.DataFrame(cold_start_trainset, columns=['userID', 'itemID', 'rating']), reader)\n",
    "cold_trainset = cold_start_data.build_full_trainset()\n",
    "\n",
    "# Configure and train KNNWithMeans (item-based)\n",
    "sim_options = {'name': 'pearson_baseline', 'user_based': False}\n",
    "model = KNNWithMeans(sim_options=sim_options)\n",
    "model.fit(cold_trainset)\n",
    "\n",
    "# Make predictions on cold-start test set\n",
    "predictions = model.test(cold_start_testset)\n",
    "\n",
    "# Evaluate performance\n",
    "rmse = accuracy.rmse(predictions)\n",
    "print(f\"Cold-start RMSE (item-based KNNWithMeans): {rmse:.4f}\")\n"
   ]
  },
  {
   "cell_type": "code",
   "execution_count": 126,
   "metadata": {},
   "outputs": [
    {
     "name": "stdout",
     "output_type": "stream",
     "text": [
      "Estimating biases using als...\n",
      "Computing the pearson_baseline similarity matrix...\n",
      "Done computing similarity matrix.\n",
      "RMSE: 1.1657\n",
      "RMSE on filtered cold-start test users (KNNWithMeans, 5 training ratings each): 1.1656799090191148\n"
     ]
    }
   ],
   "source": [
    "# Convert to DataFrames for manipulation\n",
    "train_df = pd.DataFrame(trainset.build_testset(), columns=['user', 'item', 'rating'])\n",
    "test_df = pd.DataFrame(testset, columns=['user', 'item', 'rating'])\n",
    "\n",
    "# Step 1: Filter users with >= 5 test ratings\n",
    "test_user_counts = test_df['user'].value_counts()\n",
    "eligible_test_users = test_user_counts[test_user_counts >= 5].index\n",
    "\n",
    "# Step 2: Keep only eligible users in test set\n",
    "filtered_test_df = test_df[test_df['user'].isin(eligible_test_users)]\n",
    "\n",
    "# Step 3: Reduce training data to 5 ratings per user for these test users (simulate cold start)\n",
    "limited_train_rows = []\n",
    "for user in eligible_test_users:\n",
    "    user_ratings = train_df[train_df['user'] == user]\n",
    "    if len(user_ratings) > 5:\n",
    "        sampled = user_ratings.sample(5, random_state=42)\n",
    "    else:\n",
    "        sampled = user_ratings\n",
    "    limited_train_rows.append(sampled)\n",
    "\n",
    "# Step 4: Add all training data from non-eligible users (normal users)\n",
    "non_eligible_users_df = train_df[~train_df['user'].isin(eligible_test_users)]\n",
    "cold_start_train_df = pd.concat(limited_train_rows + [non_eligible_users_df], ignore_index=True)\n",
    "\n",
    "# Build training set for Surprise\n",
    "cold_start_data = Dataset.load_from_df(cold_start_train_df[['user', 'item', 'rating']], reader)\n",
    "cold_start_trainset = cold_start_data.build_full_trainset()\n",
    "\n",
    "# Train KNNWithMeans model (item-based filtering)\n",
    "sim_options = {\n",
    "    'name': 'pearson_baseline',  # or 'cosine', 'pearson'\n",
    "    'user_based': False          # set to False for item-based\n",
    "}\n",
    "algo = KNNWithMeans(sim_options=sim_options)\n",
    "algo.fit(cold_start_trainset)\n",
    "\n",
    "# Build the final test set for Surprise\n",
    "final_testset = [tuple(x) for x in filtered_test_df.to_numpy()]\n",
    "predictions = algo.test(final_testset)\n",
    "\n",
    "# Evaluate\n",
    "rmse = accuracy.rmse(predictions)\n",
    "print(f\"RMSE on filtered cold-start test users (KNNWithMeans, 5 training ratings each): {rmse}\")\n"
   ]
  },
  {
   "cell_type": "markdown",
   "metadata": {},
   "source": [
    "Next i will try out the gridsearch feature on surprise library"
   ]
  },
  {
   "cell_type": "code",
   "execution_count": 127,
   "metadata": {},
   "outputs": [],
   "source": [
    "# # Select test users with at least 5 ratings\n",
    "# test_counts = test_df['user'].value_counts()\n",
    "# eligible_users = test_counts[test_counts >= 5].index\n",
    "\n",
    "# # Limit each eligible user's train ratings to 5\n",
    "# limited_train = []\n",
    "# for user in eligible_users:\n",
    "#     user_rows = train_df[train_df['user'] == user]\n",
    "#     sampled = user_rows.sample(min(5, len(user_rows)), random_state=42)\n",
    "#     limited_train.append(sampled)\n",
    "\n",
    "# # Add the rest of training data (from non-cold-start users)\n",
    "# non_eligible_train = train_df[~train_df['user'].isin(eligible_users)]\n",
    "# cold_start_train = pd.concat(limited_train + [non_eligible_train])\n",
    "\n",
    "# # Filter test data to only those eligible cold start users\n",
    "# cold_start_test = test_df[test_df['user'].isin(eligible_users)]\n",
    "\n",
    "# # Save as temporary files for Surprise to read\n",
    "# train_file = tempfile.NamedTemporaryFile(mode='w+', delete=False)\n",
    "# test_file = tempfile.NamedTemporaryFile(mode='w+', delete=False)\n",
    "# cold_start_train.to_csv(train_file.name, index=False, header=False)\n",
    "# cold_start_test.to_csv(test_file.name, index=False, header=False)\n",
    "\n",
    "# # Create dataset for PredefinedKFold\n",
    "# reader = Reader(rating_scale=(1, 5))\n",
    "# folds = [(train_file.name, test_file.name)]\n",
    "# data = Dataset.load_from_folds(folds, reader)\n",
    "# pkf = PredefinedKFold()\n",
    "\n",
    "# # Grid search config\n",
    "# param_grid = {\n",
    "#     'n_epochs': [10, 20],\n",
    "#     'lr_all': [0.002, 0.005],\n",
    "#     'reg_all': [0.02, 0.1]\n",
    "# }\n",
    "\n",
    "# # Run grid search\n",
    "# gs = GridSearchCV(SVD, param_grid, measures=['rmse'], cv=pkf)\n",
    "# gs.fit(data)\n",
    "\n",
    "# # Output the best result\n",
    "# print(\"Best RMSE:\", gs.best_score['rmse'])\n",
    "# print(\"Best parameters:\", gs.best_params['rmse'])\n",
    "\n"
   ]
  },
  {
   "cell_type": "code",
   "execution_count": 128,
   "metadata": {},
   "outputs": [
    {
     "name": "stdout",
     "output_type": "stream",
     "text": [
      "Best RMSE: 0.9351875866316665\n",
      "Best parameters: {'n_epochs': 20, 'lr_all': 0.005, 'reg_all': 0.02}\n"
     ]
    }
   ],
   "source": [
    "# Grid search config\n",
    "param_grid = {\n",
    "    'n_epochs': [10, 20],\n",
    "    'lr_all': [0.002, 0.005],\n",
    "    'reg_all': [0.02, 0.1]\n",
    "}\n",
    "\n",
    "# Run grid search\n",
    "gs = GridSearchCV(SVD, param_grid, measures=['rmse'], cv=5)\n",
    "gs.fit(custom_data)\n",
    "\n",
    "# Output the best result\n",
    "print(\"Best RMSE:\", gs.best_score['rmse'])\n",
    "print(\"Best parameters:\", gs.best_params['rmse'])\n"
   ]
  },
  {
   "cell_type": "code",
   "execution_count": 129,
   "metadata": {},
   "outputs": [
    {
     "name": "stdout",
     "output_type": "stream",
     "text": [
      "Best RMSE: 0.9404997289932517\n",
      "Best parameters: {'n_epochs': 20, 'lr_bu': 0.002, 'lr_bi': 0.002, 'lr_pu': 0.005, 'lr_qi': 0.005, 'reg_bu': 0.02, 'reg_bi': 0.02, 'reg_pu': 0.1, 'reg_qi': 0.1}\n"
     ]
    }
   ],
   "source": [
    "# Grid search config\n",
    "param_grid = {\n",
    "    'n_epochs': [10, 20],\n",
    "    'lr_bu': [0.002],\n",
    "    'lr_bi': [0.002],\n",
    "    'lr_pu': [0.005],\n",
    "    'lr_qi': [0.005],\n",
    "    'reg_bu': [0.02],\n",
    "    'reg_bi': [0.02],\n",
    "    'reg_pu': [0.1],\n",
    "    'reg_qi': [0.1]\n",
    "}\n",
    "\n",
    "\n",
    "# Run grid search\n",
    "gs = GridSearchCV(SVD, param_grid, measures=['rmse'], cv=5)\n",
    "gs.fit(custom_data)\n",
    "\n",
    "# Output the best result\n",
    "print(\"Best RMSE:\", gs.best_score['rmse'])\n",
    "print(\"Best parameters:\", gs.best_params['rmse'])"
   ]
  },
  {
   "cell_type": "markdown",
   "metadata": {},
   "source": [
    "first hybrid system"
   ]
  },
  {
   "cell_type": "code",
   "execution_count": 130,
   "metadata": {},
   "outputs": [
    {
     "name": "stdout",
     "output_type": "stream",
     "text": [
      "RMSE: 1.0011\n",
      "Hybrid RMSE: 1.001058230789922\n"
     ]
    }
   ],
   "source": [
    "# raw_df = pd.DataFrame(data.raw_ratings, columns=['user', 'item', 'rating', 'timestamp'])\n",
    "\n",
    "# Create utility matrix: rows = items, columns = users\n",
    "pivot = ratings.pivot_table(index='movieId', columns='userId', values='rating').fillna(0)\n",
    "\n",
    "# Compute item similarity and cluster items\n",
    "item_vectors = pivot.values\n",
    "k = 10  # Number of clusters\n",
    "kmeans = KMeans(n_clusters=k, random_state=42)\n",
    "item_clusters = kmeans.fit_predict(item_vectors)\n",
    "\n",
    "# Map item ID to cluster\n",
    "item_to_cluster = dict(zip(pivot.index, item_clusters))\n",
    "\n",
    "# Add cluster info to dataframe\n",
    "ratings['cluster'] = ratings['movieId'].map(item_to_cluster)\n",
    "\n",
    "# Split dataset\n",
    "reader = Reader(rating_scale=(1, 5))\n",
    "data = Dataset.load_from_df(ratings[['userId', 'movieId', 'rating']], reader)\n",
    "trainset, testset = train_test_split(data, test_size=0.2, random_state=42)\n",
    "\n",
    "# Convert trainset to DataFrame\n",
    "train_df = pd.DataFrame(trainset.build_testset(), columns=['userId', 'movieId', 'rating'])\n",
    "train_df['cluster'] = train_df['movieId'].map(item_to_cluster)\n",
    "\n",
    "# Train one SVD model per cluster\n",
    "cluster_models = {}\n",
    "for cluster_id in range(k):\n",
    "    cluster_data = train_df[train_df['cluster'] == cluster_id]\n",
    "    if cluster_data.empty:\n",
    "        continue\n",
    "    cluster_dataset = Dataset.load_from_df(cluster_data[['userId', 'movieId', 'rating']], reader)\n",
    "    cluster_trainset = cluster_dataset.build_full_trainset()\n",
    "    model = SVD()\n",
    "    model.fit(cluster_trainset)\n",
    "    cluster_models[cluster_id] = (model, cluster_trainset)\n",
    "\n",
    "# Predict using the appropriate model for each item's cluster\n",
    "predictions = []\n",
    "for uid, iid, true_r in testset:\n",
    "    cluster_id = item_to_cluster.get(iid)\n",
    "    model_info = cluster_models.get(cluster_id)\n",
    "    \n",
    "    if model_info is not None:\n",
    "        model, cluster_trainset = model_info\n",
    "        try:\n",
    "            # Convert raw IDs to inner IDs for training set\n",
    "            uid_inner = cluster_trainset.to_inner_uid(uid) if cluster_trainset.knows_user(uid) else None\n",
    "            iid_inner = cluster_trainset.to_inner_iid(iid) if cluster_trainset.knows_item(iid) else None\n",
    "\n",
    "            if uid_inner is not None and iid_inner is not None:\n",
    "                pred = model.predict(uid, iid, r_ui=true_r)\n",
    "            else:\n",
    "                pred = None\n",
    "        except:\n",
    "            pred = None\n",
    "    else:\n",
    "        pred = None\n",
    "\n",
    "    if pred is not None:\n",
    "        predictions.append(pred)\n",
    "\n",
    "# Evaluate\n",
    "if predictions:\n",
    "    rmse = accuracy.rmse(predictions)\n",
    "    print(f\"Hybrid RMSE: {rmse}\")\n",
    "else:\n",
    "    print(\"No predictions were made.\")\n"
   ]
  },
  {
   "cell_type": "markdown",
   "metadata": {},
   "source": [
    "Total comparison"
   ]
  },
  {
   "cell_type": "markdown",
   "metadata": {},
   "source": [
    "Baseline (Bias) Models"
   ]
  },
  {
   "cell_type": "code",
   "execution_count": 131,
   "metadata": {},
   "outputs": [
    {
     "name": "stdout",
     "output_type": "stream",
     "text": [
      "Estimating biases using als...\n",
      "BaselineOnly RMSE: 0.9442\n"
     ]
    }
   ],
   "source": [
    "# Train the baseline (global mean + biases)\n",
    "algo = BaselineOnly()    \n",
    "algo.fit(trainset)\n",
    "predictions = algo.test(testset)\n",
    "\n",
    "# Compute RMSE for rating prediction\n",
    "rmse = accuracy.rmse(predictions, verbose=False)\n",
    "print(f'BaselineOnly RMSE: {rmse:.4f}')\n"
   ]
  },
  {
   "cell_type": "markdown",
   "metadata": {},
   "source": [
    "Memory-based Collaborative Filtering (KNN)"
   ]
  },
  {
   "cell_type": "code",
   "execution_count": 132,
   "metadata": {},
   "outputs": [
    {
     "name": "stdout",
     "output_type": "stream",
     "text": [
      "Estimating biases using als...\n",
      "Computing the pearson_baseline similarity matrix...\n",
      "Done computing similarity matrix.\n",
      "KNNBasic (user) RMSE: 1.0011\n"
     ]
    }
   ],
   "source": [
    "# User-based KNN with k=30 neighbors\n",
    "sim_options = {'name': 'pearson_baseline', 'user_based': True}\n",
    "knn_user = KNNBasic(k=30, sim_options=sim_options)\n",
    "knn_user.fit(trainset)\n",
    "predictions_knn = knn_user.test(testset)\n",
    "print(f'KNNBasic (user) RMSE: {accuracy.rmse(predictions_knn, verbose=False):.4f}')\n"
   ]
  },
  {
   "cell_type": "markdown",
   "metadata": {},
   "source": [
    "Model-based (Latent Factor) Models: SVD and NMF"
   ]
  },
  {
   "cell_type": "code",
   "execution_count": 133,
   "metadata": {},
   "outputs": [
    {
     "name": "stdout",
     "output_type": "stream",
     "text": [
      "SVD RMSE: 0.9348\n"
     ]
    }
   ],
   "source": [
    "# Train SVD (Funk SVD) on full training set\n",
    "svd = SVD(n_factors=50, n_epochs=20, random_state=42)\n",
    "svd.fit(trainset)\n",
    "predictions_svd = svd.test(testset)\n",
    "print(f'SVD RMSE: {accuracy.rmse(predictions_svd, verbose=False):.4f}')\n",
    "\n"
   ]
  },
  {
   "cell_type": "code",
   "execution_count": 134,
   "metadata": {},
   "outputs": [
    {
     "name": "stdout",
     "output_type": "stream",
     "text": [
      "NMF RMSE: 0.9594\n"
     ]
    }
   ],
   "source": [
    "\n",
    "# Train NMF on the same data\n",
    "nmf = NMF(n_factors=15, n_epochs=50, random_state=42)\n",
    "nmf.fit(trainset)\n",
    "predictions_nmf = nmf.test(testset)\n",
    "print(f'NMF RMSE: {accuracy.rmse(predictions_nmf, verbose=False):.4f}')"
   ]
  },
  {
   "cell_type": "markdown",
   "metadata": {},
   "source": [
    "compute Precision@K and Recall@K for predictions"
   ]
  },
  {
   "cell_type": "code",
   "execution_count": 135,
   "metadata": {},
   "outputs": [
    {
     "name": "stdout",
     "output_type": "stream",
     "text": [
      "SVD Precision@10: 0.582, Recall@10: 0.721\n"
     ]
    }
   ],
   "source": [
    "\n",
    "def precision_recall_at_k(predictions, k=10, threshold=4.0):\n",
    "    user_est_true = defaultdict(list)\n",
    "    for uid, iid, true_r, est, _ in predictions:\n",
    "        user_est_true[uid].append((est, true_r))\n",
    "    precisions = []\n",
    "    recalls = []\n",
    "    for uid, rated in user_est_true.items():\n",
    "        rated.sort(key=lambda x: x[0], reverse=True)\n",
    "        top_k = rated[:k]\n",
    "        n_relevant = sum((true >= threshold) for (_, true) in rated)\n",
    "        n_recommended = sum((true >= threshold) for (_, true) in top_k)\n",
    "        precisions.append(n_recommended / k if k else 0)\n",
    "        recalls.append(n_recommended / n_relevant if n_relevant else 0)\n",
    "    return sum(precisions)/len(precisions), sum(recalls)/len(recalls)\n",
    "\n",
    "# Compute for SVD predictions as an example\n",
    "p10, r10 = precision_recall_at_k(predictions_svd, k=10)\n",
    "print(f'SVD Precision@10: {p10:.3f}, Recall@10: {r10:.3f}')\n"
   ]
  },
  {
   "cell_type": "markdown",
   "metadata": {},
   "source": [
    "Hybrid Approaches: Clustering + Latent Factors\n"
   ]
  },
  {
   "cell_type": "code",
   "execution_count": 136,
   "metadata": {},
   "outputs": [
    {
     "data": {
      "text/plain": [
       "<surprise.prediction_algorithms.matrix_factorization.SVD at 0x1659aa1d0>"
      ]
     },
     "execution_count": 136,
     "metadata": {},
     "output_type": "execute_result"
    }
   ],
   "source": [
    "\n",
    "\n",
    "ratings = pd.read_csv('../ml-100k/u.data', sep='\\t', \n",
    "                          names=['user', 'item', 'rating', 'timestamp'])\n",
    "\n",
    "genre_cols = ['Action', 'Adventure', 'Animation', 'Children', 'Comedy', \n",
    "              'Crime', 'Documentary', 'Drama', 'Fantasy', 'Film-Noir', \n",
    "              'Horror', 'Musical', 'Mystery', 'Romance', 'Sci-Fi', 'Thriller', 'War', 'Western']\n",
    "movies = pd.read_csv('../ml-100k/u.item', sep='|',  encoding='ISO-8859-1', header=None, \n",
    "                     names=['item', 'title', 'release_date', 'video_release_date', 'IMDb_URL', \n",
    "                            'unknown', 'Action', 'Adventure', 'Animation', 'Children', 'Comedy', \n",
    "                            'Crime', 'Documentary', 'Drama', 'Fantasy', 'Film-Noir', 'Horror', \n",
    "                            'Musical', 'Mystery', 'Romance', 'Sci-Fi', 'Thriller', 'War', 'Western'])\n",
    "\n",
    "\n",
    "# Only keep relevant genre columns\n",
    "genre_cols = ['Action', 'Adventure', 'Animation', 'Children', 'Comedy', \n",
    "              'Crime', 'Documentary', 'Drama', 'Fantasy', 'Film-Noir', \n",
    "              'Horror', 'Musical', 'Mystery', 'Romance', 'Sci-Fi', 'Thriller', 'War', 'Western']\n",
    "movies = movies[['item', 'title'] + genre_cols]\n",
    "\n",
    "\n",
    "# 2. Split the ratings dataset into train/test\n",
    "reader = Reader(rating_scale=(1, 5))\n",
    "data = Dataset.load_from_df(ratings[['user', 'item', 'rating']], reader)\n",
    "trainset, testset = train_test_split(data, test_size=0.2, random_state=42)\n",
    "\n",
    "# Convert trainset to dataframe (for content-based model)\n",
    "train_df = pd.DataFrame(trainset.build_testset(), columns=['user', 'item', 'rating'])\n",
    "\n",
    "# 3. Train the SVD Model\n",
    "svd = SVD()\n",
    "svd.fit(trainset)\n"
   ]
  },
  {
   "cell_type": "code",
   "execution_count": 137,
   "metadata": {},
   "outputs": [
    {
     "name": "stdout",
     "output_type": "stream",
     "text": [
      "        Action  Adventure  Animation  Children    Comedy     Crime  \\\n",
      "user                                                                 \n",
      "1     0.131111   0.073333   0.022222  0.051111  0.164444  0.035556   \n",
      "2     0.091837   0.020408   0.010204  0.030612  0.122449  0.081633   \n",
      "3     0.103093   0.030928   0.000000  0.000000  0.113402  0.092784   \n",
      "4     0.139535   0.093023   0.000000  0.000000  0.046512  0.069767   \n",
      "5     0.138983   0.084746   0.037288  0.077966  0.216949  0.030508   \n",
      "...        ...        ...        ...       ...       ...       ...   \n",
      "939   0.170455   0.102273   0.011364  0.011364  0.147727  0.034091   \n",
      "940   0.103627   0.051813   0.010363  0.020725  0.176166  0.025907   \n",
      "941   0.187500   0.125000   0.062500  0.041667  0.145833  0.020833   \n",
      "942   0.099291   0.078014   0.014184  0.070922  0.120567  0.000000   \n",
      "943   0.171617   0.092409   0.003300  0.016502  0.155116  0.042904   \n",
      "\n",
      "      Documentary     Drama   Fantasy  Film-Noir    Horror   Musical  \\\n",
      "user                                                                   \n",
      "1        0.011111  0.171111  0.002222   0.002222  0.017778  0.022222   \n",
      "2        0.000000  0.285714  0.010204   0.020408  0.010204  0.010204   \n",
      "3        0.000000  0.185567  0.000000   0.020619  0.041237  0.020619   \n",
      "4        0.023256  0.116279  0.000000   0.000000  0.000000  0.000000   \n",
      "5        0.000000  0.067797  0.006780   0.003390  0.077966  0.030508   \n",
      "...           ...       ...       ...        ...       ...       ...   \n",
      "939      0.000000  0.159091  0.011364   0.000000  0.000000  0.011364   \n",
      "940      0.000000  0.191710  0.000000   0.010363  0.020725  0.025907   \n",
      "941      0.000000  0.083333  0.000000   0.000000  0.000000  0.020833   \n",
      "942      0.000000  0.177305  0.014184   0.007092  0.021277  0.028369   \n",
      "943      0.000000  0.155116  0.003300   0.000000  0.033003  0.006601   \n",
      "\n",
      "       Mystery   Romance    Sci-Fi  Thriller       War   Western  \n",
      "user                                                              \n",
      "1     0.011111  0.075556  0.066667  0.086667  0.044444  0.011111  \n",
      "2     0.020408  0.122449  0.040816  0.091837  0.030612  0.000000  \n",
      "3     0.092784  0.051546  0.051546  0.154639  0.041237  0.000000  \n",
      "4     0.093023  0.046512  0.139535  0.186047  0.046512  0.000000  \n",
      "5     0.003390  0.047458  0.091525  0.047458  0.033898  0.003390  \n",
      "...        ...       ...       ...       ...       ...       ...  \n",
      "939   0.011364  0.113636  0.079545  0.125000  0.011364  0.000000  \n",
      "940   0.015544  0.108808  0.093264  0.082902  0.062176  0.000000  \n",
      "941   0.000000  0.020833  0.145833  0.125000  0.020833  0.000000  \n",
      "942   0.063830  0.085106  0.035461  0.106383  0.063830  0.014184  \n",
      "943   0.009901  0.095710  0.052805  0.099010  0.039604  0.023102  \n",
      "\n",
      "[943 rows x 18 columns]\n"
     ]
    }
   ],
   "source": [
    "# 4. Build User Profiles for Content-Based Recommender\n",
    "# Step 4.1: Merge ratings and movie genres\n",
    "train_merged = pd.merge(train_df, movies, on='item')\n",
    "\n",
    "# Step 4.2: Create user profiles based on genres\n",
    "user_profiles = train_merged.groupby('user')[genre_cols].mean()\n",
    "\n",
    "# Normalize user profiles (optional, helps with cosine similarity)\n",
    "user_profiles = user_profiles.div(user_profiles.sum(axis=1), axis=0)\n",
    "\n",
    "print(user_profiles)"
   ]
  },
  {
   "cell_type": "code",
   "execution_count": 138,
   "metadata": {},
   "outputs": [],
   "source": [
    "\n",
    "# 5. Build Item Profile Matrix\n",
    "item_profiles = movies.set_index('item')[genre_cols]\n",
    "item_profiles = item_profiles.div(item_profiles.sum(axis=1), axis=0)\n",
    "\n",
    "# Count the number of ratings per user\n",
    "user_rating_counts = train_df['user'].value_counts()"
   ]
  },
  {
   "cell_type": "code",
   "execution_count": 145,
   "metadata": {},
   "outputs": [],
   "source": [
    "# Step 4: Make Predictions\n",
    "# Helper function: Content-based rating prediction\n",
    "def predict_content_based(user_id, item_id):\n",
    "    try:\n",
    "        # Get the user profile and item profile\n",
    "        user_vector = user_profiles.loc[user_id]\n",
    "        item_vector = item_profiles.loc[item_id]\n",
    "        if user_vector.ndim == 1 and item_vector.ndim == 1:\n",
    "            # Cosine similarity between user and item vectors\n",
    "            print(user_vector)\n",
    "            print(item_vector)\n",
    "            similarity = np.dot(user_vector, item_vector) / (np.linalg.norm(user_vector) * np.linalg.norm(item_vector))\n",
    "            # Scale similarity to rating scale (1-5)\n",
    "            # Since similarity can be from -1 to 1, we adjust it:\n",
    "            predicted_rating = 2.5 + 2.5 * similarity  # Center at 2.5, range approx 1-5\n",
    "            print(\"is 1-dimensional.\")\n",
    "            return np.clip(predicted_rating, 1.0, 5.0)\n",
    "        else:\n",
    "             print(\"Not 1-dimensional.\")\n",
    "             return train_df['rating'].mean()\n",
    "    except KeyError:\n",
    "        # If user or item not found (cold start for genre), return global mean\n",
    "        return train_df['rating'].mean()\n"
   ]
  },
  {
   "cell_type": "code",
   "execution_count": 140,
   "metadata": {},
   "outputs": [],
   "source": [
    "\n",
    "# Hybrid prediction function\n",
    "def hybrid_predict(user_id, item_id, svd_weight=0.5, content_weight=0.5):\n",
    "    # SVD prediction\n",
    "    try:\n",
    "        svd_pred = svd.predict(user_id, item_id).est\n",
    "    except:\n",
    "        svd_pred = train_df['rating'].mean()\n",
    "    \n",
    "    # Content-based prediction\n",
    "    content_pred = predict_content_based(user_id, item_id)\n",
    "    \n",
    "    # Weighted combination\n",
    "    hybrid_pred = (svd_weight * svd_pred) + (content_weight * content_pred)\n",
    "    return np.clip(hybrid_pred, 1.0, 5.0)\n"
   ]
  },
  {
   "cell_type": "code",
   "execution_count": null,
   "metadata": {},
   "outputs": [],
   "source": [
    "# Predict on the testset\n",
    "hybrid_predictions = []\n",
    "true_ratings = []\n",
    "\n",
    "for (user, item, true_r) in testset:\n",
    "    pred = hybrid_predict(user, item, svd_weight=0.7, content_weight=0.3)\n",
    "    # Ensure predictions and true ratings are not NaN\n",
    "    if not np.isnan(pred) and not np.isnan(true_r):\n",
    "        hybrid_predictions.append(pred)\n",
    "        true_ratings.append(true_r)"
   ]
  },
  {
   "cell_type": "code",
   "execution_count": 142,
   "metadata": {},
   "outputs": [
    {
     "name": "stdout",
     "output_type": "stream",
     "text": [
      "Hybrid Model RMSE: 0.9583\n",
      "Hybrid Model MAE: 0.7614\n"
     ]
    }
   ],
   "source": [
    "# Step 5: Evaluate Hybrid Model\n",
    "# Calculate RMSE\n",
    "rmse = np.sqrt(mean_squared_error(true_ratings, hybrid_predictions))\n",
    "mae = mean_absolute_error(true_ratings, hybrid_predictions)\n",
    "\n",
    "print(f\"Hybrid Model RMSE: {rmse:.4f}\")\n",
    "print(f\"Hybrid Model MAE: {mae:.4f}\")"
   ]
  },
  {
   "cell_type": "markdown",
   "metadata": {},
   "source": [
    "Same model with weighted average for cold start problem"
   ]
  },
  {
   "cell_type": "code",
   "execution_count": 143,
   "metadata": {},
   "outputs": [
    {
     "name": "stdout",
     "output_type": "stream",
     "text": [
      "Hybrid Model RMSE: 0.9461\n",
      "Hybrid Model MAE: 0.7491\n"
     ]
    }
   ],
   "source": [
    "ratings = pd.read_csv('../ml-100k/u.data', sep='\\t', \n",
    "                          names=['user', 'item', 'rating', 'timestamp'])\n",
    "\n",
    "genre_cols = ['Action', 'Adventure', 'Animation', 'Children', 'Comedy', \n",
    "              'Crime', 'Documentary', 'Drama', 'Fantasy', 'Film-Noir', \n",
    "              'Horror', 'Musical', 'Mystery', 'Romance', 'Sci-Fi', 'Thriller', 'War', 'Western']\n",
    "movies = pd.read_csv('../ml-100k/u.item', sep='|',  encoding='ISO-8859-1', header=None, \n",
    "                     names=['item', 'title', 'release_date', 'video_release_date', 'IMDb_URL', \n",
    "                            'unknown', 'Action', 'Adventure', 'Animation', 'Children', 'Comedy', \n",
    "                            'Crime', 'Documentary', 'Drama', 'Fantasy', 'Film-Noir', 'Horror', \n",
    "                            'Musical', 'Mystery', 'Romance', 'Sci-Fi', 'Thriller', 'War', 'Western'])\n",
    "\n",
    "\n",
    "# Only keep relevant genre columns\n",
    "genre_cols = ['Action', 'Adventure', 'Animation', 'Children', 'Comedy', \n",
    "              'Crime', 'Documentary', 'Drama', 'Fantasy', 'Film-Noir', \n",
    "              'Horror', 'Musical', 'Mystery', 'Romance', 'Sci-Fi', 'Thriller', 'War', 'Western']\n",
    "movies = movies[['item', 'title'] + genre_cols]\n",
    "\n",
    "\n",
    "# 2. Split the ratings dataset into train/test\n",
    "reader = Reader(rating_scale=(1, 5))\n",
    "data = Dataset.load_from_df(ratings[['user', 'item', 'rating']], reader)\n",
    "trainset, testset = train_test_split(data, test_size=0.2, random_state=42)\n",
    "\n",
    "# Convert trainset to dataframe (for content-based model)\n",
    "train_df = pd.DataFrame(trainset.build_testset(), columns=['user', 'item', 'rating'])\n",
    "\n",
    "# 3. Train the SVD Model\n",
    "svd = SVD()\n",
    "svd.fit(trainset)\n",
    "\n",
    "# 4. Build User Profiles for Content-Based Recommender\n",
    "# Step 4.1: Merge ratings and movie genres\n",
    "train_merged = pd.merge(train_df, movies, on='item')\n",
    "\n",
    "# Step 4.2: Create user profiles based on genres\n",
    "user_profiles = train_merged.groupby('user')[genre_cols].mean()\n",
    "\n",
    "# Normalize user profiles (optional, helps with cosine similarity)\n",
    "user_profiles = user_profiles.div(user_profiles.sum(axis=1), axis=0)\n",
    "\n",
    "# 5. Build Item Profile Matrix\n",
    "item_profiles = movies.set_index('item')[genre_cols]\n",
    "item_profiles = item_profiles.div(item_profiles.sum(axis=1), axis=0)\n",
    "\n",
    "# Count the number of ratings per user\n",
    "user_rating_counts = train_df['user'].value_counts()\n",
    "\n",
    "\n",
    "# Step 4: Make Predictions\n",
    "# Helper function: Content-based rating prediction\n",
    "def predict_content_based(user_id, item_id):\n",
    "    try:\n",
    "        # Get the user profile and item profile\n",
    "        user_vector = user_profiles.loc[user_id]\n",
    "        item_vector = item_profiles.loc[item_id]\n",
    "        # Cosine similarity between user and item vectors\n",
    "        similarity = np.dot(user_vector, item_vector) / (np.linalg.norm(user_vector) * np.linalg.norm(item_vector))\n",
    "        # Scale similarity to rating scale (1-5)\n",
    "        # Since similarity can be from -1 to 1, we adjust it:\n",
    "        predicted_rating = 2.5 + 2.5 * similarity  # Center at 2.5, range approx 1-5\n",
    "        return np.clip(predicted_rating, 1.0, 5.0)\n",
    "    except KeyError:\n",
    "        # If user or item not found (cold start for genre), return global mean\n",
    "        return train_df['rating'].mean()\n",
    "\n",
    "# Hybrid prediction function\n",
    "def hybrid_predict(user_id, item_id):\n",
    "    # Determine the number of ratings for the user\n",
    "    num_ratings = user_rating_counts.get(user_id, 0)\n",
    "    \n",
    "    # Set weights based on the number of ratings\n",
    "    if num_ratings == 0:\n",
    "        svd_weight = 0.0\n",
    "        content_weight = 1.0\n",
    "    elif 1 <= num_ratings <= 5:\n",
    "        svd_weight = 0.2\n",
    "        content_weight = 0.8\n",
    "    elif 6 <= num_ratings <= 10:\n",
    "        svd_weight = 0.5\n",
    "        content_weight = 0.5\n",
    "    else:\n",
    "        svd_weight = 0.8\n",
    "        content_weight = 0.2\n",
    "    \n",
    "    # SVD prediction\n",
    "    try:\n",
    "        svd_pred = svd.predict(user_id, item_id).est\n",
    "    except:\n",
    "        svd_pred = train_df['rating'].mean()\n",
    "    \n",
    "    # Content-based prediction\n",
    "    content_pred = predict_content_based(user_id, item_id)\n",
    "    \n",
    "    # Weighted combination\n",
    "    hybrid_pred = (svd_weight * svd_pred) + (content_weight * content_pred)\n",
    "    return np.clip(hybrid_pred, 1.0, 5.0)\n",
    "\n",
    "# Predict on the testset\n",
    "hybrid_predictions = []\n",
    "true_ratings = []\n",
    "\n",
    "for (user, item, true_r) in testset:\n",
    "    pred = hybrid_predict(user, item)\n",
    "    # Ensure predictions and true ratings are not NaN\n",
    "    if not np.isnan(pred) and not np.isnan(true_r):\n",
    "        hybrid_predictions.append(pred)\n",
    "        true_ratings.append(true_r)\n",
    "\n",
    "# Step 5: Evaluate Hybrid Model\n",
    "# Calculate RMSE\n",
    "rmse = np.sqrt(mean_squared_error(true_ratings, hybrid_predictions))\n",
    "mae = mean_absolute_error(true_ratings, hybrid_predictions)\n",
    "\n",
    "print(f\"Hybrid Model RMSE: {rmse:.4f}\")\n",
    "print(f\"Hybrid Model MAE: {mae:.4f}\")"
   ]
  },
  {
   "cell_type": "markdown",
   "metadata": {},
   "source": [
    "Hybrid using KNN modal over cosine"
   ]
  },
  {
   "cell_type": "code",
   "execution_count": 144,
   "metadata": {},
   "outputs": [
    {
     "name": "stdout",
     "output_type": "stream",
     "text": [
      "Computing the cosine similarity matrix...\n",
      "Done computing similarity matrix.\n",
      "Hybrid Model RMSE: 0.9342\n",
      "Hybrid Model MAE: 0.7380\n"
     ]
    }
   ],
   "source": [
    "# Load the ratings dataset\n",
    "ratings = pd.read_csv('../ml-100k/u.data', sep='\\t',\n",
    "                      names=['user', 'item', 'rating', 'timestamp'])\n",
    "\n",
    "# Load the movies dataset\n",
    "genre_cols = ['Action', 'Adventure', 'Animation', 'Children', 'Comedy',\n",
    "              'Crime', 'Documentary', 'Drama', 'Fantasy', 'Film-Noir',\n",
    "              'Horror', 'Musical', 'Mystery', 'Romance', 'Sci-Fi', 'Thriller', 'War', 'Western']\n",
    "movies = pd.read_csv('../ml-100k/u.item', sep='|', encoding='ISO-8859-1', header=None,\n",
    "                     names=['item', 'title', 'release_date', 'video_release_date', 'IMDb_URL',\n",
    "                            'unknown', 'Action', 'Adventure', 'Animation', 'Children', 'Comedy',\n",
    "                            'Crime', 'Documentary', 'Drama', 'Fantasy', 'Film-Noir', 'Horror',\n",
    "                            'Musical', 'Mystery', 'Romance', 'Sci-Fi', 'Thriller', 'War', 'Western'])\n",
    "# Only keep relevant genre columns\n",
    "movies = movies[['item', 'title'] + genre_cols]\n",
    "\n",
    "# 2. Split the ratings dataset into train/test\n",
    "reader = Reader(rating_scale=(1, 5))\n",
    "data = Dataset.load_from_df(ratings[['user', 'item', 'rating']], reader)\n",
    "trainset, testset = train_test_split(data, test_size=0.2, random_state=42)\n",
    "\n",
    "# Convert trainset to dataframe (for content-based model)\n",
    "train_df = pd.DataFrame(trainset.build_testset(), columns=['user', 'item', 'rating'])\n",
    "\n",
    "# 3. Train the SVD Model\n",
    "svd = SVD()\n",
    "svd.fit(trainset)\n",
    "\n",
    "# 4. Train the KNN Model\n",
    "knn = KNNBasic(sim_options={'name': 'cosine', 'user_based': True})\n",
    "knn.fit(trainset)\n",
    "\n",
    "# 5. Build User Profiles for Content-Based Recommender\n",
    "# Step 5.1: Merge ratings and movie genres\n",
    "train_merged = pd.merge(train_df, movies, on='item')\n",
    "\n",
    "# Step 5.2: Create user profiles based on genres\n",
    "user_profiles = train_merged.groupby('user')[genre_cols].mean()\n",
    "\n",
    "# Normalize user profiles (optional, helps with cosine similarity)\n",
    "user_profiles = user_profiles.div(user_profiles.sum(axis=1), axis=0)\n",
    "\n",
    "# 6. Build Item Profile Matrix\n",
    "item_profiles = movies.set_index('item')[genre_cols]\n",
    "item_profiles = item_profiles.div(item_profiles.sum(axis=1), axis=0)\n",
    "\n",
    "# Count the number of ratings per user\n",
    "user_rating_counts = train_df['user'].value_counts()\n",
    "\n",
    "# Helper function: Content-based rating prediction\n",
    "def predict_content_based(user_id, item_id):\n",
    "    try:\n",
    "        # Get the user profile and item profile\n",
    "        user_vector = user_profiles.loc[user_id]\n",
    "        item_vector = item_profiles.loc[item_id]\n",
    "        # Cosine similarity between user and item vectors\n",
    "        similarity = np.dot(user_vector, item_vector) / (np.linalg.norm(user_vector) * np.linalg.norm(item_vector))\n",
    "        # Scale similarity to rating scale (1-5)\n",
    "        # Since similarity can be from -1 to 1, we adjust it:\n",
    "        predicted_rating = 2.5 + 2.5 * similarity  # Center at 2.5, range approx 1-5\n",
    "        return np.clip(predicted_rating, 1.0, 5.0)\n",
    "    except KeyError:\n",
    "        # If user or item not found (cold start for genre), return global mean\n",
    "        return train_df['rating'].mean()\n",
    "\n",
    "# Hybrid prediction function\n",
    "def hybrid_predict(user_id, item_id):\n",
    "    # Determine the number of ratings for the user\n",
    "    num_ratings = user_rating_counts.get(user_id, 0)\n",
    "    \n",
    "    # Set weights based on the number of ratings\n",
    "    if num_ratings == 0:\n",
    "        svd_weight = 0.0\n",
    "        knn_weight = 1.0\n",
    "        # knn_weight = 0.0\n",
    "    elif 1 <= num_ratings <= 5:\n",
    "        svd_weight = 0.2\n",
    "        knn_weight = 0.8\n",
    "        # knn_weight = 0.0\n",
    "    elif 6 <= num_ratings <= 10:\n",
    "        svd_weight = 0.5\n",
    "        knn_weight = 0.5\n",
    "        # knn_weight = 0.0\n",
    "    else:\n",
    "        svd_weight = 0.8\n",
    "        knn_weight = 0.2\n",
    "        # knn_weight = 0.0\n",
    "    \n",
    "    # SVD prediction\n",
    "    try:\n",
    "        svd_pred = svd.predict(user_id, item_id).est\n",
    "    except:\n",
    "        svd_pred = train_df['rating'].mean()\n",
    "    \n",
    "    # KNN prediction\n",
    "    try:\n",
    "        knn_pred = knn.predict(user_id, item_id).est\n",
    "    except:\n",
    "        knn_pred = train_df['rating'].mean()\n",
    "    \n",
    "    # Content-based prediction\n",
    "    content_pred = predict_content_based(user_id, item_id)\n",
    "    \n",
    "    # Weighted combination\n",
    "    hybrid_pred = (svd_weight * svd_pred) + (knn_weight * knn_pred) \n",
    "    return np.clip(hybrid_pred, 1.0, 5.0)\n",
    "\n",
    "# Predict on the testset\n",
    "hybrid_predictions = []\n",
    "true_ratings = []\n",
    "\n",
    "for (user, item, true_r) in testset:\n",
    "    pred = hybrid_predict(user, item)\n",
    "    # Ensure predictions and true ratings are not NaN\n",
    "    if not np.isnan(pred) and not np.isnan(true_r):\n",
    "        hybrid_predictions.append(pred)\n",
    "        true_ratings.append(true_r)\n",
    "\n",
    "# Step 6: Evaluate Hybrid Model\n",
    "# Calculate RMSE\n",
    "rmse = np.sqrt(mean_squared_error(true_ratings, hybrid_predictions))\n",
    "mae = mean_absolute_error(true_ratings, hybrid_predictions)\n",
    "print(f\"Hybrid Model RMSE: {rmse:.4f}\")\n",
    "print(f\"Hybrid Model MAE: {mae:.4f}\")"
   ]
  }
 ],
 "metadata": {
  "kernelspec": {
   "display_name": "movie_recommender_3",
   "language": "python",
   "name": "python3"
  },
  "language_info": {
   "codemirror_mode": {
    "name": "ipython",
    "version": 3
   },
   "file_extension": ".py",
   "mimetype": "text/x-python",
   "name": "python",
   "nbconvert_exporter": "python",
   "pygments_lexer": "ipython3",
   "version": "3.10.13"
  }
 },
 "nbformat": 4,
 "nbformat_minor": 2
}
