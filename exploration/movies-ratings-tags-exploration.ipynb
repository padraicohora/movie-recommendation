{
 "cells": [
  {
   "cell_type": "code",
   "execution_count": 3,
   "metadata": {},
   "outputs": [],
   "source": [
    "import pandas as pd\n",
    "import numpy as np\n",
    "import matplotlib.pyplot as plt\n",
    "chunksize=100000\n",
    "import seaborn as sns\n",
    "import matplotlib.pyplot as plt"
   ]
  },
  {
   "cell_type": "code",
   "execution_count": null,
   "metadata": {},
   "outputs": [
    {
     "name": "stdout",
     "output_type": "stream",
     "text": [
      "Chunk 0 loaded\n",
      "ratings dataset loaded\n"
     ]
    }
   ],
   "source": [
    "# movies\n",
    "date_parser = lambda x: pd.to_datetime(x, unit='s')\n",
    "\n",
    "# movies\n",
    "data = pd.DataFrame()  # initialize an empty dataframe\n",
    "for index, chunk in enumerate(pd.read_csv('../samples/combined_movies_ratings_tags.csv',\n",
    "                         chunksize=chunksize,\n",
    "                         )):\n",
    "    # Perform operations on the chunk\n",
    "    # processed_chunk = chunk[chunk['column_name'] > 0]  # Example operation\n",
    "    data = pd.concat([data, chunk])\n",
    "    print(f\"Chunk {index} loaded\")\n",
    "print(\"ratings dataset loaded\")"
   ]
  },
  {
   "cell_type": "markdown",
   "metadata": {},
   "source": [
    "I have combined the datasets and loaded them into the file, next I will explore the combined dataset"
   ]
  }
 ],
 "metadata": {
  "kernelspec": {
   "display_name": "movie-recommender",
   "language": "python",
   "name": "python3"
  },
  "language_info": {
   "codemirror_mode": {
    "name": "ipython",
    "version": 3
   },
   "file_extension": ".py",
   "mimetype": "text/x-python",
   "name": "python",
   "nbconvert_exporter": "python",
   "pygments_lexer": "ipython3",
   "version": "3.10.14"
  }
 },
 "nbformat": 4,
 "nbformat_minor": 2
}
