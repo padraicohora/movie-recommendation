{
 "cells": [
  {
   "cell_type": "code",
   "execution_count": 41,
   "metadata": {
    "vscode": {
     "languageId": "shellscript"
    }
   },
   "outputs": [],
   "source": [
    "# conda activate movie-recommender          # activate environment in terminal         \n"
   ]
  },
  {
   "cell_type": "code",
   "execution_count": 42,
   "metadata": {},
   "outputs": [],
   "source": [
    "import pandas as pd\n",
    "import numpy as np\n",
    "import matplotlib.pyplot as plt\n",
    "chunksize=100000\n",
    "import seaborn as sns\n",
    "import matplotlib.pyplot as plt\n"
   ]
  },
  {
   "cell_type": "code",
   "execution_count": 43,
   "metadata": {},
   "outputs": [
    {
     "name": "stdout",
     "output_type": "stream",
     "text": [
      "Chunk 0 loaded\n",
      "movies dataset loaded\n"
     ]
    }
   ],
   "source": [
    "\n",
    "\n",
    "# ratings\n",
    "movies = pd.DataFrame()  # initialize an empty dataframe\n",
    "for index, chunk in enumerate(pd.read_csv('../ml-20m/movies.csv',\n",
    "                         dtype={'movieId': str, 'title': str, \"genres\": str},\n",
    "                         chunksize=chunksize,\n",
    "                         )):\n",
    "    # Perform operations on the chunk\n",
    "    # processed_chunk = chunk[chunk['column_name'] > 0]  # Example operation\n",
    "    movies = pd.concat([movies, chunk])\n",
    "    print(f\"Chunk {index} loaded\")\n",
    "print(\"movies dataset loaded\")"
   ]
  },
  {
   "cell_type": "code",
   "execution_count": 44,
   "metadata": {},
   "outputs": [
    {
     "data": {
      "text/plain": [
       "movieId    27278\n",
       "title      27262\n",
       "genres      1342\n",
       "dtype: int64"
      ]
     },
     "execution_count": 44,
     "metadata": {},
     "output_type": "execute_result"
    }
   ],
   "source": [
    "movies.nunique()"
   ]
  },
  {
   "cell_type": "code",
   "execution_count": 45,
   "metadata": {},
   "outputs": [
    {
     "data": {
      "text/plain": [
       "array(['Adventure|Animation|Children|Comedy|Fantasy',\n",
       "       'Adventure|Children|Fantasy', 'Comedy|Romance', ...,\n",
       "       'Action|Adventure|Animation|Fantasy|Horror',\n",
       "       'Animation|Children|Comedy|Fantasy|Sci-Fi',\n",
       "       'Animation|Children|Comedy|Western'], dtype=object)"
      ]
     },
     "execution_count": 45,
     "metadata": {},
     "output_type": "execute_result"
    }
   ],
   "source": [
    "movies[\"genres\"].unique()"
   ]
  },
  {
   "cell_type": "code",
   "execution_count": 50,
   "metadata": {},
   "outputs": [
    {
     "data": {
      "text/plain": [
       "genre_1      genre_2    genre_3    genre_4  genre_5  genre_6  genre_7  genre_8  genre_9  genre_10\n",
       "Drama        None       None       None     None     None     None     None     None     None        4520\n",
       "Comedy       None       None       None     None     None     None     None     None     None        2294\n",
       "Documentary  None       None       None     None     None     None     None     None     None        1942\n",
       "Comedy       Drama      None       None     None     None     None     None     None     None        1264\n",
       "Drama        Romance    None       None     None     None     None     None     None     None        1075\n",
       "                                                                                                     ... \n",
       "Animation    Comedy     Fantasy    Musical  Romance  None     None     None     None     None           1\n",
       "                        Horror     IMAX     None     None     None     None     None     None           1\n",
       "                                   Musical  None     None     None     None     None     None           1\n",
       "                                   None     None     None     None     None     None     None           1\n",
       "Action       Adventure  Animation  Comedy   Fantasy  Sci-Fi   None     None     None     None           1\n",
       "Name: count, Length: 1342, dtype: int64"
      ]
     },
     "execution_count": 50,
     "metadata": {},
     "output_type": "execute_result"
    }
   ],
   "source": [
    "# Splitting the 'Genres' column into multiple columns\n",
    "split_genres = movies['genres'].str.split('|', expand=True)\n",
    "\n",
    "# Filling NaN values with a specific value, e.g., 'None'\n",
    "split_genres = split_genres.fillna('None')\n",
    "genre_list_size=len(split_genres.columns)\n",
    "genre_list = [f'genre_{i}' for i in range(1, genre_list_size+1)]\n",
    "split_genres.columns = genre_list \n",
    "# Adding the split columns back to the original DataFrame\n",
    "# movies = movies.join(split_genres)\n",
    "movies_split_genres = pd.merge(movies, split_genres, left_index=True, right_index=True)\n",
    "movies_split_genres[genre_list].value_counts()"
   ]
  },
  {
   "cell_type": "markdown",
   "metadata": {},
   "source": [
    "next i want ot stack the genres on top of eachother so that there will be one column of genres to each movie"
   ]
  }
 ],
 "metadata": {
  "kernelspec": {
   "display_name": "movie-recommender",
   "language": "python",
   "name": "python3"
  },
  "language_info": {
   "codemirror_mode": {
    "name": "ipython",
    "version": 3
   },
   "file_extension": ".py",
   "mimetype": "text/x-python",
   "name": "python",
   "nbconvert_exporter": "python",
   "pygments_lexer": "ipython3",
   "version": "3.10.14"
  }
 },
 "nbformat": 4,
 "nbformat_minor": 2
}
