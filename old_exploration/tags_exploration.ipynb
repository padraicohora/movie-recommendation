{
 "cells": [
  {
   "cell_type": "code",
   "execution_count": null,
   "metadata": {
    "vscode": {
     "languageId": "shellscript"
    }
   },
   "outputs": [],
   "source": [
    "# conda activate movie-recommender          # activate environment in terminal         \n"
   ]
  },
  {
   "cell_type": "code",
   "execution_count": 2,
   "metadata": {},
   "outputs": [],
   "source": [
    "import pandas as pd\n",
    "import numpy as np\n",
    "import matplotlib.pyplot as plt\n",
    "chunksize=100000\n",
    "import seaborn as sns\n",
    "import matplotlib.pyplot as plt\n"
   ]
  },
  {
   "cell_type": "code",
   "execution_count": 3,
   "metadata": {},
   "outputs": [
    {
     "name": "stderr",
     "output_type": "stream",
     "text": [
      "/var/folders/55/xtgthnr12lz2b2j6l0pqj7zm0459s6/T/ipykernel_89936/3697212541.py:6: FutureWarning: The argument 'date_parser' is deprecated and will be removed in a future version. Please use 'date_format' instead, or read your data in as 'object' dtype and then call 'to_datetime'.\n",
      "  for index, chunk in enumerate(pd.read_csv('../ml-20m/tags.csv',\n"
     ]
    },
    {
     "name": "stdout",
     "output_type": "stream",
     "text": [
      "Chunk 0 loaded\n",
      "Chunk 1 loaded\n",
      "Chunk 2 loaded\n",
      "Chunk 3 loaded\n",
      "Chunk 4 loaded\n",
      "Tags dataset loaded\n"
     ]
    }
   ],
   "source": [
    "# Custom date parser function\n",
    "date_parser = lambda x: pd.to_datetime(x, unit='s')\n",
    "\n",
    "# ratings\n",
    "tags = pd.DataFrame()  # initialize an empty dataframe\n",
    "for index, chunk in enumerate(pd.read_csv('../ml-20m/tags.csv',\n",
    "                         dtype={'userId': str, 'movieId': str, \"tag\": str, 'timestamp': int},\n",
    "                         chunksize=chunksize,\n",
    "                         parse_dates=['timestamp'],\n",
    "                         date_parser=date_parser\n",
    "                         )):\n",
    "    # Perform operations on the chunk\n",
    "    # processed_chunk = chunk[chunk['column_name'] > 0]  # Example operation\n",
    "    tags = pd.concat([tags, chunk])\n",
    "    print(f\"Chunk {index} loaded\")\n",
    "print(\"Tags dataset loaded\")"
   ]
  }
 ],
 "metadata": {
  "kernelspec": {
   "display_name": "movie-recommender",
   "language": "python",
   "name": "python3"
  },
  "language_info": {
   "codemirror_mode": {
    "name": "ipython",
    "version": 3
   },
   "file_extension": ".py",
   "mimetype": "text/x-python",
   "name": "python",
   "nbconvert_exporter": "python",
   "pygments_lexer": "ipython3",
   "version": "3.10.14"
  }
 },
 "nbformat": 4,
 "nbformat_minor": 2
}
